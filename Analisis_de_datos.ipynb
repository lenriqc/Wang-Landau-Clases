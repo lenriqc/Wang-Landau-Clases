{
 "cells": [
  {
   "cell_type": "markdown",
   "metadata": {},
   "source": [
    "# Paquetería necesaria"
   ]
  },
  {
   "cell_type": "code",
   "execution_count": null,
   "metadata": {
    "collapsed": true
   },
   "outputs": [],
   "source": [
    "using PyPlot\n",
    "using Interact\n",
    "using LaTeXStrings"
   ]
  },
  {
   "cell_type": "markdown",
   "metadata": {},
   "source": [
    "##Llamar a archivos necesarios para trabajar"
   ]
  },
  {
   "cell_type": "code",
   "execution_count": null,
   "metadata": {
    "collapsed": false
   },
   "outputs": [],
   "source": [
    "L = 12\n",
    "# = \"WL2D\"\n",
    "#geometria = \"triangular\"\n",
    "#modelo = \"Is_antiferr\"\n",
    "caracterizacion = \"WL2D_triangular_L_$(L)_Is_ferr_cam_10_f_0.0001\"\n",
    "#datos = readdlm(\"Entropia_2D_final_$(algoritmo)_$(geometria)_L_$(L)_$(modelo).txt\")\n",
    "datos = readdlm(\"Entropia_2D_final_$(caracterizacion).txt\")"
   ]
  },
  {
   "cell_type": "code",
   "execution_count": null,
   "metadata": {
    "collapsed": false
   },
   "outputs": [],
   "source": [
    "sistema =  readdlm(\"Datos_del_sistema_$(caracterizacion).txt\")"
   ]
  },
  {
   "cell_type": "markdown",
   "metadata": {},
   "source": [
    "#Creando variables y arreglos necesarios "
   ]
  },
  {
   "cell_type": "code",
   "execution_count": null,
   "metadata": {
    "collapsed": false
   },
   "outputs": [],
   "source": [
    "temperatura = [.4:.1:8]\n",
    "β = 1./temperatura\n",
    "h = [0:.2:4]\n",
    "m = length(β)\n",
    "n = length(h)\n",
    "l = size(datos)[1];"
   ]
  },
  {
   "cell_type": "code",
   "execution_count": null,
   "metadata": {
    "collapsed": false
   },
   "outputs": [],
   "source": [
    "constante_de_renormalización = [0.0 for i in 1:length(β), j in 1:length(h)]\n",
    "energía_promedio = [0.0 for i in 1:length(β), j in 1:length(h)]\n",
    "magnetización_promedio = [0.0 for i in 1:length(β), j in 1:length(h)]\n",
    "parámetro_de_orden_promedio = [0.0 for i in 1:length(β), j in 1:length(h)]\n",
    "capacidad_calorífica = [0.0 for i in 1:length(β), j in 1:length(h)]\n",
    "susceptibilidad_magnética = [0.0 for i in 1:length(β), j in 1:length(h)];"
   ]
  },
  {
   "cell_type": "markdown",
   "metadata": {},
   "source": [
    "#Creando funciones"
   ]
  },
  {
   "cell_type": "code",
   "execution_count": null,
   "metadata": {
    "collapsed": false
   },
   "outputs": [],
   "source": [
    "function Renormalizar(i,j)\n",
    "    for k in 1:l\n",
    "        if constante_de_renormalización[i,j]<=datos[k,3]-β[i]*(datos[k,1]-h[j]*datos[k,2])\n",
    "            constante_de_renormalización[i,j]=datos[k,3]-β[i]*(datos[k,1]-h[j]*datos[k,2])\n",
    "        end\n",
    "    end\n",
    "end "
   ]
  },
  {
   "cell_type": "code",
   "execution_count": null,
   "metadata": {
    "collapsed": false
   },
   "outputs": [],
   "source": [
    "function Rellenar_matriz_de_renormalización()\n",
    "    for i=1:length(β) \n",
    "        for j=1:length(h)\n",
    "            Renormalizar(i,j)\n",
    "        end\n",
    "    end\n",
    "end"
   ]
  },
  {
   "cell_type": "code",
   "execution_count": null,
   "metadata": {
    "collapsed": true
   },
   "outputs": [],
   "source": [
    "Rellenar_matriz_de_renormalización()"
   ]
  },
  {
   "cell_type": "code",
   "execution_count": null,
   "metadata": {
    "collapsed": false
   },
   "outputs": [],
   "source": [
    "function Variables_Macroscópicas(i,j)\n",
    "    función_de_partición_1D = 0.0\n",
    "    función_de_partición_2D = 0.0\n",
    "    energía = 0.0\n",
    "    energía_cuadrada = 0.0\n",
    "    magnetización = 0.0\n",
    "    magnetización_cuadrada = 0.0\n",
    "    parámetro_de_orden = 0.0\n",
    "    exponente = 0.0\n",
    "    for k in 1:l\n",
    "        exponente = datos[k,3] - β[i]*(datos[k,1]-h[j]*datos[k,2]) - constante_de_renormalización[i,j]\n",
    "        función_de_partición_2D += exp(exponente)\n",
    "        energía += abs(datos[k,1])*exp(exponente)\n",
    "        energía_cuadrada += datos[k,1]*datos[k,1]*exp(exponente)\n",
    "        magnetización += abs(datos[k,2])*exp(exponente)\n",
    "        magnetización_cuadrada += datos[k,2]*datos[k,2]*exp(exponente)\n",
    "        parámetro_de_orden += abs(datos[k,4])*exp(exponente)\n",
    "    end\n",
    "    energía_promedio[i,j] = (energía)/(función_de_partición_2D*sistema[2])\n",
    "    magnetización_promedio[i,j] = (magnetización)/(función_de_partición_2D*sistema[2])\n",
    "    parámetro_de_orden_promedio[i,j] = (parámetro_de_orden)/(función_de_partición_2D*sistema[2])\n",
    "    capacidad_calorífica[i,j] = abs(energía_cuadrada - energía*energía)/(función_de_partición_2D*sistema[2]*sistema[2])\n",
    "    susceptibilidad_magnética[i,j] = abs(magnetización_cuadrada - magnetización*magnetización)/(función_de_partición_2D*sistema[2]*sistema[2])\n",
    "end"
   ]
  },
  {
   "cell_type": "code",
   "execution_count": null,
   "metadata": {
    "collapsed": false
   },
   "outputs": [],
   "source": [
    "function Obtener_variables_macroscópicas()\n",
    "    for i=1:m\n",
    "        for j=1:n\n",
    "            Variables_Macroscópicas(i,j)\n",
    "        end\n",
    "    end\n",
    "end"
   ]
  },
  {
   "cell_type": "markdown",
   "metadata": {},
   "source": [
    "##Obtener y graficar variables macroscópicas"
   ]
  },
  {
   "cell_type": "code",
   "execution_count": null,
   "metadata": {
    "collapsed": false
   },
   "outputs": [],
   "source": [
    "Obtener_variables_macroscópicas()"
   ]
  },
  {
   "cell_type": "code",
   "execution_count": null,
   "metadata": {
    "collapsed": false
   },
   "outputs": [],
   "source": [
    "fig = figure()\n",
    "\n",
    "@manipulate for i in 1:n\n",
    "    withfig(fig) do\n",
    "        subplot(221)\n",
    "        ylim(0,1.05)\n",
    "        xlabel(L\"Temperatura\")\n",
    "        ylabel(L\"P.O.\")\n",
    "        plot(temperatura,parámetro_de_orden_promedio[:,i], label = latexstring(\"h=$(h[j])\"))\n",
    "        legend()\n",
    "        subplot(222)\n",
    "        xlabel(L\"Temperatura\")\n",
    "        ylabel(L\"Energía\")\n",
    "        plot(temperatura,energía_promedio[:,i], label = latexstring(\"h=$(h[j])\"))\n",
    "        legend()\n",
    "        subplot(223)\n",
    "        xlabel(L\"Temperatura\")\n",
    "        ylabel(L\"Capacidad\\ calorífica\")\n",
    "        plot(temperatura,capacidad_calorífica[:,i], label = latexstring(\"h=$(h[j])\"))\n",
    "        legend()\n",
    "        subplot(224)\n",
    "        xlabel(L\"Temperatura\")\n",
    "        ylabel(L\"Susceptibilidad\\ magnética\")\n",
    "        plot(temperatura,susceptibilidad_magnética[:,i], label = latexstring(\"h=$(h[j])\"))\n",
    "        legend()\n",
    "    end\n",
    "end"
   ]
  },
  {
   "cell_type": "code",
   "execution_count": null,
   "metadata": {
    "collapsed": false
   },
   "outputs": [],
   "source": [
    "function grafica_magnetizacion_h_fija(j)\n",
    "    ylim(0,1.05)\n",
    "    xlabel(L\"Temperatura\")\n",
    "    ylabel(L\"P.O.\")\n",
    "    title(L\"Parámetro\\ de\\ orden\")\n",
    "    plot(temperatura,parámetro_de_orden_promedio[:,j], label = latexstring(\"h=$(h[j])\"))\n",
    "    legend()\n",
    "end"
   ]
  },
  {
   "cell_type": "code",
   "execution_count": null,
   "metadata": {
    "collapsed": false
   },
   "outputs": [],
   "source": [
    "function grafica_observable_macroscópica_con_h_fija(observable_macroscópica, cadena)\n",
    "    xlabel(L\"Temperatura\")\n",
    "    ylabel(cadena)\n",
    "    title(cadena)\n",
    "    plot(temperatura,observable_macroscópica, label = latexstring(\"h=$(h[j])\"))\n",
    "    legend()\n",
    "end\n",
    "\n",
    "#;open Magnetizacion_$(caracterizacion).pdf"
   ]
  },
  {
   "cell_type": "code",
   "execution_count": null,
   "metadata": {
    "collapsed": false
   },
   "outputs": [],
   "source": [
    "j=4\n",
    "grafica_observable_macroscópica_con_h_fija(capacidad_calorífica[:,j], L\"Capacidad\\ calorífica\")\n",
    "savefig(\"Capacidad_calorifica_$(caracterizacion)_h_$(int(h[j]*10))E-1.pdf\")"
   ]
  },
  {
   "cell_type": "code",
   "execution_count": null,
   "metadata": {
    "collapsed": false
   },
   "outputs": [],
   "source": [
    "entrada = 1\n",
    "grafica_magnetizacion_h_fija(entrada)\n",
    "savefig(\"Magnetizacion_$(caracterizacion)_h_$(int(h[entrada]*10))E-1.pdf\")"
   ]
  },
  {
   "cell_type": "code",
   "execution_count": null,
   "metadata": {
    "collapsed": false
   },
   "outputs": [],
   "source": [
    "\n",
    "for i in 1:n\n",
    "        ylim(0,1.05)\n",
    "    plot(temperatura,magnetización_promedio[:,i],label = \"h=$i\")\n",
    "    #legend (loc=\"upper right\")\n",
    "    xlabel (L\"Temperatura\")\n",
    "    ylabel (L\"Parámetro\\ de\\ orden\")\n",
    "end\n",
    "#text(1.,.5,L\"h=2\")"
   ]
  },
  {
   "cell_type": "markdown",
   "metadata": {},
   "source": [
    "##Graficar entropía exacta (si la hay)"
   ]
  },
  {
   "cell_type": "code",
   "execution_count": null,
   "metadata": {
    "collapsed": false
   },
   "outputs": [],
   "source": [
    "function grafica3d(angle,x,y,z)\n",
    "    plot3D(x,y,z, \"o\", alpha=0.2 )\n",
    "        ax = gca()\n",
    "        ax[:view_init](elev=30., azim=angle)\n",
    "end"
   ]
  },
  {
   "cell_type": "code",
   "execution_count": null,
   "metadata": {
    "collapsed": false
   },
   "outputs": [],
   "source": [
    "fig = figure(figsize=(8,6))\n",
    "@manipulate for angle=0:10:360\n",
    "    withfig(fig) do\n",
    "        grafica3d(angle,datos[:,1],datos[:,2],datos[:,3])\n",
    "    end\n",
    "end"
   ]
  },
  {
   "cell_type": "code",
   "execution_count": null,
   "metadata": {
    "collapsed": false
   },
   "outputs": [],
   "source": [
    "function grafica3d_exact(angle)\n",
    "    plot3D(exact[:2], exact[:3], exact[:1], \"o\", alpha=0.2 )\n",
    "        ax = gca()\n",
    "        ax[:view_init](elev=30., azim=angle)\n",
    "end"
   ]
  },
  {
   "cell_type": "markdown",
   "metadata": {
    "collapsed": true
   },
   "source": [
    "##Graficar entropía simulada"
   ]
  },
  {
   "cell_type": "code",
   "execution_count": null,
   "metadata": {
    "collapsed": true
   },
   "outputs": [],
   "source": [
    "function grafica3d(angle,x,y,z)\n",
    "    plot3D(x,y,z, \"o\", alpha=0.2 )\n",
    "        ax = gca()\n",
    "        ax[:view_init](elev=30., azim=angle)\n",
    "end"
   ]
  },
  {
   "cell_type": "code",
   "execution_count": null,
   "metadata": {
    "collapsed": false
   },
   "outputs": [],
   "source": [
    "function grafica3d_entropia(angle)\n",
    "    plot3D(datos[:,1],datos[:,2],datos[:,3], \"o\", alpha=0.2 )\n",
    "        ax = gca()\n",
    "        ax[:view_init](elev=30., azim=angle)\n",
    "end"
   ]
  },
  {
   "cell_type": "code",
   "execution_count": null,
   "metadata": {
    "collapsed": false
   },
   "outputs": [],
   "source": [
    "fig = figure(figsize=(5,4))\n",
    "@manipulate for angle=0:10:360\n",
    "    withfig(fig) do\n",
    "        surf(temperatura, h, magnetización_promedio', alpha=0.2, rstride=3, cstride=3)\n",
    "        ax = gca()\n",
    "        ax[:view_init](elev=30., azim=angle)\n",
    "        xlabel(L\"T\")\n",
    "        ylabel(L\"h\")\n",
    "        zlabel(L\"M(T,h)\")\n",
    "    end\n",
    "end"
   ]
  },
  {
   "cell_type": "code",
   "execution_count": null,
   "metadata": {
    "collapsed": false
   },
   "outputs": [],
   "source": [
    "fig = figure(figsize=(8,6))\n",
    "@manipulate for angle=0:10:360\n",
    "    withfig(fig) do\n",
    "        grafica3d_entropia(angle)\n",
    "    end\n",
    "end\n",
    "#savefig(\"hola.pdf\")"
   ]
  },
  {
   "cell_type": "code",
   "execution_count": null,
   "metadata": {
    "collapsed": false
   },
   "outputs": [],
   "source": [
    "grafica3d_entropia(220)\n",
    "savefig(\"Entropia_2D_$(caracterizacion).pdf\")"
   ]
  },
  {
   "cell_type": "code",
   "execution_count": null,
   "metadata": {
    "collapsed": false
   },
   "outputs": [],
   "source": [
    ";open Entropia_2D_$(caracterizacion).pdf"
   ]
  },
  {
   "cell_type": "code",
   "execution_count": null,
   "metadata": {
    "collapsed": false
   },
   "outputs": [],
   "source": [
    "datos"
   ]
  },
  {
   "cell_type": "code",
   "execution_count": null,
   "metadata": {
    "collapsed": false
   },
   "outputs": [],
   "source": [
    "exact = readdlm(\"ising_c16xc16.txt\")"
   ]
  },
  {
   "cell_type": "code",
   "execution_count": null,
   "metadata": {
    "collapsed": false
   },
   "outputs": [],
   "source": [
    "exact[:,2]=exact[:,2]*(-1)"
   ]
  },
  {
   "cell_type": "code",
   "execution_count": null,
   "metadata": {
    "collapsed": false
   },
   "outputs": [],
   "source": [
    "exact"
   ]
  },
  {
   "cell_type": "code",
   "execution_count": null,
   "metadata": {
    "collapsed": false
   },
   "outputs": [],
   "source": [
    "function grafica3d_exact(angle)\n",
    "    plot3D(exact[:,2], exact[:,3], log(exact[:,1]), \"o\", alpha=0.2 )\n",
    "        ax = gca()\n",
    "        ax[:view_init](elev=30., azim=angle)\n",
    "end"
   ]
  },
  {
   "cell_type": "code",
   "execution_count": null,
   "metadata": {
    "collapsed": false
   },
   "outputs": [],
   "source": [
    "map(x -> x^2,h); # x ↦ x²"
   ]
  },
  {
   "cell_type": "code",
   "execution_count": null,
   "metadata": {
    "collapsed": false
   },
   "outputs": [],
   "source": [
    "exact = sortrows(exact, by=x->(x[2],x[3]))"
   ]
  },
  {
   "cell_type": "code",
   "execution_count": null,
   "metadata": {
    "collapsed": false
   },
   "outputs": [],
   "source": [
    "grafica3d_exact(220)\n",
    "savefig(\"entropia_exacta_L_$L.pdf\")"
   ]
  },
  {
   "cell_type": "code",
   "execution_count": null,
   "metadata": {
    "collapsed": true
   },
   "outputs": [],
   "source": []
  },
  {
   "cell_type": "code",
   "execution_count": null,
   "metadata": {
    "collapsed": false
   },
   "outputs": [],
   "source": [
    "fig = figure(figsize=(8,6))\n",
    "@manipulate for angle=0:10:360\n",
    "#    @manipulate for latitud=-70:10:70\n",
    "    withfig(fig) do\n",
    "        plot3D(datos[:,1], datos[:,2], datos[:,3]-log(exact[:,1]), \"o\", alpha=0.2 )\n",
    "        ax = gca()\n",
    "            ax[:view_init](elev=30., azim=angle)\n",
    "#    end\n",
    "    end\n",
    "end\n"
   ]
  },
  {
   "cell_type": "code",
   "execution_count": null,
   "metadata": {
    "collapsed": false
   },
   "outputs": [],
   "source": [
    "plot3D(datos[:,1], datos[:,2], datos[:,3]-log(exact[:,1]), \"o\", alpha=0.2 )\n",
    "        ax = gca()\n",
    "            ax[:view_init](elev=30., azim=220)\n",
    "savefig(\"entropia_exacta_vs_entropia_sim_L_$L.pdf\")"
   ]
  },
  {
   "cell_type": "code",
   "execution_count": null,
   "metadata": {
    "collapsed": true
   },
   "outputs": [],
   "source": []
  }
 ],
 "metadata": {
  "kernelspec": {
   "display_name": "Julia 0.3.11",
   "language": "julia",
   "name": "julia-0.3"
  },
  "language_info": {
   "name": "julia",
   "version": "0.3.11"
  }
 },
 "nbformat": 4,
 "nbformat_minor": 0
}

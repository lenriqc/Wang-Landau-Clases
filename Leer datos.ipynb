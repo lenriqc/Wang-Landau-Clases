{
 "cells": [
  {
   "cell_type": "code",
   "execution_count": 5,
   "metadata": {
    "collapsed": false
   },
   "outputs": [
    {
     "name": "stdout",
     "output_type": "stream",
     "text": [
      "1280×720\n",
      "A1.pdf\n",
      "Capacidad_calorifica_L_10_h_3.txt\n",
      "Cumulante_de_binder_L_10_h_3.txt\n",
      "Documento sin título 1\n",
      "Entropia_2D_L_10_h_3.txt\n",
      "Entropia_L_10_h_3.txt\n",
      "Histograma_L_10_h_3.txt\n",
      "Magnetizacion_L_10_h_3.txt\n",
      "Parametro_de_orden_L_10_h_3.txt\n",
      "Suceptibilidad_magnetica_L_10_h_3.txt\n",
      "Untitled.ipynb\n",
      "aleatorios.h\n",
      "algor-wang.h\n",
      "algoritmo.h\n",
      "algoritmo3.h~\n",
      "animacion.cpp\n",
      "animacion_modelos1.cpp\n",
      "animacion_triangular2.cpp\n",
      "c\n",
      "calculos.h\n",
      "comp.sh\n",
      "datos.h\n",
      "display.h\n",
      "modelo.h\n",
      "observables.h\n",
      "obtenerdatos3.h\n",
      "output.pdf\n",
      "red.h\n",
      "sim-linux.sh\n",
      "sim-linux.sh~\n",
      "sim.scpt\n",
      "sim.sh\n",
      "sim.sh~\n",
      "simulacion\n",
      "simulacion.cpp\n"
     ]
    }
   ],
   "source": [
    ";ls  "
   ]
  },
  {
   "cell_type": "code",
   "execution_count": 8,
   "metadata": {
    "collapsed": false
   },
   "outputs": [
    {
     "data": {
      "text/plain": [
       "1414x2 Array{Any,2}:\n",
       "     \"\"      \"\"    \n",
       "  #undef  #undef   \n",
       " -200.0   620.0    \n",
       " -192.0   692.0    \n",
       " -188.0   701.0    \n",
       " -184.0   774.0    \n",
       " -180.0   774.0    \n",
       " -176.0   780.0    \n",
       " -172.0   779.0    \n",
       " -168.0   835.0    \n",
       " -164.0   868.0    \n",
       " -160.0   887.0    \n",
       " -156.0   900.0    \n",
       "    ⋮              \n",
       "  152.0    26.3505 \n",
       "  156.0    24.6379 \n",
       "  160.0    22.7806 \n",
       "  164.0    21.0415 \n",
       "  168.0    19.2803 \n",
       "  172.0    17.2936 \n",
       "  176.0    15.6348 \n",
       "  180.0    13.2847 \n",
       "  184.0    11.9535 \n",
       "  188.0     8.78821\n",
       "  192.0     8.08765\n",
       "  200.0     3.71729"
      ]
     },
     "execution_count": 8,
     "metadata": {},
     "output_type": "execute_result"
    }
   ],
   "source": [
    "L = 10\n",
    "g = readdlm(\"Entropia_L_$(L)_h_3.txt\")"
   ]
  },
  {
   "cell_type": "code",
   "execution_count": null,
   "metadata": {
    "collapsed": true
   },
   "outputs": [],
   "source": []
  }
 ],
 "metadata": {
  "kernelspec": {
   "display_name": "Julia 0.3.11",
   "language": "julia",
   "name": "julia-0.3"
  },
  "language_info": {
   "name": "julia",
   "version": "0.3.11"
  }
 },
 "nbformat": 4,
 "nbformat_minor": 0
}

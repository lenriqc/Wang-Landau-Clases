{
 "cells": [
  {
   "cell_type": "markdown",
   "metadata": {},
   "source": [
    "## Explicación"
   ]
  },
  {
   "cell_type": "markdown",
   "metadata": {},
   "source": [
    "En este programa se calcula la exactitud de los resultados obtenidos con la simulación, es decir que tan alejados están en promedio de los valores teóricos. Para ello se otendrá el promedio de la desviación de cada S(E,M) experimental respecto al S(E,M). La medida de la desviación estándar será la manera de concluir el grado de exactitud."
   ]
  },
  {
   "cell_type": "markdown",
   "metadata": {},
   "source": [
    "# Paquetería necesaria"
   ]
  },
  {
   "cell_type": "code",
   "execution_count": 3,
   "metadata": {
    "collapsed": false
   },
   "outputs": [
    {
     "data": {
      "text/html": [
       "<script charset=\"utf-8\">(function ($, undefined) {\n",
       "\n",
       "    function createElem(tag, attr, content) {\n",
       "\t// TODO: remove jQuery dependency\n",
       "\tvar el = $(\"<\" + tag + \"/>\").attr(attr);\n",
       "\tif (content) {\n",
       "\t    el.append(content);\n",
       "\t}\n",
       "\treturn el[0];\n",
       "    }\n",
       "\n",
       "    // A widget must expose an id field which identifies it to the backend,\n",
       "    // an elem attribute which is will be added to the DOM, and\n",
       "    // a getState() method which returns the value to be sent to the backend\n",
       "    // a sendUpdate() method which sends its current value to the backend\n",
       "    var Widget = {\n",
       "\tid: undefined,\n",
       "\telem: undefined,\n",
       "\tlabel: undefined,\n",
       "\tgetState: function () {\n",
       "\t    return this.elem.value;\n",
       "\t},\n",
       "\tsendUpdate: undefined\n",
       "    };\n",
       "\n",
       "    var Slider = function (typ, id, init) {\n",
       "\tvar attr = { type:  \"range\",\n",
       "\t\t     value: init.value,\n",
       "\t\t     min:   init.min,\n",
       "\t\t     max:   init.max,\n",
       "\t\t     step:  init.step },\n",
       "\t    elem = createElem(\"input\", attr),\n",
       "\t    self = this;\n",
       "\n",
       "\telem.onchange = function () {\n",
       "\t    self.sendUpdate();\n",
       "\t}\n",
       "\n",
       "\tthis.id = id;\n",
       "\tthis.elem = elem;\n",
       "\tthis.label = init.label;\n",
       "\n",
       "\tInputWidgets.commInitializer(this); // Initialize communication\n",
       "    }\n",
       "    Slider.prototype = Widget;\n",
       "\n",
       "    var Checkbox = function (typ, id, init) {\n",
       "\tvar attr = { type: \"checkbox\",\n",
       "\t\t     checked: init.value },\n",
       "\t    elem = createElem(\"input\", attr),\n",
       "\t    self = this;\n",
       "\n",
       "\tthis.getState = function () {\n",
       "\t    return elem.checked;\n",
       "\t}\n",
       "\telem.onchange = function () {\n",
       "\t    self.sendUpdate();\n",
       "\t}\n",
       "\n",
       "\tthis.id = id;\n",
       "\tthis.elem = elem;\n",
       "\tthis.label = init.label;\n",
       "\n",
       "\tInputWidgets.commInitializer(this);\n",
       "    }\n",
       "    Checkbox.prototype = Widget;\n",
       "\n",
       "    var Button = function (typ, id, init) {\n",
       "\tvar attr = { type:    \"button\",\n",
       "\t\t     value:   init.label },\n",
       "\t    elem = createElem(\"input\", attr),\n",
       "\t    self = this;\n",
       "\tthis.getState = function () {\n",
       "\t    return null;\n",
       "\t}\n",
       "\telem.onclick = function () {\n",
       "\t    self.sendUpdate();\n",
       "\t}\n",
       "\n",
       "\tthis.id = id;\n",
       "\tthis.elem = elem;\n",
       "\tthis.label = init.label;\n",
       "\n",
       "\tInputWidgets.commInitializer(this);\n",
       "    }\n",
       "    Button.prototype = Widget;\n",
       "\n",
       "    var Text = function (typ, id, init) {\n",
       "\tvar attr = { type:  \"text\",\n",
       "\t\t     placeholder: init.label,\n",
       "\t\t     value: init.value },\n",
       "\t    elem = createElem(\"input\", attr),\n",
       "\t    self = this;\n",
       "\tthis.getState = function () {\n",
       "\t    return elem.value;\n",
       "\t}\n",
       "\telem.onkeyup = function () {\n",
       "\t    self.sendUpdate();\n",
       "\t}\n",
       "\n",
       "\tthis.id = id;\n",
       "\tthis.elem = elem;\n",
       "\tthis.label = init.label;\n",
       "\n",
       "\tInputWidgets.commInitializer(this);\n",
       "    }\n",
       "    Text.prototype = Widget;\n",
       "\n",
       "    var Textarea = function (typ, id, init) {\n",
       "\tvar attr = { placeholder: init.label },\n",
       "\t    elem = createElem(\"textarea\", attr, init.value),\n",
       "\t    self = this;\n",
       "\tthis.getState = function () {\n",
       "\t    return elem.value;\n",
       "\t}\n",
       "\telem.onchange = function () {\n",
       "\t    self.sendUpdate();\n",
       "\t}\n",
       "\n",
       "\tthis.id = id;\n",
       "\tthis.elem = elem;\n",
       "\tthis.label = init.label;\n",
       "\n",
       "\tInputWidgets.commInitializer(this);\n",
       "    }\n",
       "    Textarea.prototype = Widget;\n",
       "\n",
       "    // RadioButtons\n",
       "    // Dropdown\n",
       "    // HTML\n",
       "    // Latex\n",
       "\n",
       "    var InputWidgets = {\n",
       "\tSlider: Slider,\n",
       "\tCheckbox: Checkbox,\n",
       "\tButton: Button,\n",
       "\tText: Text,\n",
       "\tTextarea: Textarea,\n",
       "\tdebug: false,\n",
       "\tlog: function () {\n",
       "\t    if (InputWidgets.debug) {\n",
       "\t\tconsole.log.apply(console, arguments);\n",
       "\t    }\n",
       "\t},\n",
       "\t// a central way to initalize communication\n",
       "\t// for widgets.\n",
       "\tcommInitializer: function (widget) {\n",
       "\t    widget.sendUpdate = function () {};\n",
       "\t}\n",
       "    };\n",
       "\n",
       "    window.InputWidgets = InputWidgets;\n",
       "\n",
       "})(jQuery, undefined);\n",
       "</script>"
      ]
     },
     "metadata": {},
     "output_type": "display_data"
    },
    {
     "data": {
      "text/html": [
       "<div id=\"interact-js-shim\">\n",
       "    <script charset=\"utf-8\">\n",
       "(function (IPython, $, _, MathJax, Widgets) {\n",
       "    $.event.special.destroyed = {\n",
       "\tremove: function(o) {\n",
       "\t    if (o.handler) {\n",
       "\t\to.handler.apply(this, arguments)\n",
       "\t    }\n",
       "\t}\n",
       "    }\n",
       "\n",
       "    var OutputArea = IPython.version >= \"4.0.0\" ? require(\"notebook/js/outputarea\").OutputArea : IPython.OutputArea;\n",
       "\n",
       "    var redrawValue = function (container, type, val) {\n",
       "\tvar selector = $(\"<div/>\");\n",
       "\tvar oa = new OutputArea(_.extend(selector, {\n",
       "\t    selector: selector,\n",
       "\t    prompt_area: true,\n",
       "\t    events: IPython.events,\n",
       "\t    keyboard_manager: IPython.keyboard_manager\n",
       "\t})); // Hack to work with IPython 2.1.0\n",
       "\n",
       "\tswitch (type) {\n",
       "\tcase \"image/png\":\n",
       "            var _src = 'data:' + type + ';base64,' + val;\n",
       "\t    $(container).find(\"img\").attr('src', _src);\n",
       "\t    break;\n",
       "\tdefault:\n",
       "\t    var toinsert = OutputArea.append_map[type].apply(\n",
       "\t\toa, [val, {}, selector]\n",
       "\t    );\n",
       "\t    $(container).empty().append(toinsert.contents());\n",
       "\t    selector.remove();\n",
       "\t}\n",
       "\tif (type === \"text/latex\" && MathJax) {\n",
       "\t    MathJax.Hub.Queue([\"Typeset\", MathJax.Hub, toinsert.get(0)]);\n",
       "\t}\n",
       "    }\n",
       "\n",
       "\n",
       "    $(document).ready(function() {\n",
       "\tWidgets.debug = false; // log messages etc in console.\n",
       "\tfunction initComm(evt, data) {\n",
       "\t    var comm_manager = data.kernel.comm_manager;\n",
       "        //_.extend(comm_manager.targets, require(\"widgets/js/widget\"))\n",
       "\t    comm_manager.register_target(\"Signal\", function (comm) {\n",
       "            comm.on_msg(function (msg) {\n",
       "                //Widgets.log(\"message received\", msg);\n",
       "                var val = msg.content.data.value;\n",
       "                $(\".signal-\" + comm.comm_id).each(function() {\n",
       "                var type = $(this).data(\"type\");\n",
       "                if (val[type]) {\n",
       "                    redrawValue(this, type, val[type], type);\n",
       "                }\n",
       "                });\n",
       "                delete val;\n",
       "                delete msg.content.data.value;\n",
       "            });\n",
       "\t    });\n",
       "\n",
       "\t    // coordingate with Comm and redraw Signals\n",
       "\t    // XXX: Test using Reactive here to improve performance\n",
       "\t    $([IPython.events]).on(\n",
       "\t\t'output_appended.OutputArea', function (event, type, value, md, toinsert) {\n",
       "\t\t    if (md && md.reactive) {\n",
       "                // console.log(md.comm_id);\n",
       "                toinsert.addClass(\"signal-\" + md.comm_id);\n",
       "                toinsert.data(\"type\", type);\n",
       "                // Signal back indicating the mimetype required\n",
       "                var comm_manager = IPython.notebook.kernel.comm_manager;\n",
       "                var comm = comm_manager.comms[md.comm_id];\n",
       "                comm.then(function (c) {\n",
       "                    c.send({action: \"subscribe_mime\",\n",
       "                       mime: type});\n",
       "                    toinsert.bind(\"destroyed\", function() {\n",
       "                        c.send({action: \"unsubscribe_mime\",\n",
       "                               mime: type});\n",
       "                    });\n",
       "                })\n",
       "\t\t    }\n",
       "\t    });\n",
       "\t}\n",
       "\n",
       "\ttry {\n",
       "\t    // try to initialize right away. otherwise, wait on the status_started event.\n",
       "\t    initComm(undefined, IPython.notebook);\n",
       "\t} catch (e) {\n",
       "\t    $([IPython.events]).on('kernel_created.Kernel kernel_created.Session', initComm);\n",
       "\t}\n",
       "    });\n",
       "})(IPython, jQuery, _, MathJax, InputWidgets);\n",
       "</script>\n",
       "    <script>\n",
       "        window.interactLoadedFlag = true\n",
       "       $(\"#interact-js-shim\").bind(\"destroyed\", function () {\n",
       "           if (window.interactLoadedFlag) {\n",
       "               console.warn(\"JavaScript required by Interact will be removed if you remove this cell or run using Interact more than once.\")\n",
       "           }\n",
       "       })\n",
       "       $([IPython.events]).on(\"kernel_starting.Kernel kernel_restarting.Kernel\", function () { window.interactLoadedFlag = false })\n",
       "   </script>\n",
       "</div>"
      ]
     },
     "metadata": {},
     "output_type": "display_data"
    }
   ],
   "source": [
    "using PyPlot\n",
    "using Interact\n",
    "using LaTeXStrings"
   ]
  },
  {
   "cell_type": "markdown",
   "metadata": {},
   "source": [
    "# Variables requeridas"
   ]
  },
  {
   "cell_type": "code",
   "execution_count": 56,
   "metadata": {
    "collapsed": false
   },
   "outputs": [
    {
     "data": {
      "text/plain": [
       "Iniciar_arreglo_de_datos (generic function with 1 method)"
      ]
     },
     "execution_count": 56,
     "metadata": {},
     "output_type": "execute_result"
    }
   ],
   "source": [
    "function Iniciar_arreglo_de_datos()\n",
    "    global serie = []\n",
    "end"
   ]
  },
  {
   "cell_type": "code",
   "execution_count": 44,
   "metadata": {
    "collapsed": false
   },
   "outputs": [
    {
     "data": {
      "text/plain": [
       "Datos_experimetales (generic function with 1 method)"
      ]
     },
     "execution_count": 44,
     "metadata": {},
     "output_type": "execute_result"
    }
   ],
   "source": [
    "function Datos_experimetales(longitud,etiqueta)\n",
    "    global L=longitud\n",
    "    global caracterizacion = \"WL2D_red-cuadrada_L-$(L)_Ising-ferro_cam-10_f-0.0001_sim-$(etiqueta)\"\n",
    "#    println(caracterizacion)\n",
    "    global datos_exp\n",
    "    global cabecera\n",
    "    datos_exp, cabecera = readdlm(\"Entropia_2D_final/Entropia_2D_final_$(caracterizacion).txt\", header=true)\n",
    "    global l = size(datos_exp)[1]\n",
    "    push!(serie,datos_exp)\n",
    "end"
   ]
  },
  {
   "cell_type": "code",
   "execution_count": 30,
   "metadata": {
    "collapsed": false
   },
   "outputs": [
    {
     "data": {
      "text/plain": [
       "Accesar_datos (generic function with 1 method)"
      ]
     },
     "execution_count": 30,
     "metadata": {},
     "output_type": "execute_result"
    }
   ],
   "source": [
    "function Accesar_datos(tamaño,etiquetas)\n",
    "    for i in etiquetas\n",
    "        Datos_experimetales(tamaño,i)\n",
    "    end\n",
    "    length(serie)\n",
    "end  "
   ]
  },
  {
   "cell_type": "code",
   "execution_count": 31,
   "metadata": {
    "collapsed": false
   },
   "outputs": [
    {
     "data": {
      "text/plain": [
       "Agregar_datos_experimentales (generic function with 1 method)"
      ]
     },
     "execution_count": 31,
     "metadata": {},
     "output_type": "execute_result"
    }
   ],
   "source": [
    "function Agregar_datos_experimentales(tamaño, índice)\n",
    "    Datos_experimetales(tamaño, índice)\n",
    "end "
   ]
  },
  {
   "cell_type": "code",
   "execution_count": 32,
   "metadata": {
    "collapsed": false
   },
   "outputs": [
    {
     "data": {
      "text/plain": [
       "Agregar_datos_teóricos (generic function with 1 method)"
      ]
     },
     "execution_count": 32,
     "metadata": {},
     "output_type": "execute_result"
    }
   ],
   "source": [
    "function Agregar_datos_teóricos(longitud)\n",
    "    global datos_teo = readdlm(\"Ising_CnxCn/ising_c$(L)xc$(L).txt\");\n",
    "    # Poner en la primera columna energía; en la segunda magnetización; en la tercera entropía\n",
    "    datos_teo = hcat(datos_teo[:,2],datos_teo[:,3],log(datos_teo[:,1]))\n",
    "    datos_teo = datos_teo[1:end-1,:]\n",
    "    # En caso de que se trate de interacción ferromagnética, se multiplica por -1.\n",
    "    datos_teo[:,1] = datos_teo[:,1]*(-1);\n",
    "    # Ordenar por energía y luego por magnetización\n",
    "    datos_teo = sortrows(datos_teo, by=x->(x[1],x[2]));\n",
    "end"
   ]
  },
  {
   "cell_type": "markdown",
   "metadata": {},
   "source": [
    "# Datos de entropía exacta, si la hay"
   ]
  },
  {
   "cell_type": "markdown",
   "metadata": {},
   "source": [
    "Los archivos de la entropía exacta tienen la siguiente configuración\n",
    "\n",
    "***1a Columna***: Valor de la entropía\n",
    "\n",
    "***2a Columna***: Energía\n",
    "\n",
    "***3a Columna***: Magnetización"
   ]
  },
  {
   "cell_type": "markdown",
   "metadata": {},
   "source": [
    "### En caso de estudiar modelo de Ising Antiferromagnético:"
   ]
  },
  {
   "cell_type": "code",
   "execution_count": null,
   "metadata": {
    "collapsed": false
   },
   "outputs": [],
   "source": [
    "# En caso de que se trate de interacción antiferromagnética, se multiplica por -1.\n",
    "datos_teo[:,2] = datos_teo[:,2]*(-1);"
   ]
  },
  {
   "cell_type": "code",
   "execution_count": null,
   "metadata": {
    "collapsed": false
   },
   "outputs": [],
   "source": [
    "#reordenar por energía(segunda columna) y luego por magnetización (3a columna).\n",
    "datos_teo = sortrows(datos_teo, by=x->(x[2],x[3]));\n",
    "#datos_teo = [datos_teo[:,2] datos_teo[:,3] datos_teo[:,1]]"
   ]
  },
  {
   "cell_type": "markdown",
   "metadata": {},
   "source": [
    "# Definiendo funciones"
   ]
  },
  {
   "cell_type": "markdown",
   "metadata": {},
   "source": [
    "## Gráficas de entropía experimental y teórica con animación"
   ]
  },
  {
   "cell_type": "code",
   "execution_count": 33,
   "metadata": {
    "collapsed": false
   },
   "outputs": [
    {
     "data": {
      "text/plain": [
       "Grafica3d (generic function with 1 method)"
      ]
     },
     "execution_count": 33,
     "metadata": {},
     "output_type": "execute_result"
    }
   ],
   "source": [
    "function Grafica3d(angle,datos...;rango_x=\"auto\",rango_y=\"auto\")\n",
    "    fig = figure()\n",
    "    @manipulate for angle_azim=0:10:360,angle_elev=0:10:90\n",
    "        withfig(fig) do\n",
    "            \n",
    "            for i in 1:length(datos)\n",
    "                plot3D(datos[i][:,1],datos[i][:,2],datos[i][:,3], \".\", alpha=0.2 )\n",
    "                ax = gca()\n",
    "                ax[:view_init](elev=angle_elev, azim=angle_azim)\n",
    "            end\n",
    "            if rango_x !=\"auto\"\n",
    "                xlim(rango_x)\n",
    "            end\n",
    "            if rango_y !=\"auto\"\n",
    "                ylim(rango_y)\n",
    "            end\n",
    "        end\n",
    "    end             \n",
    "end"
   ]
  },
  {
   "cell_type": "code",
   "execution_count": 34,
   "metadata": {
    "collapsed": false
   },
   "outputs": [
    {
     "data": {
      "text/plain": [
       "Animar_grafica3d (generic function with 1 method)"
      ]
     },
     "execution_count": 34,
     "metadata": {},
     "output_type": "execute_result"
    }
   ],
   "source": [
    "function Animar_grafica3d(x,y,z)\n",
    "    fig = figure(figsize=(8,6))\n",
    "    @manipulate for angle=0:10:360\n",
    "        withfig(fig) do\n",
    "            Grafica3d(angle,x,y,z)\n",
    "        end\n",
    "    end\n",
    "end "
   ]
  },
  {
   "cell_type": "code",
   "execution_count": 35,
   "metadata": {
    "collapsed": false
   },
   "outputs": [
    {
     "data": {
      "text/plain": [
       "Grafica3d_teórica (generic function with 1 method)"
      ]
     },
     "execution_count": 35,
     "metadata": {},
     "output_type": "execute_result"
    }
   ],
   "source": [
    "function Grafica3d_teórica(angle,x,y,z)\n",
    "    plot3D(x, y, log(z), \"o\", alpha=0.2 )\n",
    "    ax = gca()\n",
    "    ax[:view_init](elev=30., azim=angle)\n",
    "end"
   ]
  },
  {
   "cell_type": "code",
   "execution_count": 36,
   "metadata": {
    "collapsed": false
   },
   "outputs": [
    {
     "data": {
      "text/plain": [
       "Animar_grafica3d_teórica (generic function with 1 method)"
      ]
     },
     "execution_count": 36,
     "metadata": {},
     "output_type": "execute_result"
    }
   ],
   "source": [
    "function Animar_grafica3d_teórica(x,y,z)\n",
    "    fig = figure(figsize=(8,6))\n",
    "    @manipulate for angle=0:10:360\n",
    "        withfig(fig) do\n",
    "            Grafica3d_teórica(angle,x,y,z)\n",
    "        end\n",
    "    end\n",
    "end "
   ]
  },
  {
   "cell_type": "markdown",
   "metadata": {},
   "source": [
    "### Comparar restando, entropía teórica y entropía experimental"
   ]
  },
  {
   "cell_type": "code",
   "execution_count": 37,
   "metadata": {
    "collapsed": false
   },
   "outputs": [
    {
     "data": {
      "text/plain": [
       "Compara_entropias (generic function with 1 method)"
      ]
     },
     "execution_count": 37,
     "metadata": {},
     "output_type": "execute_result"
    }
   ],
   "source": [
    "function Compara_entropias(val_teo,val_exp)\n",
    "    fig = figure()\n",
    "    @manipulate for angle_azim=0:10:360,angle_elev=0:10:90\n",
    "        withfig(fig) do\n",
    "            plot3D(val_teo[:,1], val_teo[:,2], val_exp[:,3]-val_teo[:,3], \".\", alpha=0.2 )\n",
    "            ax = gca()\n",
    "            ax[:view_init](elev=angle_elev, azim=angle_azim)\n",
    "        end\n",
    "    end\n",
    "end"
   ]
  },
  {
   "cell_type": "markdown",
   "metadata": {},
   "source": [
    "# Análisis para la entropía simulada"
   ]
  },
  {
   "cell_type": "code",
   "execution_count": 38,
   "metadata": {
    "collapsed": false
   },
   "outputs": [
    {
     "data": {
      "text/plain": [
       "Desviación_promedio (generic function with 1 method)"
      ]
     },
     "execution_count": 38,
     "metadata": {},
     "output_type": "execute_result"
    }
   ],
   "source": [
    "function Desviación_promedio(val_teo, val_exp)\n",
    "    χ_cuadrada = 0\n",
    "    diferencia_promedio = 0\n",
    "    entropia_exacta_min = minimum(val_teo[:,3])\n",
    "    entropia_simulada_min = minimum(val_exp[:,3])\n",
    "    diferencia = abs(val_teo[:,3]-val_exp[:,3])\n",
    "    exactitud = abs((val_exp[:,3]-entropia_simulada_min)-(val_teo[:,3]-entropia_exacta_min))\n",
    "    for i in 1:l\n",
    "        χ_cuadrada += (val_teo[i,3]-val_exp[i,3])*(val_teo[i,3]-val_exp[i,3])\n",
    "    end\n",
    "    χ_cuadrada = χ_cuadrada./l\n",
    "    diferencia_promedio = mean(diferencia)\n",
    "    σ = std(diferencia)\n",
    "    exactitud_promedio = mean(exactitud)\n",
    "    return χ_cuadrada, diferencia_promedio, σ, exactitud_promedio\n",
    "end"
   ]
  },
  {
   "cell_type": "code",
   "execution_count": 11,
   "metadata": {
    "collapsed": false
   },
   "outputs": [
    {
     "data": {
      "text/plain": [
       "Entropia_promedio (generic function with 1 method)"
      ]
     },
     "execution_count": 11,
     "metadata": {},
     "output_type": "execute_result"
    }
   ],
   "source": [
    "function Entropia_promedio(datos)\n",
    "    número_de_repeticiones = length(datos)\n",
    "    entropia_promedio = zeros(l,6)\n",
    "    entropia_promedio[:,1] = datos[1][:,1]\n",
    "    entropia_promedio[:,2] = datos[1][:,2]\n",
    "    for i in 1:l\n",
    "        entropia_promedio[i,3] = mean([datos[j][i,3] for j in 1:número_de_repeticiones])\n",
    "        entropia_promedio[i,4] = stdm([datos[j][i,3] for j in 1:número_de_repeticiones],entropia_promedio[i,3])\n",
    "        entropia_promedio[i,5] = mean([datos[j][i,4] for j in 1:número_de_repeticiones])\n",
    "        entropia_promedio[i,6] = stdm([datos[j][i,4] for j in 1:número_de_repeticiones],entropia_promedio[i,5])\n",
    "    end\n",
    "    return entropia_promedio\n",
    "end"
   ]
  },
  {
   "cell_type": "markdown",
   "metadata": {},
   "source": [
    "# Aquí acaban las funciones"
   ]
  },
  {
   "cell_type": "code",
   "execution_count": 71,
   "metadata": {
    "collapsed": false
   },
   "outputs": [
    {
     "data": {
      "text/plain": [
       "0-element Array{Any,1}"
      ]
     },
     "execution_count": 71,
     "metadata": {},
     "output_type": "execute_result"
    }
   ],
   "source": [
    "Iniciar_arreglo_de_datos()"
   ]
  },
  {
   "cell_type": "code",
   "execution_count": 72,
   "metadata": {
    "collapsed": false
   },
   "outputs": [
    {
     "name": "stdout",
     "output_type": "stream",
     "text": [
      "WL2D_red-cuadrada_L-16_Ising-ferro_cam-10_f-0.0001_sim-1\n",
      "WL2D_red-cuadrada_L-16_Ising-ferro_cam-10_f-0.0001_sim-2\n",
      "WL2D_red-cuadrada_L-16_Ising-ferro_cam-10_f-0.0001_sim-3\n",
      "WL2D_red-cuadrada_L-16_Ising-ferro_cam-10_f-0.0001_sim-4\n",
      "WL2D_red-cuadrada_L-16_Ising-ferro_cam-10_f-0.0001_sim-5\n",
      "WL2D_red-cuadrada_L-16_Ising-ferro_cam-10_f-0.0001_sim-6\n",
      "WL2D_red-cuadrada_L-16_Ising-ferro_cam-10_f-0.0001_sim-7\n",
      "WL2D_red-cuadrada_L-16_Ising-ferro_cam-10_f-0.0001_sim-8\n",
      "WL2D_red-cuadrada_L-16_Ising-ferro_cam-10_f-0.0001_sim-9\n",
      "WL2D_red-cuadrada_L-16_Ising-ferro_cam-10_f-0.0001_sim-10\n",
      "WL2D_red-cuadrada_L-16_Ising-ferro_cam-10_f-0.0001_sim-11\n",
      "WL2D_red-cuadrada_L-16_Ising-ferro_cam-10_f-0.0001_sim-12\n",
      "WL2D_red-cuadrada_L-16_Ising-ferro_cam-10_f-0.0001_sim-13\n",
      "WL2D_red-cuadrada_L-16_Ising-ferro_cam-10_f-0.0001_sim-14\n",
      "WL2D_red-cuadrada_L-16_Ising-ferro_cam-10_f-0.0001_sim-15\n",
      "WL2D_red-cuadrada_L-16_Ising-ferro_cam-10_f-0.0001_sim-16\n",
      "WL2D_red-cuadrada_L-16_Ising-ferro_cam-10_f-0.0001_sim-17\n",
      "WL2D_red-cuadrada_L-16_Ising-ferro_cam-10_f-0.0001_sim-18\n",
      "WL2D_red-cuadrada_L-16_Ising-ferro_cam-10_f-0.0001_sim-19\n",
      "WL2D_red-cuadrada_L-16_Ising-ferro_cam-10_f-0.0001_sim-20\n"
     ]
    }
   ],
   "source": [
    "Accesar_datos(16,1:20);"
   ]
  },
  {
   "cell_type": "code",
   "execution_count": 70,
   "metadata": {
    "collapsed": false
   },
   "outputs": [
    {
     "data": {
      "text/plain": [
       "20-element Array{Any,1}:\n",
       " 29430x4 Array{Float64,2}:\n",
       " -512.0  -256.0   1.89819  256.0\n",
       " -512.0   256.0   1.0      256.0\n",
       " -504.0  -254.0   7.29688  254.0\n",
       " -504.0   254.0   7.4762   254.0\n",
       " -500.0  -252.0   7.85535  252.0\n",
       " -500.0   252.0   8.26904  252.0\n",
       " -496.0  -252.0  12.5842   252.0\n",
       " -496.0  -250.0   8.73621  250.0\n",
       " -496.0  -248.0   6.32739  248.0\n",
       " -496.0   248.0   6.83337  248.0\n",
       " -496.0   250.0   8.93909  250.0\n",
       " -496.0   252.0  12.1163   252.0\n",
       " -492.0  -250.0  13.9612   250.0\n",
       "    ⋮                           \n",
       "  492.0     0.0  10.8004     0.0\n",
       "  492.0     2.0  13.2637     2.0\n",
       "  492.0     4.0   8.51538    4.0\n",
       "  496.0    -4.0  10.5944     4.0\n",
       "  496.0    -2.0   8.44031    2.0\n",
       "  496.0     0.0  11.8544     0.0\n",
       "  496.0     2.0   9.11145    2.0\n",
       "  496.0     4.0  11.1222     4.0\n",
       "  500.0     0.0   7.91895    0.0\n",
       "  504.0    -2.0   6.54724    2.0\n",
       "  504.0     2.0   6.90308    2.0\n",
       "  512.0     0.0   1.67944    0.0\n",
       " 29430x4 Array{Float64,2}:\n",
       " -512.0  -256.0   1.19409  256.0\n",
       " -512.0   256.0   1.0      256.0\n",
       " -504.0  -254.0   6.56433  254.0\n",
       " -504.0   254.0   6.25952  254.0\n",
       " -500.0  -252.0   7.56836  252.0\n",
       " -500.0   252.0   6.80408  252.0\n",
       " -496.0  -252.0  11.4946   252.0\n",
       " -496.0  -250.0   8.31348  250.0\n",
       " -496.0  -248.0   6.54822  248.0\n",
       " -496.0   248.0   6.02551  248.0\n",
       " -496.0   250.0   8.2594   250.0\n",
       " -496.0   252.0  10.9335   252.0\n",
       " -492.0  -250.0  12.969    250.0\n",
       "    ⋮                           \n",
       "  492.0     0.0   9.38342    0.0\n",
       "  492.0     2.0  12.3749     2.0\n",
       "  492.0     4.0   7.34351    4.0\n",
       "  496.0    -4.0  10.3754     4.0\n",
       "  496.0    -2.0   7.56946    2.0\n",
       "  496.0     0.0  10.8981     0.0\n",
       "  496.0     2.0   7.82056    2.0\n",
       "  496.0     4.0  10.2515     4.0\n",
       "  500.0     0.0   7.42212    0.0\n",
       "  504.0    -2.0   6.42627    2.0\n",
       "  504.0     2.0   5.85046    2.0\n",
       "  512.0     0.0   1.30798    0.0\n",
       " 29430x4 Array{Float64,2}:\n",
       " -512.0  -256.0   1.98853  256.0\n",
       " -512.0   256.0   1.0      256.0\n",
       " -504.0  -254.0   7.40979  254.0\n",
       " -504.0   254.0   6.80457  254.0\n",
       " -500.0  -252.0   7.93115  252.0\n",
       " -500.0   252.0   7.40479  252.0\n",
       " -496.0  -252.0  12.046    252.0\n",
       " -496.0  -250.0   9.24756  250.0\n",
       " -496.0  -248.0   7.39685  248.0\n",
       " -496.0   248.0   7.02234  248.0\n",
       " -496.0   250.0   8.63379  250.0\n",
       " -496.0   252.0  11.3732   252.0\n",
       " -492.0  -250.0  13.4828   250.0\n",
       "    ⋮                           \n",
       "  492.0     0.0  10.8827     0.0\n",
       "  492.0     2.0  13.8195     2.0\n",
       "  492.0     4.0   8.99219    4.0\n",
       "  496.0    -4.0  11.5459     4.0\n",
       "  496.0    -2.0   9.50317    2.0\n",
       "  496.0     0.0  12.1932     0.0\n",
       "  496.0     2.0   9.28149    2.0\n",
       "  496.0     4.0  11.5859     4.0\n",
       "  500.0     0.0   8.85388    0.0\n",
       "  504.0    -2.0   7.08521    2.0\n",
       "  504.0     2.0   7.46362    2.0\n",
       "  512.0     0.0   1.5741     0.0\n",
       " 29430x4 Array{Float64,2}:\n",
       " -512.0  -256.0   2.0885   256.0\n",
       " -512.0   256.0   1.0      256.0\n",
       " -504.0  -254.0   7.68909  254.0\n",
       " -504.0   254.0   7.31653  254.0\n",
       " -500.0  -252.0   8.6156   252.0\n",
       " -500.0   252.0   8.34741  252.0\n",
       " -496.0  -252.0  12.8961   252.0\n",
       " -496.0  -250.0  10.0157   250.0\n",
       " -496.0  -248.0   7.92432  248.0\n",
       " -496.0   248.0   7.59998  248.0\n",
       " -496.0   250.0   9.37988  250.0\n",
       " -496.0   252.0  12.2992   252.0\n",
       " -492.0  -250.0  13.9979   250.0\n",
       "    ⋮                           \n",
       "  492.0     0.0  10.832      0.0\n",
       "  492.0     2.0  13.6649     2.0\n",
       "  492.0     4.0   8.69458    4.0\n",
       "  496.0    -4.0  11.6045     4.0\n",
       "  496.0    -2.0   8.96094    2.0\n",
       "  496.0     0.0  12.1747     0.0\n",
       "  496.0     2.0   9.21143    2.0\n",
       "  496.0     4.0  11.5308     4.0\n",
       "  500.0     0.0   9.00549    0.0\n",
       "  504.0    -2.0   7.47803    2.0\n",
       "  504.0     2.0   7.23303    2.0\n",
       "  512.0     0.0   2.4856     0.0\n",
       " 29430x4 Array{Float64,2}:\n",
       " -512.0  -256.0   1.5459   256.0\n",
       " -512.0   256.0   1.01343  256.0\n",
       " -504.0  -254.0   7.50122  254.0\n",
       " -504.0   254.0   6.73621  254.0\n",
       " -500.0  -252.0   7.58789  252.0\n",
       " -500.0   252.0   7.34961  252.0\n",
       " -496.0  -252.0  11.9797   252.0\n",
       " -496.0  -250.0   8.61084  250.0\n",
       " -496.0  -248.0   6.55591  248.0\n",
       " -496.0   248.0   6.26184  248.0\n",
       " -496.0   250.0   8.4248   250.0\n",
       " -496.0   252.0  11.5488   252.0\n",
       " -492.0  -250.0  13.4003   250.0\n",
       "    ⋮                           \n",
       "  492.0     0.0   9.7804     0.0\n",
       "  492.0     2.0  12.225      2.0\n",
       "  492.0     4.0   7.94849    4.0\n",
       "  496.0    -4.0  10.3269     4.0\n",
       "  496.0    -2.0   8.27832    2.0\n",
       "  496.0     0.0  11.0858     0.0\n",
       "  496.0     2.0   8.19153    2.0\n",
       "  496.0     4.0  10.2412     4.0\n",
       "  500.0     0.0   7.74963    0.0\n",
       "  504.0    -2.0   6.17285    2.0\n",
       "  504.0     2.0   5.8606     2.0\n",
       "  512.0     0.0   1.0        0.0\n",
       " 29430x4 Array{Float64,2}:\n",
       " -512.0  -256.0   1.45435  256.0\n",
       " -512.0   256.0   1.53088  256.0\n",
       " -504.0  -254.0   7.92993  254.0\n",
       " -504.0   254.0   7.20532  254.0\n",
       " -500.0  -252.0   8.45264  252.0\n",
       " -500.0   252.0   7.62622  252.0\n",
       " -496.0  -252.0  12.879    252.0\n",
       " -496.0  -250.0   9.50842  250.0\n",
       " -496.0  -248.0   7.94397  248.0\n",
       " -496.0   248.0   6.30676  248.0\n",
       " -496.0   250.0   8.88416  250.0\n",
       " -496.0   252.0  12.0927   252.0\n",
       " -492.0  -250.0  14.7386   250.0\n",
       "    ⋮                           \n",
       "  492.0     0.0  10.2334     0.0\n",
       "  492.0     2.0  13.15       2.0\n",
       "  492.0     4.0   8.18164    4.0\n",
       "  496.0    -4.0  11.6716     4.0\n",
       "  496.0    -2.0   8.95081    2.0\n",
       "  496.0     0.0  12.3444     0.0\n",
       "  496.0     2.0   8.87183    2.0\n",
       "  496.0     4.0  11.453      4.0\n",
       "  500.0     0.0   8.49585    0.0\n",
       "  504.0    -2.0   7.49316    2.0\n",
       "  504.0     2.0   7.28491    2.0\n",
       "  512.0     0.0   2.54688    0.0\n",
       " 29430x4 Array{Float64,2}:\n",
       " -512.0  -256.0   1.0      256.0\n",
       " -512.0   256.0   3.40283  256.0\n",
       " -504.0  -254.0   9.25378  254.0\n",
       " -504.0   254.0   8.60852  254.0\n",
       " -500.0  -252.0   9.40649  252.0\n",
       " -500.0   252.0   9.36401  252.0\n",
       " -496.0  -252.0  13.3439   252.0\n",
       " -496.0  -250.0  10.8052   250.0\n",
       " -496.0  -248.0   8.69128  248.0\n",
       " -496.0   248.0   8.48584  248.0\n",
       " -496.0   250.0  10.0895   250.0\n",
       " -496.0   252.0  13.6405   252.0\n",
       " -492.0  -250.0  14.7108   250.0\n",
       "    ⋮                           \n",
       "  492.0     0.0  12.4672     0.0\n",
       "  492.0     2.0  15.1364     2.0\n",
       "  492.0     4.0  10.1097     4.0\n",
       "  496.0    -4.0  12.298      4.0\n",
       "  496.0    -2.0  10.439      2.0\n",
       "  496.0     0.0  13.6899     0.0\n",
       "  496.0     2.0  10.4019     2.0\n",
       "  496.0     4.0  12.8358     4.0\n",
       "  500.0     0.0  10.2239     0.0\n",
       "  504.0    -2.0   8.46924    2.0\n",
       "  504.0     2.0   8.78516    2.0\n",
       "  512.0     0.0   3.52087    0.0\n",
       " 29430x4 Array{Float64,2}:\n",
       " -512.0  -256.0   1.18628  256.0\n",
       " -512.0   256.0   1.0      256.0\n",
       " -504.0  -254.0   7.05164  254.0\n",
       " -504.0   254.0   6.59119  254.0\n",
       " -500.0  -252.0   7.59656  252.0\n",
       " -500.0   252.0   7.10425  252.0\n",
       " -496.0  -252.0  11.4517   252.0\n",
       " -496.0  -250.0   8.3075   250.0\n",
       " -496.0  -248.0   6.47778  248.0\n",
       " -496.0   248.0   6.14355  248.0\n",
       " -496.0   250.0   8.14099  250.0\n",
       " -496.0   252.0  11.3701   252.0\n",
       " -492.0  -250.0  12.5907   250.0\n",
       "    ⋮                           \n",
       "  492.0     0.0  10.772      0.0\n",
       "  492.0     2.0  13.6539     2.0\n",
       "  492.0     4.0   8.48523    4.0\n",
       "  496.0    -4.0  11.5145     4.0\n",
       "  496.0    -2.0   9.53271    2.0\n",
       "  496.0     0.0  12.4729     0.0\n",
       "  496.0     2.0   8.92896    2.0\n",
       "  496.0     4.0  11.4705     4.0\n",
       "  500.0     0.0   8.93665    0.0\n",
       "  504.0    -2.0   7.35266    2.0\n",
       "  504.0     2.0   7.56836    2.0\n",
       "  512.0     0.0   2.35962    0.0\n",
       " 29430x4 Array{Float64,2}:\n",
       " -512.0  -256.0   1.0      256.0\n",
       " -512.0   256.0   1.25439  256.0\n",
       " -504.0  -254.0   6.97498  254.0\n",
       " -504.0   254.0   7.44568  254.0\n",
       " -500.0  -252.0   7.83838  252.0\n",
       " -500.0   252.0   7.91174  252.0\n",
       " -496.0  -252.0  11.8389   252.0\n",
       " -496.0  -250.0   9.1062   250.0\n",
       " -496.0  -248.0   7.51416  248.0\n",
       " -496.0   248.0   7.09436  248.0\n",
       " -496.0   250.0   8.8158   250.0\n",
       " -496.0   252.0  12.1332   252.0\n",
       " -492.0  -250.0  13.4652   250.0\n",
       "    ⋮                           \n",
       "  492.0     0.0  10.4062     0.0\n",
       "  492.0     2.0  13.26       2.0\n",
       "  492.0     4.0   8.18591    4.0\n",
       "  496.0    -4.0  10.8613     4.0\n",
       "  496.0    -2.0   8.69507    2.0\n",
       "  496.0     0.0  11.9611     0.0\n",
       "  496.0     2.0   8.52783    2.0\n",
       "  496.0     4.0  11.1914     4.0\n",
       "  500.0     0.0   8.12183    0.0\n",
       "  504.0    -2.0   6.94812    2.0\n",
       "  504.0     2.0   6.92688    2.0\n",
       "  512.0     0.0   1.72534    0.0\n",
       " 29430x4 Array{Float64,2}:\n",
       " -512.0  -256.0   3.5376   256.0\n",
       " -512.0   256.0   4.27856  256.0\n",
       " -504.0  -254.0   8.92847  254.0\n",
       " -504.0   254.0   9.34229  254.0\n",
       " -500.0  -252.0  10.0149   252.0\n",
       " -500.0   252.0  10.0701   252.0\n",
       " -496.0  -252.0  14.1101   252.0\n",
       " -496.0  -250.0  10.9214   250.0\n",
       " -496.0  -248.0   9.65552  248.0\n",
       " -496.0   248.0   9.46619  248.0\n",
       " -496.0   250.0  11.4337   250.0\n",
       " -496.0   252.0  14.2236   252.0\n",
       " -492.0  -250.0  15.4056   250.0\n",
       "    ⋮                           \n",
       "  492.0     0.0  12.6462     0.0\n",
       "  492.0     2.0  15.7108     2.0\n",
       "  492.0     4.0  10.6733     4.0\n",
       "  496.0    -4.0  13.3655     4.0\n",
       "  496.0    -2.0  11.3219     2.0\n",
       "  496.0     0.0  14.0955     0.0\n",
       "  496.0     2.0  10.8447     2.0\n",
       "  496.0     4.0  13.3219     4.0\n",
       "  500.0     0.0  10.6139     0.0\n",
       "  504.0    -2.0   9.11768    2.0\n",
       "  504.0     2.0   8.87769    2.0\n",
       "  512.0     0.0   3.99158    0.0\n",
       " 29430x4 Array{Float64,2}:\n",
       " -512.0  -256.0   1.25     256.0\n",
       " -512.0   256.0   1.0      256.0\n",
       " -504.0  -254.0   6.51538  254.0\n",
       " -504.0   254.0   6.18579  254.0\n",
       " -500.0  -252.0   7.35461  252.0\n",
       " -500.0   252.0   7.78271  252.0\n",
       " -496.0  -252.0  11.6125   252.0\n",
       " -496.0  -250.0   8.07495  250.0\n",
       " -496.0  -248.0   6.22974  248.0\n",
       " -496.0   248.0   5.71387  248.0\n",
       " -496.0   250.0   8.69458  250.0\n",
       " -496.0   252.0  11.9393   252.0\n",
       " -492.0  -250.0  13.198    250.0\n",
       "    ⋮                           \n",
       "  492.0     0.0   9.90869    0.0\n",
       "  492.0     2.0  12.3584     2.0\n",
       "  492.0     4.0   7.29297    4.0\n",
       "  496.0    -4.0  10.3593     4.0\n",
       "  496.0    -2.0   8.39014    2.0\n",
       "  496.0     0.0  10.8958     0.0\n",
       "  496.0     2.0   8.10254    2.0\n",
       "  496.0     4.0  10.4396     4.0\n",
       "  500.0     0.0   7.61304    0.0\n",
       "  504.0    -2.0   5.96912    2.0\n",
       "  504.0     2.0   6.2063     2.0\n",
       "  512.0     0.0   1.36145    0.0\n",
       " 29430x4 Array{Float64,2}:\n",
       " -512.0  -256.0   1.11243  256.0\n",
       " -512.0   256.0   1.0      256.0\n",
       " -504.0  -254.0   6.58081  254.0\n",
       " -504.0   254.0   6.45276  254.0\n",
       " -500.0  -252.0   7.47668  252.0\n",
       " -500.0   252.0   7.17163  252.0\n",
       " -496.0  -252.0  11.3926   252.0\n",
       " -496.0  -250.0   8.48206  250.0\n",
       " -496.0  -248.0   6.99133  248.0\n",
       " -496.0   248.0   6.3291   248.0\n",
       " -496.0   250.0   8.07751  250.0\n",
       " -496.0   252.0  11.754    252.0\n",
       " -492.0  -250.0  12.8774   250.0\n",
       "    ⋮                           \n",
       "  492.0     0.0   9.64062    0.0\n",
       "  492.0     2.0  12.364      2.0\n",
       "  492.0     4.0   6.93787    4.0\n",
       "  496.0    -4.0  10.4236     4.0\n",
       "  496.0    -2.0   8.09387    2.0\n",
       "  496.0     0.0  10.7444     0.0\n",
       "  496.0     2.0   8.08789    2.0\n",
       "  496.0     4.0  10.0154     4.0\n",
       "  500.0     0.0   7.26746    0.0\n",
       "  504.0    -2.0   6.10339    2.0\n",
       "  504.0     2.0   5.8844     2.0\n",
       "  512.0     0.0   1.31372    0.0\n",
       " 29430x4 Array{Float64,2}:\n",
       " -512.0  -256.0   1.24573  256.0\n",
       " -512.0   256.0   1.0      256.0\n",
       " -504.0  -254.0   7.43787  254.0\n",
       " -504.0   254.0   6.76465  254.0\n",
       " -500.0  -252.0   8.34607  252.0\n",
       " -500.0   252.0   7.94629  252.0\n",
       " -496.0  -252.0  12.4376   252.0\n",
       " -496.0  -250.0   9.82861  250.0\n",
       " -496.0  -248.0   7.85242  248.0\n",
       " -496.0   248.0   7.26025  248.0\n",
       " -496.0   250.0   8.94104  250.0\n",
       " -496.0   252.0  11.9958   252.0\n",
       " -492.0  -250.0  14.1951   250.0\n",
       "    ⋮                           \n",
       "  492.0     0.0  10.8301     0.0\n",
       "  492.0     2.0  13.4988     2.0\n",
       "  492.0     4.0   8.90833    4.0\n",
       "  496.0    -4.0  11.4513     4.0\n",
       "  496.0    -2.0   8.86499    2.0\n",
       "  496.0     0.0  12.2545     0.0\n",
       "  496.0     2.0   8.92151    2.0\n",
       "  496.0     4.0  11.6742     4.0\n",
       "  500.0     0.0   8.30518    0.0\n",
       "  504.0    -2.0   7.22498    2.0\n",
       "  504.0     2.0   7.05847    2.0\n",
       "  512.0     0.0   2.01819    0.0\n",
       " 29430x4 Array{Float64,2}:\n",
       " -512.0  -256.0   1.68579  256.0\n",
       " -512.0   256.0   1.0      256.0\n",
       " -504.0  -254.0   7.83765  254.0\n",
       " -504.0   254.0   7.97412  254.0\n",
       " -500.0  -252.0   8.61353  252.0\n",
       " -500.0   252.0   8.76538  252.0\n",
       " -496.0  -252.0  12.8615   252.0\n",
       " -496.0  -250.0  10.1858   250.0\n",
       " -496.0  -248.0   7.74573  248.0\n",
       " -496.0   248.0   7.86438  248.0\n",
       " -496.0   250.0  10.0818   250.0\n",
       " -496.0   252.0  12.7629   252.0\n",
       " -492.0  -250.0  14.0364   250.0\n",
       "    ⋮                           \n",
       "  492.0     0.0  11.7793     0.0\n",
       "  492.0     2.0  14.3427     2.0\n",
       "  492.0     4.0   8.87964    4.0\n",
       "  496.0    -4.0  12.2975     4.0\n",
       "  496.0    -2.0  10.1725     2.0\n",
       "  496.0     0.0  12.78       0.0\n",
       "  496.0     2.0  10.0048     2.0\n",
       "  496.0     4.0  11.4744     4.0\n",
       "  500.0     0.0   9.30383    0.0\n",
       "  504.0    -2.0   7.69104    2.0\n",
       "  504.0     2.0   7.37524    2.0\n",
       "  512.0     0.0   3.20251    0.0\n",
       " 29430x4 Array{Float64,2}:\n",
       " -512.0  -256.0   1.42883  256.0\n",
       " -512.0   256.0   1.24121  256.0\n",
       " -504.0  -254.0   6.45923  254.0\n",
       " -504.0   254.0   6.51294  254.0\n",
       " -500.0  -252.0   7.28247  252.0\n",
       " -500.0   252.0   7.66833  252.0\n",
       " -496.0  -252.0  11.4222   252.0\n",
       " -496.0  -250.0   8.80139  250.0\n",
       " -496.0  -248.0   6.61816  248.0\n",
       " -496.0   248.0   6.66089  248.0\n",
       " -496.0   250.0   8.92883  250.0\n",
       " -496.0   252.0  11.5159   252.0\n",
       " -492.0  -250.0  12.8782   250.0\n",
       "    ⋮                           \n",
       "  492.0     0.0   9.32764    0.0\n",
       "  492.0     2.0  12.1625     2.0\n",
       "  492.0     4.0   7.65588    4.0\n",
       "  496.0    -4.0  10.4741     4.0\n",
       "  496.0    -2.0   7.7594     2.0\n",
       "  496.0     0.0  10.9299     0.0\n",
       "  496.0     2.0   7.90918    2.0\n",
       "  496.0     4.0   9.95129    4.0\n",
       "  500.0     0.0   7.44409    0.0\n",
       "  504.0    -2.0   6.04858    2.0\n",
       "  504.0     2.0   5.9082     2.0\n",
       "  512.0     0.0   1.0        0.0\n",
       " 29430x4 Array{Float64,2}:\n",
       " -512.0  -256.0   1.0      256.0\n",
       " -512.0   256.0   1.39563  256.0\n",
       " -504.0  -254.0   6.8689   254.0\n",
       " -504.0   254.0   7.09802  254.0\n",
       " -500.0  -252.0   7.97424  252.0\n",
       " -500.0   252.0   7.94629  252.0\n",
       " -496.0  -252.0  12.2074   252.0\n",
       " -496.0  -250.0   9.05322  250.0\n",
       " -496.0  -248.0   6.97778  248.0\n",
       " -496.0   248.0   7.35034  248.0\n",
       " -496.0   250.0   8.98193  250.0\n",
       " -496.0   252.0  11.7977   252.0\n",
       " -492.0  -250.0  13.7169   250.0\n",
       "    ⋮                           \n",
       "  492.0     0.0  11.0867     0.0\n",
       "  492.0     2.0  13.8141     2.0\n",
       "  492.0     4.0   8.92346    4.0\n",
       "  496.0    -4.0  11.3779     4.0\n",
       "  496.0    -2.0   9.19067    2.0\n",
       "  496.0     0.0  12.1349     0.0\n",
       "  496.0     2.0   9.31873    2.0\n",
       "  496.0     4.0  11.2479     4.0\n",
       "  500.0     0.0   8.49841    0.0\n",
       "  504.0    -2.0   6.75476    2.0\n",
       "  504.0     2.0   7.08875    2.0\n",
       "  512.0     0.0   1.97998    0.0\n",
       " 29430x4 Array{Float64,2}:\n",
       " -512.0  -256.0   1.0      256.0\n",
       " -512.0   256.0   1.75134  256.0\n",
       " -504.0  -254.0   6.83435  254.0\n",
       " -504.0   254.0   7.3512   254.0\n",
       " -500.0  -252.0   7.7262   252.0\n",
       " -500.0   252.0   7.33606  252.0\n",
       " -496.0  -252.0  11.9811   252.0\n",
       " -496.0  -250.0   8.70471  250.0\n",
       " -496.0  -248.0   6.91785  248.0\n",
       " -496.0   248.0   6.61133  248.0\n",
       " -496.0   250.0   8.42737  250.0\n",
       " -496.0   252.0  11.9353   252.0\n",
       " -492.0  -250.0  13.2435   250.0\n",
       "    ⋮                           \n",
       "  492.0     0.0  11.2391     0.0\n",
       "  492.0     2.0  13.2065     2.0\n",
       "  492.0     4.0   8.57495    4.0\n",
       "  496.0    -4.0  11.3292     4.0\n",
       "  496.0    -2.0   8.86597    2.0\n",
       "  496.0     0.0  11.7577     0.0\n",
       "  496.0     2.0   8.82886    2.0\n",
       "  496.0     4.0  11.2834     4.0\n",
       "  500.0     0.0   8.3551     0.0\n",
       "  504.0    -2.0   6.99475    2.0\n",
       "  504.0     2.0   6.92065    2.0\n",
       "  512.0     0.0   2.17224    0.0\n",
       " 29430x4 Array{Float64,2}:\n",
       " -512.0  -256.0   1.0      256.0\n",
       " -512.0   256.0   2.2804   256.0\n",
       " -504.0  -254.0   7.49622  254.0\n",
       " -504.0   254.0   7.68542  254.0\n",
       " -500.0  -252.0   8.78589  252.0\n",
       " -500.0   252.0   8.32239  252.0\n",
       " -496.0  -252.0  12.9211   252.0\n",
       " -496.0  -250.0   9.81812  250.0\n",
       " -496.0  -248.0   8.59106  248.0\n",
       " -496.0   248.0   7.40515  248.0\n",
       " -496.0   250.0   9.49854  250.0\n",
       " -496.0   252.0  12.3378   252.0\n",
       " -492.0  -250.0  14.2922   250.0\n",
       "    ⋮                           \n",
       "  492.0     0.0  10.9694     0.0\n",
       "  492.0     2.0  14.3085     2.0\n",
       "  492.0     4.0   9.17078    4.0\n",
       "  496.0    -4.0  11.8583     4.0\n",
       "  496.0    -2.0   9.63403    2.0\n",
       "  496.0     0.0  12.9735     0.0\n",
       "  496.0     2.0   9.83167    2.0\n",
       "  496.0     4.0  11.9573     4.0\n",
       "  500.0     0.0   9.36853    0.0\n",
       "  504.0    -2.0   7.93713    2.0\n",
       "  504.0     2.0   7.92322    2.0\n",
       "  512.0     0.0   3.05518    0.0\n",
       " 29430x4 Array{Float64,2}:\n",
       " -512.0  -256.0   1.0      256.0\n",
       " -512.0   256.0   1.18933  256.0\n",
       " -504.0  -254.0   6.65417  254.0\n",
       " -504.0   254.0   6.5365   254.0\n",
       " -500.0  -252.0   7.11816  252.0\n",
       " -500.0   252.0   6.96643  252.0\n",
       " -496.0  -252.0  11.4569   252.0\n",
       " -496.0  -250.0   8.2749   250.0\n",
       " -496.0  -248.0   6.41431  248.0\n",
       " -496.0   248.0   6.91187  248.0\n",
       " -496.0   250.0   8.68982  250.0\n",
       " -496.0   252.0  11.3239   252.0\n",
       " -492.0  -250.0  12.827    250.0\n",
       "    ⋮                           \n",
       "  492.0     0.0   9.64636    0.0\n",
       "  492.0     2.0  12.8729     2.0\n",
       "  492.0     4.0   7.66223    4.0\n",
       "  496.0    -4.0  10.4249     4.0\n",
       "  496.0    -2.0   7.78381    2.0\n",
       "  496.0     0.0  11.3151     0.0\n",
       "  496.0     2.0   7.9137     2.0\n",
       "  496.0     4.0  10.7133     4.0\n",
       "  500.0     0.0   7.63037    0.0\n",
       "  504.0    -2.0   6.70386    2.0\n",
       "  504.0     2.0   6.47998    2.0\n",
       "  512.0     0.0   1.92505    0.0\n",
       " 29430x4 Array{Float64,2}:\n",
       " -512.0  -256.0   1.02234  256.0\n",
       " -512.0   256.0   1.0      256.0\n",
       " -504.0  -254.0   6.42859  254.0\n",
       " -504.0   254.0   7.03296  254.0\n",
       " -500.0  -252.0   7.10962  252.0\n",
       " -500.0   252.0   7.48291  252.0\n",
       " -496.0  -252.0  11.3457   252.0\n",
       " -496.0  -250.0   8.58594  250.0\n",
       " -496.0  -248.0   6.58777  248.0\n",
       " -496.0   248.0   7.03259  248.0\n",
       " -496.0   250.0   8.54114  250.0\n",
       " -496.0   252.0  11.7264   252.0\n",
       " -492.0  -250.0  12.7712   250.0\n",
       "    ⋮                           \n",
       "  492.0     0.0  10.0112     0.0\n",
       "  492.0     2.0  12.4235     2.0\n",
       "  492.0     4.0   7.86548    4.0\n",
       "  496.0    -4.0   9.94958    4.0\n",
       "  496.0    -2.0   8.19788    2.0\n",
       "  496.0     0.0  11.1833     0.0\n",
       "  496.0     2.0   8.08984    2.0\n",
       "  496.0     4.0  10.5442     4.0\n",
       "  500.0     0.0   7.78674    0.0\n",
       "  504.0    -2.0   5.93921    2.0\n",
       "  504.0     2.0   6.06201    2.0\n",
       "  512.0     0.0   1.00085    0.0"
      ]
     },
     "execution_count": 70,
     "metadata": {},
     "output_type": "execute_result"
    }
   ],
   "source": [
    "serie"
   ]
  },
  {
   "cell_type": "code",
   "execution_count": 66,
   "metadata": {
    "collapsed": false
   },
   "outputs": [
    {
     "data": {
      "text/plain": [
       "29430x3 Array{Float64,2}:\n",
       " -512.0  -256.0   0.0     \n",
       " -512.0   256.0   0.0     \n",
       " -504.0  -254.0   5.54518 \n",
       " -504.0   254.0   5.54518 \n",
       " -500.0  -252.0   6.23832 \n",
       " -500.0   252.0   6.23832 \n",
       " -496.0  -252.0  10.3775  \n",
       " -496.0  -250.0   7.33694 \n",
       " -496.0  -248.0   5.54518 \n",
       " -496.0   248.0   5.54518 \n",
       " -496.0   250.0   7.33694 \n",
       " -496.0   252.0  10.3775  \n",
       " -492.0  -250.0  11.7518  \n",
       "    ⋮                     \n",
       "  492.0     0.0   9.01091 \n",
       "  492.0     2.0  11.7678  \n",
       "  492.0     4.0   6.93147 \n",
       "  496.0    -4.0   9.69622 \n",
       "  496.0    -2.0   7.33694 \n",
       "  496.0     0.0  10.3815  \n",
       "  496.0     2.0   7.33694 \n",
       "  496.0     4.0   9.69622 \n",
       "  500.0     0.0   6.93147 \n",
       "  504.0    -2.0   5.54518 \n",
       "  504.0     2.0   5.54518 \n",
       "  512.0     0.0   0.693147"
      ]
     },
     "execution_count": 66,
     "metadata": {},
     "output_type": "execute_result"
    }
   ],
   "source": [
    "Agregar_datos_teóricos(16)"
   ]
  },
  {
   "cell_type": "code",
   "execution_count": 55,
   "metadata": {
    "collapsed": false
   },
   "outputs": [
    {
     "data": {
      "text/html": [],
      "text/plain": [
       "Interact.Slider{Int64}(Signal{Int64}(180, nactions=0),\"angle_azim\",180,0:10:360,true)"
      ]
     },
     "metadata": {},
     "output_type": "display_data"
    },
    {
     "data": {
      "text/html": [],
      "text/plain": [
       "Interact.Slider{Int64}(Signal{Int64}(40, nactions=0),\"angle_elev\",40,0:10:90,true)"
      ]
     },
     "metadata": {},
     "output_type": "display_data"
    },
    {
     "data": {
      "image/png": "[encoded data removed]",
      "text/plain": [
       "PyPlot.Figure(PyObject <matplotlib.figure.Figure object at 0x31eca2518>)"
      ]
     },
     "execution_count": 55,
     "metadata": {
      "comm_id": "6485417a-e5d1-460d-aace-36ef44d4d14e",
      "reactive": true
     },
     "output_type": "execute_result"
    }
   ],
   "source": [
    "Grafica3d(30,EF, datos_teo)"
   ]
  },
  {
   "cell_type": "code",
   "execution_count": 54,
   "metadata": {
    "collapsed": false
   },
   "outputs": [
    {
     "data": {
      "text/plain": [
       "(5.604666896628829,2.348927227985225,0.2953146416727319,0.9175795162411078)"
      ]
     },
     "execution_count": 54,
     "metadata": {},
     "output_type": "execute_result"
    }
   ],
   "source": [
    "Desviación_promedio(datos_teo, EF)"
   ]
  },
  {
   "cell_type": "code",
   "execution_count": 69,
   "metadata": {
    "collapsed": false
   },
   "outputs": [
    {
     "data": {
      "text/html": [],
      "text/plain": [
       "Interact.Slider{Int64}(Signal{Int64}(180, nactions=0),\"angle_azim\",180,0:10:360,true)"
      ]
     },
     "metadata": {},
     "output_type": "display_data"
    },
    {
     "data": {
      "text/html": [],
      "text/plain": [
       "Interact.Slider{Int64}(Signal{Int64}(40, nactions=0),\"angle_elev\",40,0:10:90,true)"
      ]
     },
     "metadata": {},
     "output_type": "display_data"
    },
    {
     "data": {
      "image/png": "[encoded data removed]",
      "text/plain": [
       "PyPlot.Figure(PyObject <matplotlib.figure.Figure object at 0x32878a748>)"
      ]
     },
     "execution_count": 69,
     "metadata": {
      "comm_id": "35f3cb6f-a0cd-4837-b94a-90401013d666",
      "reactive": true
     },
     "output_type": "execute_result"
    }
   ],
   "source": [
    "Compara_entropias(datos_teo,serie[15])"
   ]
  },
  {
   "cell_type": "code",
   "execution_count": 64,
   "metadata": {
    "collapsed": false
   },
   "outputs": [
    {
     "data": {
      "text/plain": [
       "0.8874520256685191"
      ]
     },
     "execution_count": 64,
     "metadata": {},
     "output_type": "execute_result"
    }
   ],
   "source": [
    "std(Float64[serie[j][2,3] for j in 1:20])"
   ]
  },
  {
   "cell_type": "code",
   "execution_count": null,
   "metadata": {
    "collapsed": true
   },
   "outputs": [],
   "source": []
  }
 ],
 "metadata": {
  "kernelspec": {
   "display_name": "Julia 0.4.3",
   "language": "julia",
   "name": "julia-0.4"
  },
  "language_info": {
   "file_extension": ".jl",
   "mimetype": "application/julia",
   "name": "julia",
   "version": "0.4.3"
  }
 },
 "nbformat": 4,
 "nbformat_minor": 0
}

{
 "cells": [
  {
   "cell_type": "code",
   "execution_count": 1,
   "metadata": {
    "collapsed": true
   },
   "outputs": [],
   "source": [
    "using PyPlot"
   ]
  },
  {
   "cell_type": "code",
   "execution_count": 194,
   "metadata": {
    "collapsed": false
   },
   "outputs": [],
   "source": [
    "L_c = 10\n",
    "xs_c = Int[]\n",
    "ys_c = Int[]\n",
    "\n",
    "for i in 1:L\n",
    "    for j in 1:L\n",
    "        push!(xs_c, i)\n",
    "        push!(ys_c, j)\n",
    "        end\n",
    "end"
   ]
  },
  {
   "cell_type": "code",
   "execution_count": 177,
   "metadata": {
    "collapsed": false
   },
   "outputs": [
    {
     "data": {
      "text/plain": [
       "0-element Array{Int64,1}"
      ]
     },
     "execution_count": 177,
     "metadata": {},
     "output_type": "execute_result"
    }
   ],
   "source": [
    "xs_c;"
   ]
  },
  {
   "cell_type": "code",
   "execution_count": 204,
   "metadata": {
    "collapsed": false
   },
   "outputs": [
    {
     "name": "stdout",
     "output_type": "stream",
     "text": [
      "search: "
     ]
    },
    {
     "data": {
      "text/plain": [
       "\n",
       "    Add an axes to the figure.\n",
       "\n",
       "    The axes is added at position *rect* specified by:\n",
       "\n",
       "    - ``axes()`` by itself creates a default full ``subplot(111)`` window axis.\n",
       "\n",
       "    - ``axes(rect, axisbg='w')`` where *rect* = [left, bottom, width,\n",
       "      height] in normalized (0, 1) units.  *axisbg* is the background\n",
       "      color for the axis, default white.\n",
       "\n",
       "    - ``axes(h)`` where *h* is an axes instance makes *h* the current\n",
       "      axis.  An :class:`~matplotlib.axes.Axes` instance is returned.\n",
       "\n",
       "    =======   ==============   ==============================================\n",
       "    kwarg     Accepts          Description\n",
       "    =======   ==============   ==============================================\n",
       "    axisbg    color            the axes background color\n",
       "    frameon   [True|False]     display the frame?\n",
       "    sharex    otherax          current axes shares xaxis attribute\n",
       "                               with otherax\n",
       "    sharey    otherax          current axes shares yaxis attribute\n",
       "                               with otherax\n",
       "    polar     [True|False]     use a polar axes?\n",
       "    aspect    [str | num]      ['equal', 'auto'] or a number.  If a number\n",
       "                               the ratio of x-unit/y-unit in screen-space.\n",
       "                               Also see\n",
       "                               :meth:`~matplotlib.axes.Axes.set_aspect`.\n",
       "    =======   ==============   ==============================================\n",
       "\n",
       "    Examples:\n",
       "\n",
       "    * :file:`examples/pylab_examples/axes_demo.py` places custom axes.\n",
       "    * :file:`examples/pylab_examples/shared_axis_demo.py` uses\n",
       "      *sharex* and *sharey*.\n",
       "\n",
       "    "
      ]
     },
     "execution_count": 204,
     "metadata": {},
     "output_type": "execute_result"
    },
    {
     "name": "stdout",
     "output_type": "stream",
     "text": [
      "axes Axes3D delaxes localindexes parentindexes axvline axhline\n",
      "\n"
     ]
    }
   ],
   "source": [
    "?axes"
   ]
  },
  {
   "cell_type": "code",
   "execution_count": 21,
   "metadata": {
    "collapsed": false
   },
   "outputs": [
    {
     "name": "stdout",
     "output_type": "stream",
     "text": [
      "search: "
     ]
    },
    {
     "data": {
      "text/plain": [
       "\n",
       "    Convenience method to get or set axis properties.\n",
       "\n",
       "    Calling with no arguments::\n",
       "\n",
       "      >>> axis()\n",
       "\n",
       "    returns the current axes limits ``[xmin, xmax, ymin, ymax]``.::\n",
       "\n",
       "      >>> axis(v)\n",
       "\n",
       "    sets the min and max of the x and y axes, with\n",
       "    ``v = [xmin, xmax, ymin, ymax]``.::\n",
       "\n",
       "      >>> axis('off')\n",
       "\n",
       "    turns off the axis lines and labels.::\n",
       "\n",
       "      >>> axis('equal')\n",
       "\n",
       "    changes limits of *x* or *y* axis so that equal increments of *x*\n",
       "    and *y* have the same length; a circle is circular.::\n",
       "\n",
       "      >>> axis('scaled')\n",
       "\n",
       "    achieves the same result by changing the dimensions of the plot box instead\n",
       "    of the axis data limits.::\n",
       "\n",
       "      >>> axis('tight')\n",
       "\n",
       "    changes *x* and *y* axis limits such that all data is shown. If\n",
       "    all data is already shown, it will move it to the center of the\n",
       "    figure without modifying (*xmax* - *xmin*) or (*ymax* -\n",
       "    *ymin*). Note this is slightly different than in MATLAB.::\n",
       "\n",
       "      >>> axis('image')\n",
       "\n",
       "    is 'scaled' with the axis limits equal to the data limits.::\n",
       "\n",
       "      >>> axis('auto')\n",
       "\n",
       "    and::\n",
       "\n",
       "      >>> axis('normal')\n",
       "\n",
       "    are deprecated. They restore default behavior; axis limits are automatically\n",
       "    scaled to make the data fit comfortably within the plot box.\n",
       "\n",
       "    if ``len(*v)==0``, you can pass in *xmin*, *xmax*, *ymin*, *ymax*\n",
       "    as kwargs selectively to alter just those limits without changing\n",
       "    the others.\n",
       "\n",
       "      >>> axis('square')\n",
       "\n",
       "    changes the limit ranges (*xmax*-*xmin*) and (*ymax*-*ymin*) of\n",
       "    the *x* and *y* axes to be the same, and have the same scaling,\n",
       "    resulting in a square plot.\n",
       "\n",
       "    The xmin, xmax, ymin, ymax tuple is returned\n",
       "\n",
       "    .. seealso::\n",
       "\n",
       "        :func:`xlim`, :func:`ylim`\n",
       "           For setting the x- and y-limits individually.\n",
       "    "
      ]
     },
     "execution_count": 21,
     "metadata": {},
     "output_type": "execute_result"
    },
    {
     "name": "stdout",
     "output_type": "stream",
     "text": [
      "axis LaTeXStrings maximum maximum! maxintfloat axvline axhline atexit\n",
      "\n"
     ]
    }
   ],
   "source": [
    "?axis"
   ]
  },
  {
   "cell_type": "code",
   "execution_count": 235,
   "metadata": {
    "collapsed": false
   },
   "outputs": [
    {
     "data": {
      "image/png": "[encoded data removed]",
      "text/plain": [
       "PyPlot.Figure(PyObject <matplotlib.figure.Figure object at 0x31c0914e0>)"
      ]
     },
     "metadata": {},
     "output_type": "display_data"
    }
   ],
   "source": [
    "axes(aspect=\"equal\")\n",
    "#Axes().set_aspect(\"equal\", \"box\")\n",
    "plot(xs_c, ys_c, \"o\")\n",
    "plot(0,L_c)\n",
    "for i in 1:L_c\n",
    "    plot([1, L_c], [i, i],\"green\")\n",
    "end\n",
    "for i in 1:L_c\n",
    "    plot([i, i], [1, L_c],\"green\")\n",
    "end\n",
    "axis(\"off\")\n",
    "axis([.5,L_c+.5,.5,L_c+.5])\n",
    "savefig(\"red_cuadrada.pdf\")"
   ]
  },
  {
   "cell_type": "code",
   "execution_count": 8,
   "metadata": {
    "collapsed": false
   },
   "outputs": [
    {
     "data": {
      "text/plain": [
       "PyPlot.Figure(PyObject <matplotlib.figure.Figure object at 0x317ea8610>)"
      ]
     },
     "metadata": {},
     "output_type": "display_data"
    }
   ],
   "source": [
    "savefig(\"mifiguraincreible.pdf\")"
   ]
  },
  {
   "cell_type": "code",
   "execution_count": 16,
   "metadata": {
    "collapsed": true
   },
   "outputs": [],
   "source": [
    ";open mifiguraincreible.pdf"
   ]
  },
  {
   "cell_type": "code",
   "execution_count": 141,
   "metadata": {
    "collapsed": false
   },
   "outputs": [
    {
     "data": {
      "text/plain": [
       "2-element Array{Float64,1}:\n",
       " -0.5     \n",
       "  0.866025"
      ]
     },
     "execution_count": 141,
     "metadata": {},
     "output_type": "execute_result"
    }
   ],
   "source": [
    "a = [1.,0.]\n",
    "b = [0.5, sqrt(3)/2]\n",
    "b_con = [-0.5,sqrt(3)/2]\n"
   ]
  },
  {
   "cell_type": "code",
   "execution_count": 173,
   "metadata": {
    "collapsed": false
   },
   "outputs": [],
   "source": [
    "L = 10\n",
    "xs_t = Float64[]\n",
    "ys_t = Float64[]\n",
    "bx_t = Float64[]\n",
    "by_t = Float64[]\n",
    "\n",
    "for i in 1:L\n",
    "    push!(bx,i*0.5)\n",
    "    push!(by,i*sqrt(3)/2)\n",
    "    for j in 1:L\n",
    "        pos = i*a + j*b\n",
    "        push!(xs_t, pos[1])\n",
    "        push!(ys_t, pos[2])\n",
    "        \n",
    "        end\n",
    "end"
   ]
  },
  {
   "cell_type": "code",
   "execution_count": 191,
   "metadata": {
    "collapsed": false
   },
   "outputs": [],
   "source": [
    "by_t;"
   ]
  },
  {
   "cell_type": "code",
   "execution_count": 237,
   "metadata": {
    "collapsed": false
   },
   "outputs": [
    {
     "data": {
      "image/png": "[encoded data removed]",
      "text/plain": [
       "PyPlot.Figure(PyObject <matplotlib.figure.Figure object at 0x31c471c88>)"
      ]
     },
     "metadata": {},
     "output_type": "display_data"
    }
   ],
   "source": [
    "plot(xs_t, ys_t, \"h\")\n",
    "for i in 1:L\n",
    "    plot([1+i/2,L+i/2],[i*sqrt(3)/2.,i*sqrt(3)/2.], \"green\")\n",
    "    plot(bx+i,by,\"green\")\n",
    "#    plot([0,b_con[1]]*i+i+1.5,[0,b_con[2]]*i+sqrt(3)/2)\n",
    "#    plot([i+1.5,1.5+i/2.],[sqrt(3)/2,(i/2)*sqrt(3)/2])\n",
    "end\n",
    "for i in 1:L-1\n",
    "    plot([0,b_con[1]]*i+i+1.5,[0,b_con[2]]*i+sqrt(3)/2,\"green\")\n",
    "    plot([0,b_con[1]]*(L-i)+i/2+L,[0,b_con[2]]*(L-i)+sqrt(3)/2*i,\"green\")\n",
    "end\n",
    "axis(\"off\")\n",
    "axis(\"equal\")\n",
    "#axis(\"auto\")\n",
    "#axis(\"normal\")\n",
    "savefig(\"red_triangular.pdf\")"
   ]
  },
  {
   "cell_type": "code",
   "execution_count": 158,
   "metadata": {
    "collapsed": false
   },
   "outputs": [
    {
     "name": "stderr",
     "output_type": "stream",
     "text": [
      "The file /Users/Masaya/Dropbox/Maestria_en_Fisica_Estadistica/Tesis/Programacion/Wang-Landau_con_clases/tri.pdf does not exist.\n"
     ]
    }
   ],
   "source": [
    ";open tri.pdf"
   ]
  },
  {
   "cell_type": "code",
   "execution_count": null,
   "metadata": {
    "collapsed": true
   },
   "outputs": [],
   "source": []
  }
 ],
 "metadata": {
  "kernelspec": {
   "display_name": "Julia 0.4.3",
   "language": "julia",
   "name": "julia-0.4"
  },
  "language_info": {
   "file_extension": ".jl",
   "mimetype": "application/julia",
   "name": "julia",
   "version": "0.4.3"
  }
 },
 "nbformat": 4,
 "nbformat_minor": 0
}

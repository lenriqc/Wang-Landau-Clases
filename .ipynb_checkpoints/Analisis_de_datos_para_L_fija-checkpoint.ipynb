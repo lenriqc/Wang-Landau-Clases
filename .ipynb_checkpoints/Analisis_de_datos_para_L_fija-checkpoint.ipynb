{
 "cells": [
  {
   "cell_type": "markdown",
   "metadata": {},
   "source": [
    "# Explicación"
   ]
  },
  {
   "cell_type": "markdown",
   "metadata": {},
   "source": [
    "Este programa nos muestra las variables macroscópicas en función de dos variables: temperatura y campo magnético externo"
   ]
  },
  {
   "cell_type": "markdown",
   "metadata": {},
   "source": [
    "# Paquetería necesaria"
   ]
  },
  {
   "cell_type": "code",
   "execution_count": 2,
   "metadata": {
    "collapsed": false
   },
   "outputs": [
    {
     "data": {
      "text/html": [
       "<script charset=\"utf-8\">(function ($, undefined) {\n",
       "\n",
       "    function createElem(tag, attr, content) {\n",
       "\t// TODO: remove jQuery dependency\n",
       "\tvar el = $(\"<\" + tag + \"/>\").attr(attr);\n",
       "\tif (content) {\n",
       "\t    el.append(content);\n",
       "\t}\n",
       "\treturn el[0];\n",
       "    }\n",
       "\n",
       "    // A widget must expose an id field which identifies it to the backend,\n",
       "    // an elem attribute which is will be added to the DOM, and\n",
       "    // a getState() method which returns the value to be sent to the backend\n",
       "    // a sendUpdate() method which sends its current value to the backend\n",
       "    var Widget = {\n",
       "\tid: undefined,\n",
       "\telem: undefined,\n",
       "\tlabel: undefined,\n",
       "\tgetState: function () {\n",
       "\t    return this.elem.value;\n",
       "\t},\n",
       "\tsendUpdate: undefined\n",
       "    };\n",
       "\n",
       "    var Slider = function (typ, id, init) {\n",
       "\tvar attr = { type:  \"range\",\n",
       "\t\t     value: init.value,\n",
       "\t\t     min:   init.min,\n",
       "\t\t     max:   init.max,\n",
       "\t\t     step:  init.step },\n",
       "\t    elem = createElem(\"input\", attr),\n",
       "\t    self = this;\n",
       "\n",
       "\telem.onchange = function () {\n",
       "\t    self.sendUpdate();\n",
       "\t}\n",
       "\n",
       "\tthis.id = id;\n",
       "\tthis.elem = elem;\n",
       "\tthis.label = init.label;\n",
       "\n",
       "\tInputWidgets.commInitializer(this); // Initialize communication\n",
       "    }\n",
       "    Slider.prototype = Widget;\n",
       "\n",
       "    var Checkbox = function (typ, id, init) {\n",
       "\tvar attr = { type: \"checkbox\",\n",
       "\t\t     checked: init.value },\n",
       "\t    elem = createElem(\"input\", attr),\n",
       "\t    self = this;\n",
       "\n",
       "\tthis.getState = function () {\n",
       "\t    return elem.checked;\n",
       "\t}\n",
       "\telem.onchange = function () {\n",
       "\t    self.sendUpdate();\n",
       "\t}\n",
       "\n",
       "\tthis.id = id;\n",
       "\tthis.elem = elem;\n",
       "\tthis.label = init.label;\n",
       "\n",
       "\tInputWidgets.commInitializer(this);\n",
       "    }\n",
       "    Checkbox.prototype = Widget;\n",
       "\n",
       "    var Button = function (typ, id, init) {\n",
       "\tvar attr = { type:    \"button\",\n",
       "\t\t     value:   init.label },\n",
       "\t    elem = createElem(\"input\", attr),\n",
       "\t    self = this;\n",
       "\tthis.getState = function () {\n",
       "\t    return null;\n",
       "\t}\n",
       "\telem.onclick = function () {\n",
       "\t    self.sendUpdate();\n",
       "\t}\n",
       "\n",
       "\tthis.id = id;\n",
       "\tthis.elem = elem;\n",
       "\tthis.label = init.label;\n",
       "\n",
       "\tInputWidgets.commInitializer(this);\n",
       "    }\n",
       "    Button.prototype = Widget;\n",
       "\n",
       "    var Text = function (typ, id, init) {\n",
       "\tvar attr = { type:  \"text\",\n",
       "\t\t     placeholder: init.label,\n",
       "\t\t     value: init.value },\n",
       "\t    elem = createElem(\"input\", attr),\n",
       "\t    self = this;\n",
       "\tthis.getState = function () {\n",
       "\t    return elem.value;\n",
       "\t}\n",
       "\telem.onkeyup = function () {\n",
       "\t    self.sendUpdate();\n",
       "\t}\n",
       "\n",
       "\tthis.id = id;\n",
       "\tthis.elem = elem;\n",
       "\tthis.label = init.label;\n",
       "\n",
       "\tInputWidgets.commInitializer(this);\n",
       "    }\n",
       "    Text.prototype = Widget;\n",
       "\n",
       "    var Textarea = function (typ, id, init) {\n",
       "\tvar attr = { placeholder: init.label },\n",
       "\t    elem = createElem(\"textarea\", attr, init.value),\n",
       "\t    self = this;\n",
       "\tthis.getState = function () {\n",
       "\t    return elem.value;\n",
       "\t}\n",
       "\telem.onchange = function () {\n",
       "\t    self.sendUpdate();\n",
       "\t}\n",
       "\n",
       "\tthis.id = id;\n",
       "\tthis.elem = elem;\n",
       "\tthis.label = init.label;\n",
       "\n",
       "\tInputWidgets.commInitializer(this);\n",
       "    }\n",
       "    Textarea.prototype = Widget;\n",
       "\n",
       "    // RadioButtons\n",
       "    // Dropdown\n",
       "    // HTML\n",
       "    // Latex\n",
       "\n",
       "    var InputWidgets = {\n",
       "\tSlider: Slider,\n",
       "\tCheckbox: Checkbox,\n",
       "\tButton: Button,\n",
       "\tText: Text,\n",
       "\tTextarea: Textarea,\n",
       "\tdebug: false,\n",
       "\tlog: function () {\n",
       "\t    if (InputWidgets.debug) {\n",
       "\t\tconsole.log.apply(console, arguments);\n",
       "\t    }\n",
       "\t},\n",
       "\t// a central way to initalize communication\n",
       "\t// for widgets.\n",
       "\tcommInitializer: function (widget) {\n",
       "\t    widget.sendUpdate = function () {};\n",
       "\t}\n",
       "    };\n",
       "\n",
       "    window.InputWidgets = InputWidgets;\n",
       "\n",
       "})(jQuery, undefined);\n",
       "</script>"
      ]
     },
     "metadata": {},
     "output_type": "display_data"
    },
    {
     "data": {
      "text/html": [
       "<div id=\"interact-js-shim\">\n",
       "    <script charset=\"utf-8\">\n",
       "(function (IPython, $, _, MathJax, Widgets) {\n",
       "    $.event.special.destroyed = {\n",
       "\tremove: function(o) {\n",
       "\t    if (o.handler) {\n",
       "\t\to.handler.apply(this, arguments)\n",
       "\t    }\n",
       "\t}\n",
       "    }\n",
       "\n",
       "    var OutputArea = IPython.version >= \"4.0.0\" ? require(\"notebook/js/outputarea\").OutputArea : IPython.OutputArea;\n",
       "\n",
       "    var redrawValue = function (container, type, val) {\n",
       "\tvar selector = $(\"<div/>\");\n",
       "\tvar oa = new OutputArea(_.extend(selector, {\n",
       "\t    selector: selector,\n",
       "\t    prompt_area: true,\n",
       "\t    events: IPython.events,\n",
       "\t    keyboard_manager: IPython.keyboard_manager\n",
       "\t})); // Hack to work with IPython 2.1.0\n",
       "\n",
       "\tswitch (type) {\n",
       "\tcase \"image/png\":\n",
       "            var _src = 'data:' + type + ';base64,' + val;\n",
       "\t    $(container).find(\"img\").attr('src', _src);\n",
       "\t    break;\n",
       "\tdefault:\n",
       "\t    var toinsert = OutputArea.append_map[type].apply(\n",
       "\t\toa, [val, {}, selector]\n",
       "\t    );\n",
       "\t    $(container).empty().append(toinsert.contents());\n",
       "\t    selector.remove();\n",
       "\t}\n",
       "\tif (type === \"text/latex\" && MathJax) {\n",
       "\t    MathJax.Hub.Queue([\"Typeset\", MathJax.Hub, toinsert.get(0)]);\n",
       "\t}\n",
       "    }\n",
       "\n",
       "\n",
       "    $(document).ready(function() {\n",
       "\tWidgets.debug = false; // log messages etc in console.\n",
       "\tfunction initComm(evt, data) {\n",
       "\t    var comm_manager = data.kernel.comm_manager;\n",
       "        //_.extend(comm_manager.targets, require(\"widgets/js/widget\"))\n",
       "\t    comm_manager.register_target(\"Signal\", function (comm) {\n",
       "            comm.on_msg(function (msg) {\n",
       "                //Widgets.log(\"message received\", msg);\n",
       "                var val = msg.content.data.value;\n",
       "                $(\".signal-\" + comm.comm_id).each(function() {\n",
       "                var type = $(this).data(\"type\");\n",
       "                if (val[type]) {\n",
       "                    redrawValue(this, type, val[type], type);\n",
       "                }\n",
       "                });\n",
       "                delete val;\n",
       "                delete msg.content.data.value;\n",
       "            });\n",
       "\t    });\n",
       "\n",
       "\t    // coordingate with Comm and redraw Signals\n",
       "\t    // XXX: Test using Reactive here to improve performance\n",
       "\t    $([IPython.events]).on(\n",
       "\t\t'output_appended.OutputArea', function (event, type, value, md, toinsert) {\n",
       "\t\t    if (md && md.reactive) {\n",
       "                // console.log(md.comm_id);\n",
       "                toinsert.addClass(\"signal-\" + md.comm_id);\n",
       "                toinsert.data(\"type\", type);\n",
       "                // Signal back indicating the mimetype required\n",
       "                var comm_manager = IPython.notebook.kernel.comm_manager;\n",
       "                var comm = comm_manager.comms[md.comm_id];\n",
       "                comm.then(function (c) {\n",
       "                    c.send({action: \"subscribe_mime\",\n",
       "                       mime: type});\n",
       "                    toinsert.bind(\"destroyed\", function() {\n",
       "                        c.send({action: \"unsubscribe_mime\",\n",
       "                               mime: type});\n",
       "                    });\n",
       "                })\n",
       "\t\t    }\n",
       "\t    });\n",
       "\t}\n",
       "\n",
       "\ttry {\n",
       "\t    // try to initialize right away. otherwise, wait on the status_started event.\n",
       "\t    initComm(undefined, IPython.notebook);\n",
       "\t} catch (e) {\n",
       "\t    $([IPython.events]).on('kernel_created.Kernel kernel_created.Session', initComm);\n",
       "\t}\n",
       "    });\n",
       "})(IPython, jQuery, _, MathJax, InputWidgets);\n",
       "</script>\n",
       "    <script>\n",
       "        window.interactLoadedFlag = true\n",
       "       $(\"#interact-js-shim\").bind(\"destroyed\", function () {\n",
       "           if (window.interactLoadedFlag) {\n",
       "               console.warn(\"JavaScript required by Interact will be removed if you remove this cell or run using Interact more than once.\")\n",
       "           }\n",
       "       })\n",
       "       $([IPython.events]).on(\"kernel_starting.Kernel kernel_restarting.Kernel\", function () { window.interactLoadedFlag = false })\n",
       "   </script>\n",
       "</div>"
      ]
     },
     "metadata": {},
     "output_type": "display_data"
    }
   ],
   "source": [
    "using PyPlot\n",
    "using Interact\n",
    "using LaTeXStrings"
   ]
  },
  {
   "cell_type": "markdown",
   "metadata": {},
   "source": [
    "# Variables requeridas"
   ]
  },
  {
   "cell_type": "code",
   "execution_count": 3,
   "metadata": {
    "collapsed": false
   },
   "outputs": [
    {
     "data": {
      "text/plain": [
       "Inicializar_variables (generic function with 1 method)"
      ]
     },
     "execution_count": 3,
     "metadata": {},
     "output_type": "execute_result"
    }
   ],
   "source": [
    "function Inicializar_variables(k)\n",
    "    global L=k\n",
    "    global caracterizacion = \"WL2D_red-cuadrada_L-$(L)_Ising-ferro_cam-10_f-0.0001\"\n",
    "    println(caracterizacion)\n",
    "    global datos\n",
    "    global cabecera\n",
    "    datos, cabecera = readdlm(\"Entropia_2D_final/Entropia_2D_final_$(caracterizacion).txt\", header=true)\n",
    "    global temp_inicial = 1.7\n",
    "    global temp_final = 2.7\n",
    "    global cantidad_de_temperaturas = 41\n",
    "    global temperatura = linspace(temp_inicial,temp_final,cantidad_de_temperaturas)\n",
    "    global β = 1./temperatura\n",
    "    global h_inicial = 0.0\n",
    "    global h_final = 4.0\n",
    "    global δh = 0.4\n",
    "    global h = (h_inicial:δh:h_final)\n",
    "    global card_β = length(β)\n",
    "    global card_h = length(h)\n",
    "    global l = size(datos)[1]\n",
    "    global energía_promedio = [0.0 for i in 1:card_β, j in 1:card_h];\n",
    "    global magnetización_promedio = [0.0 for i in 1:card_β, j in 1:card_h];\n",
    "    global parámetro_de_orden_promedio = [0.0 for i in 1:card_β, j in 1:card_h];\n",
    "    global capacidad_calorífica = [0.0 for i in 1:card_β, j in 1:card_h];\n",
    "    global susceptibilidad_magnética = [0.0 for i in 1:card_β, j in 1:card_h];\n",
    "end"
   ]
  },
  {
   "cell_type": "markdown",
   "metadata": {},
   "source": [
    "# Definiendo funciones"
   ]
  },
  {
   "cell_type": "markdown",
   "metadata": {},
   "source": [
    "## Gráficas de entropía experimental y teórica con animación"
   ]
  },
  {
   "cell_type": "code",
   "execution_count": 4,
   "metadata": {
    "collapsed": false
   },
   "outputs": [
    {
     "data": {
      "text/plain": [
       "Grafica3d (generic function with 1 method)"
      ]
     },
     "execution_count": 4,
     "metadata": {},
     "output_type": "execute_result"
    }
   ],
   "source": [
    "function Grafica3d(angle,x,y,z)\n",
    "    plot3D(x,y,z, \".\", alpha=0.2 )\n",
    "        ax = gca()\n",
    "        ax[:view_init](elev=30., azim=angle)\n",
    "end"
   ]
  },
  {
   "cell_type": "code",
   "execution_count": 5,
   "metadata": {
    "collapsed": false
   },
   "outputs": [
    {
     "data": {
      "text/plain": [
       "Animar_grafica3d (generic function with 1 method)"
      ]
     },
     "execution_count": 5,
     "metadata": {},
     "output_type": "execute_result"
    }
   ],
   "source": [
    "function Animar_grafica3d(x,y,z)\n",
    "    fig = figure(figsize=(8,6))\n",
    "    @manipulate for angle=0:10:360\n",
    "        withfig(fig) do\n",
    "            Grafica3d(angle,x,y,z)\n",
    "        end\n",
    "    end\n",
    "end "
   ]
  },
  {
   "cell_type": "code",
   "execution_count": 6,
   "metadata": {
    "collapsed": false
   },
   "outputs": [
    {
     "data": {
      "text/plain": [
       "Grafica3d_teórica (generic function with 1 method)"
      ]
     },
     "execution_count": 6,
     "metadata": {},
     "output_type": "execute_result"
    }
   ],
   "source": [
    "function Grafica3d_teórica(angle,x,y,z)\n",
    "    plot3D(x, y, log(z), \"o\", alpha=0.2 )\n",
    "    ax = gca()\n",
    "    ax[:view_init](elev=30., azim=angle)\n",
    "end"
   ]
  },
  {
   "cell_type": "markdown",
   "metadata": {},
   "source": [
    "## Funciones para  obtener observables"
   ]
  },
  {
   "cell_type": "code",
   "execution_count": 30,
   "metadata": {
    "collapsed": false
   },
   "outputs": [
    {
     "data": {
      "text/plain": [
       "Renormalización (generic function with 1 method)"
      ]
     },
     "execution_count": 30,
     "metadata": {},
     "output_type": "execute_result"
    }
   ],
   "source": [
    "function Renormalización(i,j)\n",
    "    maximun(datos[:,3]-β[i]*(datos[:,1]-h[j]*datos[:,2]))\n",
    "end "
   ]
  },
  {
   "cell_type": "code",
   "execution_count": 8,
   "metadata": {
    "collapsed": false
   },
   "outputs": [
    {
     "data": {
      "text/plain": [
       "Variables_Macroscópicas_variando_β_y_h_con_L_fija (generic function with 1 method)"
      ]
     },
     "execution_count": 8,
     "metadata": {},
     "output_type": "execute_result"
    }
   ],
   "source": [
    "function Variables_Macroscópicas_variando_β_y_h_con_L_fija(i,j)\n",
    "    función_de_partición_1D = 0.0\n",
    "    función_de_partición_2D = 0.0\n",
    "    energía = 0.0\n",
    "    energía_cuadrada = 0.0\n",
    "    magnetización = 0.0\n",
    "    magnetización_cuadrada = 0.0\n",
    "    parámetro_de_orden = 0.0\n",
    "    exponente = 0.0\n",
    "    for k in 1:l\n",
    "        exponente = datos[k,3] - β[i]*(datos[k,1]-h[j]*datos[k,2]) - Renormalización(i,j)\n",
    "        #exponente = datos[k,3] - β[i]*(datos[k,1]-h[j]*datos[k,2])\n",
    "        función_de_partición_2D += exp(exponente)\n",
    "        energía += abs(datos[k,1])*exp(exponente)\n",
    "        energía_cuadrada += datos[k,1]*datos[k,1]*exp(exponente)\n",
    "        magnetización += abs(datos[k,2])*exp(exponente)\n",
    "        magnetización_cuadrada += datos[k,2]*datos[k,2]*exp(exponente)\n",
    "        parámetro_de_orden += abs(datos[k,4])*exp(exponente)\n",
    "    end\n",
    "    energía_promedio[i,j] = (energía)/(función_de_partición_2D*L)\n",
    "    magnetización_promedio[i,j] = (magnetización)/(función_de_partición_2D*L)\n",
    "    parámetro_de_orden_promedio[i,j] = (parámetro_de_orden)/(función_de_partición_2D*L)\n",
    "    capacidad_calorífica[i,j] = abs(energía_cuadrada - energía*energía)/(función_de_partición_2D*L*L)\n",
    "    susceptibilidad_magnética[i,j] = abs(magnetización_cuadrada - magnetización*magnetización)/(función_de_partición_2D*L*L)\n",
    "end"
   ]
  },
  {
   "cell_type": "code",
   "execution_count": 9,
   "metadata": {
    "collapsed": false
   },
   "outputs": [
    {
     "data": {
      "text/plain": [
       "Obtener_variables_macroscópicas (generic function with 1 method)"
      ]
     },
     "execution_count": 9,
     "metadata": {},
     "output_type": "execute_result"
    }
   ],
   "source": [
    "function Obtener_variables_macroscópicas()\n",
    "    for i=1:card_β\n",
    "        for j=1:card_h\n",
    "            println(\"$i,$j\")\n",
    "            Variables_Macroscópicas_variando_β_y_h_con_L_fija(i,j)\n",
    "        end\n",
    "    end\n",
    "end"
   ]
  },
  {
   "cell_type": "markdown",
   "metadata": {},
   "source": [
    "## Gáficas de observables"
   ]
  },
  {
   "cell_type": "code",
   "execution_count": 10,
   "metadata": {
    "collapsed": false
   },
   "outputs": [
    {
     "data": {
      "text/plain": [
       "Mostrar_varias_observables (generic function with 1 method)"
      ]
     },
     "execution_count": 10,
     "metadata": {},
     "output_type": "execute_result"
    }
   ],
   "source": [
    "function Mostrar_varias_observables()\n",
    "    fig = figure()\n",
    "    @manipulate for i in 1:card_h\n",
    "        withfig(fig) do\n",
    "            subplot(221)\n",
    "            ylim(0,1.05)\n",
    "            xlabel(L\"T\")\n",
    "            ylabel(L\"m\")\n",
    "            plot(temperatura,parámetro_de_orden_promedio[:,i], label = latexstring(\"h=$(h[i])\"))\n",
    "            legend()\n",
    "            subplot(222)\n",
    "            xlabel(L\"T\")\n",
    "            ylabel(L\"u\")\n",
    "            plot(temperatura,energía_promedio[:,i], label = latexstring(\"h=$(h[i])\"))\n",
    "            legend()\n",
    "            subplot(223)\n",
    "            xlabel(L\"T\")\n",
    "            ylabel(L\"c_v\")\n",
    "            plot(temperatura,capacidad_calorífica[:,i], label = latexstring(\"h=$(h[i])\"))\n",
    "            legend()\n",
    "            subplot(224)\n",
    "            xlabel(L\"T\")\n",
    "            ylabel(L\"x\")\n",
    "            plot(temperatura,susceptibilidad_magnética[:,i], label = latexstring(\"h=$(h[i])\"))\n",
    "            legend()\n",
    "        end\n",
    "    end\n",
    "end"
   ]
  },
  {
   "cell_type": "markdown",
   "metadata": {},
   "source": [
    "## Gráfica de observables vs temperatura con $h$ fija"
   ]
  },
  {
   "cell_type": "markdown",
   "metadata": {},
   "source": [
    "ARGUMENTOS DE LA FUNCIÓN:\n",
    "\n",
    "***observables_macroscópicas***: conjunto de valores de la observable para cada valor de temperatura\n",
    "\n",
    "***cadena***: Nombre del eje Y"
   ]
  },
  {
   "cell_type": "code",
   "execution_count": 11,
   "metadata": {
    "collapsed": false
   },
   "outputs": [
    {
     "data": {
      "text/plain": [
       "Grafica_observable_macroscópica_con_h_fija (generic function with 1 method)"
      ]
     },
     "execution_count": 11,
     "metadata": {},
     "output_type": "execute_result"
    }
   ],
   "source": [
    "function Grafica_observable_macroscópica_con_h_fija(valor_de_h,observable_macroscópica, cadena)\n",
    "    xlabel(L\"T\")\n",
    "    ylabel(cadena)\n",
    "    title(cadena)\n",
    "    plot(temperatura,observable_macroscópica, label = latexstring(L\"h=\"*\"$(valor_de_h)\"))\n",
    "    legend()\n",
    "end"
   ]
  },
  {
   "cell_type": "markdown",
   "metadata": {},
   "source": [
    "## Gráfica de observable vs temperatura para varias $h$'s "
   ]
  },
  {
   "cell_type": "code",
   "execution_count": 12,
   "metadata": {
    "collapsed": false
   },
   "outputs": [
    {
     "data": {
      "text/plain": [
       "Grafica_varias_observables_para_distintos_h (generic function with 1 method)"
      ]
     },
     "execution_count": 12,
     "metadata": {},
     "output_type": "execute_result"
    }
   ],
   "source": [
    "function Grafica_varias_observables_para_distintos_h(observable_macroscópica, cadena)\n",
    "    for i in 1:card_β\n",
    "        ylim(0,1.05)\n",
    "        plot(temperatura,observable_macroscópica[:,i],label = latexstring(\"h=$(h[i])\"))\n",
    "        #legend (loc=\"upper right\")\n",
    "        xlabel(L\"T\")\n",
    "        ylabel(cadena)\n",
    "        title(cadena*\" en función de \"*L\"h\")\n",
    "        legend(loc=1, borderaxespad=-8.)\n",
    "    end\n",
    "end"
   ]
  },
  {
   "cell_type": "markdown",
   "metadata": {},
   "source": [
    "## Parámetro de orden 3D, como función de $\\beta$ y $h$"
   ]
  },
  {
   "cell_type": "code",
   "execution_count": 13,
   "metadata": {
    "collapsed": false,
    "scrolled": true
   },
   "outputs": [
    {
     "data": {
      "text/plain": [
       "Parámetro_de_orden_3D (generic function with 1 method)"
      ]
     },
     "execution_count": 13,
     "metadata": {},
     "output_type": "execute_result"
    }
   ],
   "source": [
    "function Parámetro_de_orden_3D()    \n",
    "    fig = figure(figsize=(5,4))\n",
    "    @manipulate for angle=0:10:360\n",
    "        withfig(fig) do\n",
    "            surf(temperatura, h, magnetización_promedio', alpha=0.4, rstride=3, cstride=3)\n",
    "            ax = gca()\n",
    "            ax[:view_init](elev=30., azim=angle)\n",
    "            xlabel(L\"T\")\n",
    "            ylabel(L\"h\")\n",
    "            zlabel(L\"m\")\n",
    "        end\n",
    "    end\n",
    "end"
   ]
  },
  {
   "cell_type": "markdown",
   "metadata": {},
   "source": [
    "# Aquí acaban las funciones"
   ]
  },
  {
   "cell_type": "code",
   "execution_count": 14,
   "metadata": {
    "collapsed": false,
    "scrolled": true
   },
   "outputs": [
    {
     "name": "stdout",
     "output_type": "stream",
     "text": [
      "WL2D_red-cuadrada_L-16_Ising-ferro_cam-10_f-0.0001\n"
     ]
    },
    {
     "data": {
      "text/plain": [
       "41x11 Array{Float64,2}:\n",
       " 0.0  0.0  0.0  0.0  0.0  0.0  0.0  0.0  0.0  0.0  0.0\n",
       " 0.0  0.0  0.0  0.0  0.0  0.0  0.0  0.0  0.0  0.0  0.0\n",
       " 0.0  0.0  0.0  0.0  0.0  0.0  0.0  0.0  0.0  0.0  0.0\n",
       " 0.0  0.0  0.0  0.0  0.0  0.0  0.0  0.0  0.0  0.0  0.0\n",
       " 0.0  0.0  0.0  0.0  0.0  0.0  0.0  0.0  0.0  0.0  0.0\n",
       " 0.0  0.0  0.0  0.0  0.0  0.0  0.0  0.0  0.0  0.0  0.0\n",
       " 0.0  0.0  0.0  0.0  0.0  0.0  0.0  0.0  0.0  0.0  0.0\n",
       " 0.0  0.0  0.0  0.0  0.0  0.0  0.0  0.0  0.0  0.0  0.0\n",
       " 0.0  0.0  0.0  0.0  0.0  0.0  0.0  0.0  0.0  0.0  0.0\n",
       " 0.0  0.0  0.0  0.0  0.0  0.0  0.0  0.0  0.0  0.0  0.0\n",
       " 0.0  0.0  0.0  0.0  0.0  0.0  0.0  0.0  0.0  0.0  0.0\n",
       " 0.0  0.0  0.0  0.0  0.0  0.0  0.0  0.0  0.0  0.0  0.0\n",
       " 0.0  0.0  0.0  0.0  0.0  0.0  0.0  0.0  0.0  0.0  0.0\n",
       " ⋮                        ⋮                        ⋮  \n",
       " 0.0  0.0  0.0  0.0  0.0  0.0  0.0  0.0  0.0  0.0  0.0\n",
       " 0.0  0.0  0.0  0.0  0.0  0.0  0.0  0.0  0.0  0.0  0.0\n",
       " 0.0  0.0  0.0  0.0  0.0  0.0  0.0  0.0  0.0  0.0  0.0\n",
       " 0.0  0.0  0.0  0.0  0.0  0.0  0.0  0.0  0.0  0.0  0.0\n",
       " 0.0  0.0  0.0  0.0  0.0  0.0  0.0  0.0  0.0  0.0  0.0\n",
       " 0.0  0.0  0.0  0.0  0.0  0.0  0.0  0.0  0.0  0.0  0.0\n",
       " 0.0  0.0  0.0  0.0  0.0  0.0  0.0  0.0  0.0  0.0  0.0\n",
       " 0.0  0.0  0.0  0.0  0.0  0.0  0.0  0.0  0.0  0.0  0.0\n",
       " 0.0  0.0  0.0  0.0  0.0  0.0  0.0  0.0  0.0  0.0  0.0\n",
       " 0.0  0.0  0.0  0.0  0.0  0.0  0.0  0.0  0.0  0.0  0.0\n",
       " 0.0  0.0  0.0  0.0  0.0  0.0  0.0  0.0  0.0  0.0  0.0\n",
       " 0.0  0.0  0.0  0.0  0.0  0.0  0.0  0.0  0.0  0.0  0.0"
      ]
     },
     "execution_count": 14,
     "metadata": {},
     "output_type": "execute_result"
    }
   ],
   "source": [
    "Inicializar_variables(16)"
   ]
  },
  {
   "cell_type": "code",
   "execution_count": 15,
   "metadata": {
    "collapsed": false
   },
   "outputs": [
    {
     "name": "stdout",
     "output_type": "stream",
     "text": [
      "1,1\n",
      "1,2\n",
      "1,3\n",
      "1,4\n",
      "1,5\n",
      "1,6\n",
      "1,7\n",
      "1,8\n",
      "1,9\n",
      "1,10\n",
      "1,11\n",
      "2,1\n",
      "2,2\n",
      "2,3\n",
      "2,4\n",
      "2,5\n",
      "2,6\n",
      "2,7\n",
      "2,8\n",
      "2,9\n",
      "2,10\n",
      "2,11\n",
      "3,1\n",
      "3,2\n",
      "3,3\n",
      "3,4\n",
      "3,5\n",
      "3,6\n",
      "3,7\n",
      "3,8\n",
      "3,9\n",
      "3,10\n",
      "3,11\n",
      "4,1\n",
      "4,2\n",
      "4,3\n",
      "4,4\n",
      "4,5\n",
      "4,6\n",
      "4,7\n",
      "4,8\n",
      "4,9\n",
      "4,10\n",
      "4,11\n",
      "5,1\n",
      "5,2\n",
      "5,3\n",
      "5,4\n",
      "5,5\n",
      "5,6\n",
      "5,7\n",
      "5,8\n",
      "5,9\n",
      "5,10\n",
      "5,11\n",
      "6,1\n",
      "6,2\n",
      "6,3\n",
      "6,4\n",
      "6,5\n",
      "6,6\n",
      "6,7\n",
      "6,8\n",
      "6,9\n",
      "6,10\n",
      "6,11\n",
      "7,1\n",
      "7,2\n",
      "7,3\n",
      "7,4\n",
      "7,5\n",
      "7,6\n",
      "7,7\n",
      "7,8\n",
      "7,9\n",
      "7,10\n",
      "7,11\n",
      "8,1\n",
      "8,2\n",
      "8,3\n",
      "8,4\n",
      "8,5\n",
      "8,6\n",
      "8,7\n",
      "8,8\n",
      "8,9\n",
      "8,10\n",
      "8,11\n",
      "9,1\n",
      "9,2\n",
      "9,3\n",
      "9,4\n",
      "9,5\n",
      "9,6\n",
      "9,7\n",
      "9,8\n",
      "9,9\n",
      "9,10\n",
      "9,11\n",
      "10,1\n",
      "10,2\n",
      "10,3\n",
      "10,4\n",
      "10,5\n",
      "10,6\n",
      "10,7\n",
      "10,8\n",
      "10,9\n",
      "10,10\n",
      "10,11\n",
      "11,1\n",
      "11,2\n",
      "11,3\n",
      "11,4\n",
      "11,5\n",
      "11,6\n",
      "11,7\n",
      "11,8\n",
      "11,9\n",
      "11,10\n",
      "11,11\n",
      "12,1\n",
      "12,2\n",
      "12,3\n",
      "12,4\n",
      "12,5\n",
      "12,6\n",
      "12,7\n",
      "12,8\n",
      "12,9\n",
      "12,10\n",
      "12,11\n",
      "13,1\n",
      "13,2\n",
      "13,3\n",
      "13,4\n",
      "13,5\n",
      "13,6\n",
      "13,7\n",
      "13,8\n",
      "13,9\n",
      "13,10\n",
      "13,11\n",
      "14,1\n",
      "14,2\n",
      "14,3\n",
      "14,4\n",
      "14,5\n",
      "14,6\n",
      "14,7\n",
      "14,8\n",
      "14,9\n",
      "14,10\n",
      "14,11\n",
      "15,1\n",
      "15,2\n",
      "15,3\n",
      "15,4\n",
      "15,5\n",
      "15,6\n",
      "15,7\n",
      "15,8\n",
      "15,9\n",
      "15,10\n",
      "15,11\n",
      "16,1\n",
      "16,2\n",
      "16,3\n",
      "16,4\n",
      "16,5\n",
      "16,6\n",
      "16,7\n",
      "16,8\n",
      "16,9\n",
      "16,10\n",
      "16,11\n",
      "17,1\n",
      "17,2\n",
      "17,3\n",
      "17,4\n",
      "17,5\n",
      "17,6\n",
      "17,7\n",
      "17,8\n",
      "17,9\n",
      "17,10\n",
      "17,11\n",
      "18,1\n",
      "18,2\n",
      "18,3\n",
      "18,4\n",
      "18,5\n",
      "18,6\n",
      "18,7\n",
      "18,8\n",
      "18,9\n",
      "18,10\n",
      "18,11\n",
      "19,1\n",
      "19,2\n",
      "19,3\n",
      "19,4\n",
      "19,5\n",
      "19,6\n",
      "19,7\n",
      "19,8\n",
      "19,9\n",
      "19,10\n",
      "19,11\n",
      "20,1\n",
      "20,2\n",
      "20,3\n",
      "20,4\n",
      "20,5\n",
      "20,6\n",
      "20,7\n",
      "20,8\n",
      "20,9\n",
      "20,10\n",
      "20,11\n",
      "21,1\n",
      "21,2\n",
      "21,3\n",
      "21,4\n",
      "21,5\n",
      "21,6\n",
      "21,7\n",
      "21,8\n",
      "21,9\n",
      "21,10\n",
      "21,11\n",
      "22,1\n",
      "22,2\n",
      "22,3\n",
      "22,4\n",
      "22,5\n",
      "22,6\n",
      "22,7\n",
      "22,8\n",
      "22,9\n",
      "22,10\n",
      "22,11\n",
      "23,1\n",
      "23,2\n",
      "23,3\n",
      "23,4\n",
      "23,5\n",
      "23,6\n",
      "23,7\n",
      "23,8\n",
      "23,9\n",
      "23,10\n",
      "23,11\n",
      "24,1\n",
      "24,2\n",
      "24,3\n",
      "24,4\n",
      "24,5\n",
      "24,6\n",
      "24,7\n",
      "24,8\n",
      "24,9\n",
      "24,10\n",
      "24,11\n",
      "25,1\n",
      "25,2\n",
      "25,3\n",
      "25,4\n",
      "25,5\n",
      "25,6\n",
      "25,7\n",
      "25,8\n",
      "25,9\n",
      "25,10\n",
      "25,11\n",
      "26,1\n",
      "26,2\n",
      "26,3\n",
      "26,4\n",
      "26,5\n",
      "26,6\n",
      "26,7\n",
      "26,8\n",
      "26,9\n",
      "26,10\n",
      "26,11\n",
      "27,1\n",
      "27,2\n",
      "27,3\n",
      "27,4\n",
      "27,5\n",
      "27,6\n",
      "27,7\n",
      "27,8\n",
      "27,9\n",
      "27,10\n",
      "27,11\n",
      "28,1\n",
      "28,2\n",
      "28,3\n",
      "28,4\n",
      "28,5\n",
      "28,6\n",
      "28,7\n",
      "28,8\n",
      "28,9\n",
      "28,10\n",
      "28,11\n",
      "29,1\n",
      "29,2\n",
      "29,3\n",
      "29,4\n",
      "29,5\n",
      "29,6\n",
      "29,7\n",
      "29,8\n",
      "29,9\n",
      "29,10\n",
      "29,11\n",
      "30,1\n",
      "30,2\n",
      "30,3\n",
      "30,4\n",
      "30,5\n",
      "30,6\n",
      "30,7\n",
      "30,8\n",
      "30,9\n",
      "30,10\n",
      "30,11\n",
      "31,1\n",
      "31,2\n",
      "31,3\n",
      "31,4\n",
      "31,5\n",
      "31,6\n",
      "31,7\n",
      "31,8\n",
      "31,9\n",
      "31,10\n",
      "31,11\n",
      "32,1\n",
      "32,2\n",
      "32,3\n",
      "32,4\n",
      "32,5\n",
      "32,6\n",
      "32,7\n",
      "32,8\n",
      "32,9\n",
      "32,10\n",
      "32,11\n",
      "33,1\n",
      "33,2\n",
      "33,3\n",
      "33,4\n",
      "33,5\n",
      "33,6\n",
      "33,7\n",
      "33,8\n",
      "33,9\n",
      "33,10\n",
      "33,11\n",
      "34,1\n",
      "34,2\n",
      "34,3\n",
      "34,4\n",
      "34,5\n",
      "34,6\n",
      "34,7\n",
      "34,8\n",
      "34,9\n",
      "34,10\n",
      "34,11\n",
      "35,1\n",
      "35,2\n",
      "35,3\n",
      "35,4\n",
      "35,5\n",
      "35,6\n",
      "35,7\n",
      "35,8\n",
      "35,9\n",
      "35,10\n",
      "35,11\n",
      "36,1\n",
      "36,2\n",
      "36,3\n",
      "36,4\n",
      "36,5\n",
      "36,6\n",
      "36,7\n",
      "36,8\n",
      "36,9\n",
      "36,10\n",
      "36,11\n",
      "37,1\n",
      "37,2\n",
      "37,3\n",
      "37,4\n",
      "37,5\n",
      "37,6\n",
      "37,7\n",
      "37,8\n",
      "37,9\n",
      "37,10\n",
      "37,11\n",
      "38,1\n",
      "38,2\n",
      "38,3\n",
      "38,4\n",
      "38,5\n",
      "38,6\n",
      "38,7\n",
      "38,8\n",
      "38,9\n",
      "38,10\n",
      "38,11\n",
      "39,1\n",
      "39,2\n",
      "39,3\n",
      "39,4\n",
      "39,5\n",
      "39,6\n",
      "39,7\n",
      "39,8\n",
      "39,9\n",
      "39,10\n",
      "39,11\n",
      "40,1\n",
      "40,2\n",
      "40,3\n",
      "40,4\n",
      "40,5\n",
      "40,6\n",
      "40,7\n",
      "40,8\n",
      "40,9\n",
      "40,10\n",
      "40,11\n",
      "41,1\n",
      "41,2\n",
      "41,3\n",
      "41,4\n",
      "41,5\n",
      "41,6\n",
      "41,7\n",
      "41,8\n",
      "41,9\n",
      "41,10\n",
      "41,11\n"
     ]
    }
   ],
   "source": [
    "Obtener_variables_macroscópicas()"
   ]
  },
  {
   "cell_type": "code",
   "execution_count": 16,
   "metadata": {
    "collapsed": false
   },
   "outputs": [
    {
     "data": {
      "text/plain": [
       "41x11 Array{Float64,2}:\n",
       " 3.01572e135  Inf            Inf            …  Inf  Inf  NaN  NaN  NaN  NaN\n",
       " 4.88719e133  Inf            Inf               Inf  Inf  NaN  NaN  NaN  NaN\n",
       " 9.07558e131  Inf            Inf               Inf  Inf  NaN  NaN  NaN  NaN\n",
       " 1.92188e130  Inf            Inf               Inf  Inf  Inf  NaN  NaN  NaN\n",
       " 4.62003e128    1.72089e152  Inf               Inf  Inf  Inf  NaN  NaN  NaN\n",
       " 1.25543e127    1.92173e150  Inf            …  Inf  Inf  Inf  NaN  NaN  NaN\n",
       " 3.84116e125    2.45554e148  Inf               Inf  Inf  Inf  NaN  NaN  NaN\n",
       " 1.31843e124    3.57212e146  Inf               Inf  Inf  Inf  NaN  NaN  NaN\n",
       " 5.05943e122    5.88779e144  Inf               Inf  Inf  Inf  NaN  NaN  NaN\n",
       " 2.16377e121    1.0946e143   Inf               Inf  Inf  Inf  Inf  NaN  NaN\n",
       " 1.02824e120    2.28542e141  Inf            …  Inf  Inf  Inf  Inf  NaN  NaN\n",
       " 5.41427e118    5.33717e139  Inf               Inf  Inf  Inf  Inf  NaN  NaN\n",
       " 3.15061e117    1.38872e138  Inf               Inf  Inf  Inf  Inf  NaN  NaN\n",
       " ⋮                                          ⋱    ⋮                        ⋮\n",
       " 1.52266e102    1.3426e117     1.08345e134     Inf  Inf  Inf  Inf  Inf  Inf\n",
       " 3.70923e101    1.51868e116    6.99414e132  …  Inf  Inf  Inf  Inf  Inf  Inf\n",
       " 9.61407e100    1.82673e115    4.83177e131     Inf  Inf  Inf  Inf  Inf  Inf\n",
       " 2.64345e100    2.33245e114    3.56574e130     Inf  Inf  Inf  Inf  Inf  Inf\n",
       " 7.68565e99     3.15609e113    2.8062e129      Inf  Inf  Inf  Inf  Inf  Inf\n",
       " 2.35509e99     4.51837e112    2.35118e128     Inf  Inf  Inf  Inf  Inf  Inf\n",
       " 7.5812e98      6.83339e111    2.09385e127  …  Inf  Inf  Inf  Inf  Inf  Inf\n",
       " 2.55573e98     1.0901e111     1.97884e126     Inf  Inf  Inf  Inf  Inf  Inf\n",
       " 8.99605e97     1.83172e110    1.98156e125     Inf  Inf  Inf  Inf  Inf  Inf\n",
       " 3.29729e97     3.2376e109     2.09931e124     Inf  Inf  Inf  Inf  Inf  Inf\n",
       " 1.25524e97     6.01178e108    2.3495e123      Inf  Inf  Inf  Inf  Inf  Inf\n",
       " 4.95172e96     1.17128e108    2.77377e122  …  Inf  Inf  Inf  Inf  Inf  Inf"
      ]
     },
     "execution_count": 16,
     "metadata": {},
     "output_type": "execute_result"
    }
   ],
   "source": [
    "susceptibilidad_magnética"
   ]
  },
  {
   "cell_type": "code",
   "execution_count": null,
   "metadata": {
    "collapsed": false
   },
   "outputs": [],
   "source": [
    "i=1\n",
    "Grafica_observable_macroscópica_con_h_fija(h[i],susceptibilidad_magnética[:,i],\"Susceptibilidad magnética\");"
   ]
  },
  {
   "cell_type": "code",
   "execution_count": null,
   "metadata": {
    "collapsed": false
   },
   "outputs": [],
   "source": [
    "Mostrar_varias_observables();"
   ]
  },
  {
   "cell_type": "code",
   "execution_count": 20,
   "metadata": {
    "collapsed": false
   },
   "outputs": [
    {
     "ename": "LoadError",
     "evalue": "LoadError: MethodError: `*` has no method matching *(::FloatRange{Float64}, ::Array{Float64,1})\nClosest candidates are:\n  *(::Any, ::Any, !Matched::Any, !Matched::Any...)\n  *{T<:Union{Complex{Float32},Complex{Float64},Float32,Float64},S}(!Matched::Union{DenseArray{T<:Union{Complex{Float32},Complex{Float64},Float32,Float64},2},SubArray{T<:Union{Complex{Float32},Complex{Float64},Float32,Float64},2,A<:DenseArray{T,N},I<:Tuple{Vararg{Union{Colon,Int64,Range{Int64}}}},LD}}, ::Union{DenseArray{S,1},SubArray{S,1,A<:DenseArray{T,N},I<:Tuple{Vararg{Union{Colon,Int64,Range{Int64}}}},LD}})\n  *{TA,TB}(!Matched::Base.LinAlg.AbstractTriangular{TA,S<:AbstractArray{T,2}}, ::Union{DenseArray{TB,1},DenseArray{TB,2},SubArray{TB,1,A<:DenseArray{T,N},I<:Tuple{Vararg{Union{Colon,Int64,Range{Int64}}}},LD},SubArray{TB,2,A<:DenseArray{T,N},I<:Tuple{Vararg{Union{Colon,Int64,Range{Int64}}}},LD}})\n  ...\nwhile loading In[20], in expression starting on line 1",
     "output_type": "error",
     "traceback": [
      "LoadError: MethodError: `*` has no method matching *(::FloatRange{Float64}, ::Array{Float64,1})\nClosest candidates are:\n  *(::Any, ::Any, !Matched::Any, !Matched::Any...)\n  *{T<:Union{Complex{Float32},Complex{Float64},Float32,Float64},S}(!Matched::Union{DenseArray{T<:Union{Complex{Float32},Complex{Float64},Float32,Float64},2},SubArray{T<:Union{Complex{Float32},Complex{Float64},Float32,Float64},2,A<:DenseArray{T,N},I<:Tuple{Vararg{Union{Colon,Int64,Range{Int64}}}},LD}}, ::Union{DenseArray{S,1},SubArray{S,1,A<:DenseArray{T,N},I<:Tuple{Vararg{Union{Colon,Int64,Range{Int64}}}},LD}})\n  *{TA,TB}(!Matched::Base.LinAlg.AbstractTriangular{TA,S<:AbstractArray{T,2}}, ::Union{DenseArray{TB,1},DenseArray{TB,2},SubArray{TB,1,A<:DenseArray{T,N},I<:Tuple{Vararg{Union{Colon,Int64,Range{Int64}}}},LD},SubArray{TB,2,A<:DenseArray{T,N},I<:Tuple{Vararg{Union{Colon,Int64,Range{Int64}}}},LD}})\n  ...\nwhile loading In[20], in expression starting on line 1",
      ""
     ]
    }
   ],
   "source": [
    "datos[:,3]-β*(datos[:,1]-h*datos[:,2])"
   ]
  },
  {
   "cell_type": "code",
   "execution_count": 29,
   "metadata": {
    "collapsed": false
   },
   "outputs": [
    {
     "data": {
      "text/plain": [
       "660.4821467816092"
      ]
     },
     "execution_count": 29,
     "metadata": {},
     "output_type": "execute_result"
    }
   ],
   "source": [
    "maximum(datos[:,3]-β[20]*(datos[:,1]-h[10]*datos[:,2]))"
   ]
  },
  {
   "cell_type": "code",
   "execution_count": 25,
   "metadata": {
    "collapsed": false
   },
   "outputs": [
    {
     "data": {
      "text/plain": [
       "3.6"
      ]
     },
     "execution_count": 25,
     "metadata": {},
     "output_type": "execute_result"
    }
   ],
   "source": [
    "h[10]"
   ]
  },
  {
   "cell_type": "code",
   "execution_count": null,
   "metadata": {
    "collapsed": true
   },
   "outputs": [],
   "source": []
  },
  {
   "cell_type": "code",
   "execution_count": null,
   "metadata": {
    "collapsed": true
   },
   "outputs": [],
   "source": []
  },
  {
   "cell_type": "code",
   "execution_count": null,
   "metadata": {
    "collapsed": true
   },
   "outputs": [],
   "source": []
  }
 ],
 "metadata": {
  "kernelspec": {
   "display_name": "Julia 0.4.3",
   "language": "julia",
   "name": "julia-0.4"
  },
  "language_info": {
   "file_extension": ".jl",
   "mimetype": "application/julia",
   "name": "julia",
   "version": "0.4.3"
  }
 },
 "nbformat": 4,
 "nbformat_minor": 0
}

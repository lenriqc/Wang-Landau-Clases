{
 "cells": [
  {
   "cell_type": "markdown",
   "metadata": {},
   "source": [
    "# Explicación"
   ]
  },
  {
   "cell_type": "markdown",
   "metadata": {},
   "source": [
    "Este programa nos muestra las variables macroscópicas en función de dos variables: temperatura y campo magnético externo"
   ]
  },
  {
   "cell_type": "markdown",
   "metadata": {},
   "source": [
    "# Paquetería necesaria"
   ]
  },
  {
   "cell_type": "code",
   "execution_count": 1,
   "metadata": {
    "collapsed": false
   },
   "outputs": [
    {
     "data": {
      "text/html": [
       "<script charset=\"utf-8\">(function ($, undefined) {\n",
       "\n",
       "    function createElem(tag, attr, content) {\n",
       "\t// TODO: remove jQuery dependency\n",
       "\tvar el = $(\"<\" + tag + \"/>\").attr(attr);\n",
       "\tif (content) {\n",
       "\t    el.append(content);\n",
       "\t}\n",
       "\treturn el[0];\n",
       "    }\n",
       "\n",
       "    // A widget must expose an id field which identifies it to the backend,\n",
       "    // an elem attribute which is will be added to the DOM, and\n",
       "    // a getState() method which returns the value to be sent to the backend\n",
       "    // a sendUpdate() method which sends its current value to the backend\n",
       "    var Widget = {\n",
       "\tid: undefined,\n",
       "\telem: undefined,\n",
       "\tlabel: undefined,\n",
       "\tgetState: function () {\n",
       "\t    return this.elem.value;\n",
       "\t},\n",
       "\tsendUpdate: undefined\n",
       "    };\n",
       "\n",
       "    var Slider = function (typ, id, init) {\n",
       "\tvar attr = { type:  \"range\",\n",
       "\t\t     value: init.value,\n",
       "\t\t     min:   init.min,\n",
       "\t\t     max:   init.max,\n",
       "\t\t     step:  init.step },\n",
       "\t    elem = createElem(\"input\", attr),\n",
       "\t    self = this;\n",
       "\n",
       "\telem.onchange = function () {\n",
       "\t    self.sendUpdate();\n",
       "\t}\n",
       "\n",
       "\tthis.id = id;\n",
       "\tthis.elem = elem;\n",
       "\tthis.label = init.label;\n",
       "\n",
       "\tInputWidgets.commInitializer(this); // Initialize communication\n",
       "    }\n",
       "    Slider.prototype = Widget;\n",
       "\n",
       "    var Checkbox = function (typ, id, init) {\n",
       "\tvar attr = { type: \"checkbox\",\n",
       "\t\t     checked: init.value },\n",
       "\t    elem = createElem(\"input\", attr),\n",
       "\t    self = this;\n",
       "\n",
       "\tthis.getState = function () {\n",
       "\t    return elem.checked;\n",
       "\t}\n",
       "\telem.onchange = function () {\n",
       "\t    self.sendUpdate();\n",
       "\t}\n",
       "\n",
       "\tthis.id = id;\n",
       "\tthis.elem = elem;\n",
       "\tthis.label = init.label;\n",
       "\n",
       "\tInputWidgets.commInitializer(this);\n",
       "    }\n",
       "    Checkbox.prototype = Widget;\n",
       "\n",
       "    var Button = function (typ, id, init) {\n",
       "\tvar attr = { type:    \"button\",\n",
       "\t\t     value:   init.label },\n",
       "\t    elem = createElem(\"input\", attr),\n",
       "\t    self = this;\n",
       "\tthis.getState = function () {\n",
       "\t    return null;\n",
       "\t}\n",
       "\telem.onclick = function () {\n",
       "\t    self.sendUpdate();\n",
       "\t}\n",
       "\n",
       "\tthis.id = id;\n",
       "\tthis.elem = elem;\n",
       "\tthis.label = init.label;\n",
       "\n",
       "\tInputWidgets.commInitializer(this);\n",
       "    }\n",
       "    Button.prototype = Widget;\n",
       "\n",
       "    var Text = function (typ, id, init) {\n",
       "\tvar attr = { type:  \"text\",\n",
       "\t\t     placeholder: init.label,\n",
       "\t\t     value: init.value },\n",
       "\t    elem = createElem(\"input\", attr),\n",
       "\t    self = this;\n",
       "\tthis.getState = function () {\n",
       "\t    return elem.value;\n",
       "\t}\n",
       "\telem.onkeyup = function () {\n",
       "\t    self.sendUpdate();\n",
       "\t}\n",
       "\n",
       "\tthis.id = id;\n",
       "\tthis.elem = elem;\n",
       "\tthis.label = init.label;\n",
       "\n",
       "\tInputWidgets.commInitializer(this);\n",
       "    }\n",
       "    Text.prototype = Widget;\n",
       "\n",
       "    var Textarea = function (typ, id, init) {\n",
       "\tvar attr = { placeholder: init.label },\n",
       "\t    elem = createElem(\"textarea\", attr, init.value),\n",
       "\t    self = this;\n",
       "\tthis.getState = function () {\n",
       "\t    return elem.value;\n",
       "\t}\n",
       "\telem.onchange = function () {\n",
       "\t    self.sendUpdate();\n",
       "\t}\n",
       "\n",
       "\tthis.id = id;\n",
       "\tthis.elem = elem;\n",
       "\tthis.label = init.label;\n",
       "\n",
       "\tInputWidgets.commInitializer(this);\n",
       "    }\n",
       "    Textarea.prototype = Widget;\n",
       "\n",
       "    // RadioButtons\n",
       "    // Dropdown\n",
       "    // HTML\n",
       "    // Latex\n",
       "\n",
       "    var InputWidgets = {\n",
       "\tSlider: Slider,\n",
       "\tCheckbox: Checkbox,\n",
       "\tButton: Button,\n",
       "\tText: Text,\n",
       "\tTextarea: Textarea,\n",
       "\tdebug: false,\n",
       "\tlog: function () {\n",
       "\t    if (InputWidgets.debug) {\n",
       "\t\tconsole.log.apply(console, arguments);\n",
       "\t    }\n",
       "\t},\n",
       "\t// a central way to initalize communication\n",
       "\t// for widgets.\n",
       "\tcommInitializer: function (widget) {\n",
       "\t    widget.sendUpdate = function () {};\n",
       "\t}\n",
       "    };\n",
       "\n",
       "    window.InputWidgets = InputWidgets;\n",
       "\n",
       "})(jQuery, undefined);\n",
       "</script>"
      ]
     },
     "metadata": {},
     "output_type": "display_data"
    },
    {
     "data": {
      "text/html": [
       "<div id=\"interact-js-shim\">\n",
       "    <script charset=\"utf-8\">\n",
       "(function (IPython, $, _, MathJax, Widgets) {\n",
       "    $.event.special.destroyed = {\n",
       "\tremove: function(o) {\n",
       "\t    if (o.handler) {\n",
       "\t\to.handler.apply(this, arguments)\n",
       "\t    }\n",
       "\t}\n",
       "    }\n",
       "\n",
       "    var OutputArea = IPython.version >= \"4.0.0\" ? require(\"notebook/js/outputarea\").OutputArea : IPython.OutputArea;\n",
       "\n",
       "    var redrawValue = function (container, type, val) {\n",
       "\tvar selector = $(\"<div/>\");\n",
       "\tvar oa = new OutputArea(_.extend(selector, {\n",
       "\t    selector: selector,\n",
       "\t    prompt_area: true,\n",
       "\t    events: IPython.events,\n",
       "\t    keyboard_manager: IPython.keyboard_manager\n",
       "\t})); // Hack to work with IPython 2.1.0\n",
       "\n",
       "\tswitch (type) {\n",
       "\tcase \"image/png\":\n",
       "            var _src = 'data:' + type + ';base64,' + val;\n",
       "\t    $(container).find(\"img\").attr('src', _src);\n",
       "\t    break;\n",
       "\tdefault:\n",
       "\t    var toinsert = OutputArea.append_map[type].apply(\n",
       "\t\toa, [val, {}, selector]\n",
       "\t    );\n",
       "\t    $(container).empty().append(toinsert.contents());\n",
       "\t    selector.remove();\n",
       "\t}\n",
       "\tif (type === \"text/latex\" && MathJax) {\n",
       "\t    MathJax.Hub.Queue([\"Typeset\", MathJax.Hub, toinsert.get(0)]);\n",
       "\t}\n",
       "    }\n",
       "\n",
       "\n",
       "    $(document).ready(function() {\n",
       "\tWidgets.debug = false; // log messages etc in console.\n",
       "\tfunction initComm(evt, data) {\n",
       "\t    var comm_manager = data.kernel.comm_manager;\n",
       "        //_.extend(comm_manager.targets, require(\"widgets/js/widget\"))\n",
       "\t    comm_manager.register_target(\"Signal\", function (comm) {\n",
       "            comm.on_msg(function (msg) {\n",
       "                //Widgets.log(\"message received\", msg);\n",
       "                var val = msg.content.data.value;\n",
       "                $(\".signal-\" + comm.comm_id).each(function() {\n",
       "                var type = $(this).data(\"type\");\n",
       "                if (val[type]) {\n",
       "                    redrawValue(this, type, val[type], type);\n",
       "                }\n",
       "                });\n",
       "                delete val;\n",
       "                delete msg.content.data.value;\n",
       "            });\n",
       "\t    });\n",
       "\n",
       "\t    // coordingate with Comm and redraw Signals\n",
       "\t    // XXX: Test using Reactive here to improve performance\n",
       "\t    $([IPython.events]).on(\n",
       "\t\t'output_appended.OutputArea', function (event, type, value, md, toinsert) {\n",
       "\t\t    if (md && md.reactive) {\n",
       "                // console.log(md.comm_id);\n",
       "                toinsert.addClass(\"signal-\" + md.comm_id);\n",
       "                toinsert.data(\"type\", type);\n",
       "                // Signal back indicating the mimetype required\n",
       "                var comm_manager = IPython.notebook.kernel.comm_manager;\n",
       "                var comm = comm_manager.comms[md.comm_id];\n",
       "                comm.then(function (c) {\n",
       "                    c.send({action: \"subscribe_mime\",\n",
       "                       mime: type});\n",
       "                    toinsert.bind(\"destroyed\", function() {\n",
       "                        c.send({action: \"unsubscribe_mime\",\n",
       "                               mime: type});\n",
       "                    });\n",
       "                })\n",
       "\t\t    }\n",
       "\t    });\n",
       "\t}\n",
       "\n",
       "\ttry {\n",
       "\t    // try to initialize right away. otherwise, wait on the status_started event.\n",
       "\t    initComm(undefined, IPython.notebook);\n",
       "\t} catch (e) {\n",
       "\t    $([IPython.events]).on('kernel_created.Kernel kernel_created.Session', initComm);\n",
       "\t}\n",
       "    });\n",
       "})(IPython, jQuery, _, MathJax, InputWidgets);\n",
       "</script>\n",
       "    <script>\n",
       "        window.interactLoadedFlag = true\n",
       "       $(\"#interact-js-shim\").bind(\"destroyed\", function () {\n",
       "           if (window.interactLoadedFlag) {\n",
       "               console.warn(\"JavaScript required by Interact will be removed if you remove this cell or run using Interact more than once.\")\n",
       "           }\n",
       "       })\n",
       "       $([IPython.events]).on(\"kernel_starting.Kernel kernel_restarting.Kernel\", function () { window.interactLoadedFlag = false })\n",
       "   </script>\n",
       "</div>"
      ]
     },
     "metadata": {},
     "output_type": "display_data"
    }
   ],
   "source": [
    "using PyPlot\n",
    "using Interact\n",
    "using LaTeXStrings"
   ]
  },
  {
   "cell_type": "markdown",
   "metadata": {},
   "source": [
    "# Variables requeridas"
   ]
  },
  {
   "cell_type": "code",
   "execution_count": 19,
   "metadata": {
    "collapsed": false
   },
   "outputs": [
    {
     "data": {
      "text/plain": [
       "Inicializar_variables (generic function with 1 method)"
      ]
     },
     "execution_count": 19,
     "metadata": {},
     "output_type": "execute_result"
    }
   ],
   "source": [
    "function Inicializar_variables(k)\n",
    "    global L=k\n",
    "    global N=L*L\n",
    "    global caracterizacion = \"WL2D_red-cuadrada_L-$(L)_Ising-ferro_cam-10_f-0.0001\"\n",
    "    println(caracterizacion)\n",
    "    global datos\n",
    "    global cabecera\n",
    "    datos, cabecera = readdlm(\"Entropia_2D_final/Entropia_2D_final_$(caracterizacion).txt\", header=true)\n",
    "    global temp_inicial = 1.7\n",
    "    global temp_final = 2.7\n",
    "    global cantidad_de_temperaturas = 41\n",
    "    global temperatura = linspace(temp_inicial,temp_final,cantidad_de_temperaturas)\n",
    "    global β = 1./temperatura\n",
    "    global h_inicial = 0.0\n",
    "    global h_final = 2.0\n",
    "    global δh = 0.5\n",
    "    global h = (h_inicial:δh:h_final)\n",
    "    global card_β = length(β)\n",
    "    global card_h = length(h)\n",
    "    global l = size(datos)[1]\n",
    "    global energía_promedio = [0.0 for i in 1:card_β, j in 1:card_h];\n",
    "    global magnetización_promedio = [0.0 for i in 1:card_β, j in 1:card_h];\n",
    "    global parámetro_de_orden_promedio = [0.0 for i in 1:card_β, j in 1:card_h];\n",
    "    global capacidad_calorífica = [0.0 for i in 1:card_β, j in 1:card_h];\n",
    "    global susceptibilidad_magnética = [0.0 for i in 1:card_β, j in 1:card_h];\n",
    "end"
   ]
  },
  {
   "cell_type": "markdown",
   "metadata": {},
   "source": [
    "# Definiendo funciones"
   ]
  },
  {
   "cell_type": "markdown",
   "metadata": {},
   "source": [
    "## Gráficas de entropía experimental y teórica con animación"
   ]
  },
  {
   "cell_type": "code",
   "execution_count": 20,
   "metadata": {
    "collapsed": false
   },
   "outputs": [
    {
     "data": {
      "text/plain": [
       "Grafica3d (generic function with 1 method)"
      ]
     },
     "execution_count": 20,
     "metadata": {},
     "output_type": "execute_result"
    }
   ],
   "source": [
    "function Grafica3d(angle,x,y,z)\n",
    "    plot3D(x,y,z, \".\", alpha=0.2 )\n",
    "        ax = gca()\n",
    "        ax[:view_init](elev=30., azim=angle)\n",
    "end"
   ]
  },
  {
   "cell_type": "code",
   "execution_count": 4,
   "metadata": {
    "collapsed": false
   },
   "outputs": [
    {
     "data": {
      "text/plain": [
       "Animar_grafica3d (generic function with 1 method)"
      ]
     },
     "execution_count": 4,
     "metadata": {},
     "output_type": "execute_result"
    }
   ],
   "source": [
    "function Animar_grafica3d(x,y,z)\n",
    "    fig = figure(figsize=(8,6))\n",
    "    @manipulate for angle=0:10:360\n",
    "        withfig(fig) do\n",
    "            Grafica3d(angle,x,y,z)\n",
    "        end\n",
    "    end\n",
    "end "
   ]
  },
  {
   "cell_type": "code",
   "execution_count": 5,
   "metadata": {
    "collapsed": false
   },
   "outputs": [
    {
     "data": {
      "text/plain": [
       "Grafica3d_teórica (generic function with 1 method)"
      ]
     },
     "execution_count": 5,
     "metadata": {},
     "output_type": "execute_result"
    }
   ],
   "source": [
    "function Grafica3d_teórica(angle,x,y,z)\n",
    "    plot3D(x, y, log(z), \"o\", alpha=0.2 )\n",
    "    ax = gca()\n",
    "    ax[:view_init](elev=30., azim=angle)\n",
    "end"
   ]
  },
  {
   "cell_type": "markdown",
   "metadata": {},
   "source": [
    "## Funciones para  obtener observables"
   ]
  },
  {
   "cell_type": "code",
   "execution_count": 21,
   "metadata": {
    "collapsed": false
   },
   "outputs": [
    {
     "data": {
      "text/plain": [
       "Renormalización (generic function with 1 method)"
      ]
     },
     "execution_count": 21,
     "metadata": {},
     "output_type": "execute_result"
    }
   ],
   "source": [
    "function Renormalización(i,j)\n",
    "    maximum(datos[:,3]-β[i]*(datos[:,1]-h[j]*datos[:,2]))\n",
    "end"
   ]
  },
  {
   "cell_type": "code",
   "execution_count": 44,
   "metadata": {
    "collapsed": false
   },
   "outputs": [
    {
     "data": {
      "text/plain": [
       "Variables_Macroscópicas_variando_β_y_h_con_L_fija (generic function with 1 method)"
      ]
     },
     "execution_count": 44,
     "metadata": {},
     "output_type": "execute_result"
    }
   ],
   "source": [
    "function Variables_Macroscópicas_variando_β_y_h_con_L_fija(i,j)\n",
    "    función_de_partición_1D = 0.0\n",
    "    función_de_partición_2D = 0.0\n",
    "    energía = 0.0\n",
    "    energía_cuadrada = 0.0\n",
    "    magnetización = 0.0\n",
    "    magnetización_cuadrada = 0.0\n",
    "    parámetro_de_orden = 0.0\n",
    "    exponencial = 0.0\n",
    "    renormalización = Renormalización(i,j)\n",
    "    for k in 1:l\n",
    "        exponencial = exp(datos[k,3] - β[i]*(datos[k,1]-h[j]*datos[k,2]) - renormalización)\n",
    "        función_de_partición_2D += exponencial\n",
    "        energía += abs(datos[k,1])*exponencial\n",
    "        energía_cuadrada += datos[k,1]*datos[k,1]*exponencial\n",
    "        magnetización += abs(datos[k,2])*exponencial\n",
    "        magnetización_cuadrada += datos[k,2]*datos[k,2]*exponencial\n",
    "        parámetro_de_orden += abs(datos[k,4])*exponencial\n",
    "    end\n",
    "    energía_promedio[i,j] = (energía)/(función_de_partición_2D*N)\n",
    "    magnetización_promedio[i,j] = (magnetización)/(función_de_partición_2D*N)\n",
    "    parámetro_de_orden_promedio[i,j] = (parámetro_de_orden)/(función_de_partición_2D*N)\n",
    "    capacidad_calorífica[i,j] = abs(energía_cuadrada - energía*energía)/(función_de_partición_2D*N)\n",
    "    susceptibilidad_magnética[i,j] = abs(magnetización_cuadrada - magnetización*magnetización)/(función_de_partición_2D*N)\n",
    "end"
   ]
  },
  {
   "cell_type": "code",
   "execution_count": 48,
   "metadata": {
    "collapsed": false
   },
   "outputs": [
    {
     "data": {
      "text/plain": [
       "Obtener_variables_macroscópicas (generic function with 1 method)"
      ]
     },
     "execution_count": 48,
     "metadata": {},
     "output_type": "execute_result"
    }
   ],
   "source": [
    "function Obtener_variables_macroscópicas()\n",
    "    for i=1:card_β\n",
    "        for j=1:card_h\n",
    "            #println(\"$i,$j\")\n",
    "            Variables_Macroscópicas_variando_β_y_h_con_L_fija(i,j)\n",
    "        end\n",
    "    end\n",
    "end"
   ]
  },
  {
   "cell_type": "markdown",
   "metadata": {},
   "source": [
    "## Gáficas de observables"
   ]
  },
  {
   "cell_type": "code",
   "execution_count": 9,
   "metadata": {
    "collapsed": false
   },
   "outputs": [
    {
     "data": {
      "text/plain": [
       "Mostrar_varias_observables (generic function with 1 method)"
      ]
     },
     "execution_count": 9,
     "metadata": {},
     "output_type": "execute_result"
    }
   ],
   "source": [
    "function Mostrar_varias_observables()\n",
    "    fig = figure()\n",
    "    @manipulate for i in 1:card_h\n",
    "        withfig(fig) do\n",
    "            subplot(221)\n",
    "            ylim(0,1.05)\n",
    "            xlabel(L\"T\")\n",
    "            ylabel(L\"m\")\n",
    "            plot(temperatura,parámetro_de_orden_promedio[:,i], label = latexstring(\"h=$(h[i])\"))\n",
    "            legend()\n",
    "            subplot(222)\n",
    "            xlabel(L\"T\")\n",
    "            ylabel(L\"u\")\n",
    "            plot(temperatura,energía_promedio[:,i], label = latexstring(\"h=$(h[i])\"))\n",
    "            legend()\n",
    "            subplot(223)\n",
    "            xlabel(L\"T\")\n",
    "            ylabel(L\"c_v\")\n",
    "            plot(temperatura,capacidad_calorífica[:,i], label = latexstring(\"h=$(h[i])\"))\n",
    "            legend()\n",
    "            subplot(224)\n",
    "            xlabel(L\"T\")\n",
    "            ylabel(L\"x\")\n",
    "            plot(temperatura,susceptibilidad_magnética[:,i], label = latexstring(\"h=$(h[i])\"))\n",
    "            legend()\n",
    "        end\n",
    "    end\n",
    "end"
   ]
  },
  {
   "cell_type": "markdown",
   "metadata": {},
   "source": [
    "## Gráfica de observables vs temperatura con $h$ fija"
   ]
  },
  {
   "cell_type": "markdown",
   "metadata": {},
   "source": [
    "ARGUMENTOS DE LA FUNCIÓN:\n",
    "\n",
    "***observables_macroscópicas***: conjunto de valores de la observable para cada valor de temperatura\n",
    "\n",
    "***cadena***: Nombre del eje Y"
   ]
  },
  {
   "cell_type": "code",
   "execution_count": 10,
   "metadata": {
    "collapsed": false
   },
   "outputs": [
    {
     "data": {
      "text/plain": [
       "Grafica_observable_macroscópica_con_h_fija (generic function with 1 method)"
      ]
     },
     "execution_count": 10,
     "metadata": {},
     "output_type": "execute_result"
    }
   ],
   "source": [
    "function Grafica_observable_macroscópica_con_h_fija(valor_de_h,observable_macroscópica, cadena)\n",
    "    xlabel(L\"T\")\n",
    "    ylabel(cadena)\n",
    "    title(cadena)\n",
    "    plot(temperatura,observable_macroscópica, label = latexstring(L\"h=\"*\"$(valor_de_h)\"))\n",
    "    legend()\n",
    "end"
   ]
  },
  {
   "cell_type": "markdown",
   "metadata": {},
   "source": [
    "## Gráfica de observable vs temperatura para varias $h$'s "
   ]
  },
  {
   "cell_type": "code",
   "execution_count": 11,
   "metadata": {
    "collapsed": false
   },
   "outputs": [
    {
     "data": {
      "text/plain": [
       "Grafica_varias_observables_para_distintos_h (generic function with 1 method)"
      ]
     },
     "execution_count": 11,
     "metadata": {},
     "output_type": "execute_result"
    }
   ],
   "source": [
    "function Grafica_varias_observables_para_distintos_h(observable_macroscópica, cadena)\n",
    "    for i in 1:card_β\n",
    "        ylim(0,1.05)\n",
    "        plot(temperatura,observable_macroscópica[:,i],label = latexstring(\"h=$(h[i])\"))\n",
    "        #legend (loc=\"upper right\")\n",
    "        xlabel(L\"T\")\n",
    "        ylabel(cadena)\n",
    "        title(cadena*\" en función de \"*L\"h\")\n",
    "        legend(loc=1, borderaxespad=-8.)\n",
    "    end\n",
    "end"
   ]
  },
  {
   "cell_type": "markdown",
   "metadata": {},
   "source": [
    "## Parámetro de orden 3D, como función de $\\beta$ y $h$"
   ]
  },
  {
   "cell_type": "code",
   "execution_count": 12,
   "metadata": {
    "collapsed": false,
    "scrolled": true
   },
   "outputs": [
    {
     "data": {
      "text/plain": [
       "Parámetro_de_orden_3D (generic function with 1 method)"
      ]
     },
     "execution_count": 12,
     "metadata": {},
     "output_type": "execute_result"
    }
   ],
   "source": [
    "function Parámetro_de_orden_3D()    \n",
    "    fig = figure(figsize=(5,4))\n",
    "    @manipulate for angle=0:10:360\n",
    "        withfig(fig) do\n",
    "            surf(temperatura, h, magnetización_promedio', alpha=0.4, rstride=3, cstride=3)\n",
    "            ax = gca()\n",
    "            ax[:view_init](elev=30., azim=angle)\n",
    "            xlabel(L\"T\")\n",
    "            ylabel(L\"h\")\n",
    "            zlabel(L\"m\")\n",
    "        end\n",
    "    end\n",
    "end"
   ]
  },
  {
   "cell_type": "markdown",
   "metadata": {},
   "source": [
    "# Aquí acaban las funciones"
   ]
  },
  {
   "cell_type": "code",
   "execution_count": 45,
   "metadata": {
    "collapsed": false,
    "scrolled": false
   },
   "outputs": [
    {
     "name": "stdout",
     "output_type": "stream",
     "text": [
      "WL2D_red-cuadrada_L-16_Ising-ferro_cam-10_f-0.0001\n"
     ]
    }
   ],
   "source": [
    "Inicializar_variables(16);"
   ]
  },
  {
   "cell_type": "code",
   "execution_count": 49,
   "metadata": {
    "collapsed": false
   },
   "outputs": [],
   "source": [
    "Obtener_variables_macroscópicas();"
   ]
  },
  {
   "cell_type": "code",
   "execution_count": null,
   "metadata": {
    "collapsed": false
   },
   "outputs": [],
   "source": [
    "susceptibilidad_magnética"
   ]
  },
  {
   "cell_type": "code",
   "execution_count": null,
   "metadata": {
    "collapsed": false
   },
   "outputs": [],
   "source": [
    "i=1\n",
    "Grafica_observable_macroscópica_con_h_fija(h[i],susceptibilidad_magnética[:,i],\"Susceptibilidad magnética\");"
   ]
  },
  {
   "cell_type": "code",
   "execution_count": null,
   "metadata": {
    "collapsed": false
   },
   "outputs": [],
   "source": [
    "Mostrar_varias_observables();"
   ]
  },
  {
   "cell_type": "code",
   "execution_count": null,
   "metadata": {
    "collapsed": true
   },
   "outputs": [],
   "source": []
  }
 ],
 "metadata": {
  "kernelspec": {
   "display_name": "Julia 0.4.3",
   "language": "julia",
   "name": "julia-0.4"
  },
  "language_info": {
   "file_extension": ".jl",
   "mimetype": "application/julia",
   "name": "julia",
   "version": "0.4.3"
  }
 },
 "nbformat": 4,
 "nbformat_minor": 0
}

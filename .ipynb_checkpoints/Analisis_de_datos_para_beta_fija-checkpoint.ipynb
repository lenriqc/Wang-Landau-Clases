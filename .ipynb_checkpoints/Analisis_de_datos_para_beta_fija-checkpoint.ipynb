{
 "cells": [
  {
   "cell_type": "markdown",
   "metadata": {},
   "source": [
    "# Paquetería necesaria"
   ]
  },
  {
   "cell_type": "code",
   "execution_count": 59,
   "metadata": {
    "collapsed": false
   },
   "outputs": [],
   "source": [
    "using PyPlot\n",
    "using Interact\n",
    "using LaTeXStrings"
   ]
  },
  {
   "cell_type": "markdown",
   "metadata": {},
   "source": [
    "# Variables requeridas"
   ]
  },
  {
   "cell_type": "code",
   "execution_count": 95,
   "metadata": {
    "collapsed": false
   },
   "outputs": [
    {
     "data": {
      "text/plain": [
       "Inicializar_variables (generic function with 1 method)"
      ]
     },
     "execution_count": 95,
     "metadata": {},
     "output_type": "execute_result"
    }
   ],
   "source": [
    "function Inicializar_variables(k)\n",
    "    global L=k\n",
    "    global caracterizacion = \"WL2D_cuadrada_L_$(L)_Is_ferr_cam_10_f_0.0001\"\n",
    "    println(caracterizacion)\n",
    "    global datos, cabecera = readdlm(\"Entropia_2D_final/Entropia_2D_final_$(caracterizacion).txt\", header=true)\n",
    "    global temp_inicial = 0.4\n",
    "    global temp_final = 8\n",
    "    global δtemp = 0.1\n",
    "    global temperatura = (temp_inicial:δtemp:temp_final)\n",
    "    global β = 1./temperatura\n",
    "    global h_inicial = 0.0\n",
    "    global h_final = 4.0\n",
    "    global δh = 0.2\n",
    "    global h = (h_inicial:δh:h_final)\n",
    "    global card_β = length(β)\n",
    "    global card_h = length(h)\n",
    "    global l = size(datos)[1]\n",
    "    global exponente_B = [0.0 for i in 1:card_β, j in 1:card_h]\n",
    "    global función_de_partición_2D = [0.0 for i in 1:card_β, j in 1:card_h]\n",
    "    global constante_de_renormalización = [0.0 for i in 1:card_β, j in 1:card_h]\n",
    "    global energía_promedio = [0.0 for i in 1:card_β, j in 1:card_h];\n",
    "    global magnetización_promedio = [0.0 for i in 1:card_β, j in 1:card_h]\n",
    "    global parámetro_de_orden_promedio = [0.0 for i in 1:card_β, j in 1:card_h]\n",
    "    global capacidad_calorífica = [0.0 for i in 1:card_β, j in 1:card_h]\n",
    "    global susceptibilidad_magnética = [0.0 for i in 1:card_β, j in 1:card_h];\n",
    "end"
   ]
  },
  {
   "cell_type": "code",
   "execution_count": 61,
   "metadata": {
    "collapsed": false
   },
   "outputs": [],
   "source": [
    "#Inicializar_variables(9);"
   ]
  },
  {
   "cell_type": "markdown",
   "metadata": {},
   "source": [
    "# Datos de entropía exacta, si la hay"
   ]
  },
  {
   "cell_type": "markdown",
   "metadata": {},
   "source": [
    "Los archivos de la entropía exacta tienen la siguiente configuración\n",
    "\n",
    "***1a Columna***: Valor de la entropía\n",
    "\n",
    "***2a Columna***: Energía\n",
    "\n",
    "***3a Columna***: Magnetización"
   ]
  },
  {
   "cell_type": "code",
   "execution_count": 62,
   "metadata": {
    "collapsed": false
   },
   "outputs": [
    {
     "ename": "LoadError",
     "evalue": "LoadError: SystemError: opening file ising_c16xc16.txt: No such file or directory\nwhile loading In[62], in expression starting on line 1",
     "output_type": "error",
     "traceback": [
      "LoadError: SystemError: opening file ising_c16xc16.txt: No such file or directory\nwhile loading In[62], in expression starting on line 1",
      "",
      " in open at /Applications/Julia-0.4.3.app/Contents/Resources/julia/lib/julia/sys.dylib (repeats 2 times)",
      " in readdlm_auto at datafmt.jl:45",
      " in readdlm at datafmt.jl:39",
      " in readdlm at datafmt.jl:36"
     ]
    }
   ],
   "source": [
    "exact = readdlm(\"ising_c16xc16.txt\");"
   ]
  },
  {
   "cell_type": "code",
   "execution_count": 63,
   "metadata": {
    "collapsed": false
   },
   "outputs": [
    {
     "ename": "LoadError",
     "evalue": "LoadError: UndefVarError: exact not defined\nwhile loading In[63], in expression starting on line 2",
     "output_type": "error",
     "traceback": [
      "LoadError: UndefVarError: exact not defined\nwhile loading In[63], in expression starting on line 2",
      ""
     ]
    }
   ],
   "source": [
    "# En caso de que se trate de interacción antiferromagnética, se multiplica por -1.\n",
    "exact[:,2]=exact[:,2]*(-1);"
   ]
  },
  {
   "cell_type": "code",
   "execution_count": 64,
   "metadata": {
    "collapsed": false
   },
   "outputs": [
    {
     "ename": "LoadError",
     "evalue": "LoadError: UndefVarError: exact not defined\nwhile loading In[64], in expression starting on line 2",
     "output_type": "error",
     "traceback": [
      "LoadError: UndefVarError: exact not defined\nwhile loading In[64], in expression starting on line 2",
      ""
     ]
    }
   ],
   "source": [
    "#reordenar por energía(segunda columna) y luego por magnetización (3a columna).\n",
    "exact = sortrows(exact, by=x->(x[2],x[3]));"
   ]
  },
  {
   "cell_type": "markdown",
   "metadata": {},
   "source": [
    "# Definiendo funciones"
   ]
  },
  {
   "cell_type": "markdown",
   "metadata": {},
   "source": [
    "## Gráficas de entropía experimental y teórica con animación"
   ]
  },
  {
   "cell_type": "code",
   "execution_count": 65,
   "metadata": {
    "collapsed": false
   },
   "outputs": [
    {
     "data": {
      "text/plain": [
       "Grafica3d (generic function with 1 method)"
      ]
     },
     "execution_count": 65,
     "metadata": {},
     "output_type": "execute_result"
    }
   ],
   "source": [
    "function Grafica3d(angle,x,y,z)\n",
    "    plot3D(x,y,z, \".\", alpha=0.2 )\n",
    "        ax = gca()\n",
    "        ax[:view_init](elev=30., azim=angle)\n",
    "end"
   ]
  },
  {
   "cell_type": "code",
   "execution_count": 66,
   "metadata": {
    "collapsed": false
   },
   "outputs": [
    {
     "data": {
      "text/plain": [
       "Animar_grafica3d (generic function with 1 method)"
      ]
     },
     "execution_count": 66,
     "metadata": {},
     "output_type": "execute_result"
    }
   ],
   "source": [
    "function Animar_grafica3d(x,y,z)\n",
    "    fig = figure(figsize=(8,6))\n",
    "    @manipulate for angle=0:10:360\n",
    "        withfig(fig) do\n",
    "            Grafica3d(angle,x,y,z)\n",
    "        end\n",
    "    end\n",
    "end "
   ]
  },
  {
   "cell_type": "code",
   "execution_count": 67,
   "metadata": {
    "collapsed": false
   },
   "outputs": [
    {
     "data": {
      "text/plain": [
       "Grafica3d_teórica (generic function with 1 method)"
      ]
     },
     "execution_count": 67,
     "metadata": {},
     "output_type": "execute_result"
    }
   ],
   "source": [
    "function Grafica3d_teórica(angle,x,y,z)\n",
    "    plot3D(x, y, log(z), \"o\", alpha=0.2 )\n",
    "    ax = gca()\n",
    "    ax[:view_init](elev=30., azim=angle)\n",
    "end"
   ]
  },
  {
   "cell_type": "markdown",
   "metadata": {},
   "source": [
    "### Comparar restando, entropía teórica y entropía experimental"
   ]
  },
  {
   "cell_type": "code",
   "execution_count": 68,
   "metadata": {
    "collapsed": false
   },
   "outputs": [
    {
     "data": {
      "text/plain": [
       "Compara_entropias (generic function with 1 method)"
      ]
     },
     "execution_count": 68,
     "metadata": {},
     "output_type": "execute_result"
    }
   ],
   "source": [
    "function Compara_entropias(x,y,z1,z2)\n",
    "    fig = figure(figsize=(8,6))\n",
    "    @manipulate for angle=0:10:360\n",
    "        withfig(fig) do\n",
    "            plot3D(x, y, z1-log(z2), \"o\", alpha=0.2 )\n",
    "            ax = gca()\n",
    "                ax[:view_init](elev=30., azim=angle)\n",
    "        end\n",
    "    end\n",
    "end"
   ]
  },
  {
   "cell_type": "markdown",
   "metadata": {},
   "source": [
    "## Funciones para  obtener observables"
   ]
  },
  {
   "cell_type": "code",
   "execution_count": 106,
   "metadata": {
    "collapsed": false
   },
   "outputs": [
    {
     "data": {
      "text/plain": [
       "Renormalización (generic function with 1 method)"
      ]
     },
     "execution_count": 106,
     "metadata": {},
     "output_type": "execute_result"
    }
   ],
   "source": [
    "function Renormalización(i,j)\n",
    "    constante_de_renormalización = 0.0\n",
    "    for k in 1:l\n",
    "        if constante_de_renormalización<=datos[k,3]-β[i]*(datos[k,1]-h[j]*datos[k,2])\n",
    "            constante_de_renormalización=datos[k,3]-β[i]*(datos[k,1]-h[j]*datos[k,2])\n",
    "        end\n",
    "    end\n",
    "    constante_de_renormalización\n",
    "end "
   ]
  },
  {
   "cell_type": "raw",
   "metadata": {},
   "source": [
    "Renormalizar(10,5)"
   ]
  },
  {
   "cell_type": "code",
   "execution_count": 70,
   "metadata": {
    "collapsed": false
   },
   "outputs": [
    {
     "data": {
      "text/plain": [
       "Rellenar_matriz_de_renormalización (generic function with 1 method)"
      ]
     },
     "execution_count": 70,
     "metadata": {},
     "output_type": "execute_result"
    }
   ],
   "source": [
    "function Rellenar_matriz_de_renormalización()\n",
    "    for i=1:card_β \n",
    "        for j=1:card_h\n",
    "            Renormalizar(i,j)\n",
    "        end\n",
    "    end\n",
    "end"
   ]
  },
  {
   "cell_type": "code",
   "execution_count": 108,
   "metadata": {
    "collapsed": false
   },
   "outputs": [
    {
     "data": {
      "text/plain": [
       "Variables_Macroscópicas_variando_β_y_h_con_L_fija (generic function with 1 method)"
      ]
     },
     "execution_count": 108,
     "metadata": {},
     "output_type": "execute_result"
    }
   ],
   "source": [
    "function Variables_Macroscópicas_variando_β_y_h_con_L_fija(i,j)\n",
    "    función_de_partición_1D = 0.0\n",
    "    función_de_partición_2D = 0.0\n",
    "    energía = 0.0\n",
    "    energía_cuadrada = 0.0\n",
    "    magnetización = 0.0\n",
    "    magnetización_cuadrada = 0.0\n",
    "    parámetro_de_orden = 0.0\n",
    "    exponente = 0.0\n",
    "    for k in 1:l\n",
    "        exponente = datos[k,3] - β[i]*(datos[k,1]-h[j]*datos[k,2]) - Renormalización(i,j)\n",
    "        función_de_partición_2D += exp(exponente)\n",
    "        energía += abs(datos[k,1])*exp(exponente)\n",
    "        energía_cuadrada += datos[k,1]*datos[k,1]*exp(exponente)\n",
    "        magnetización += abs(datos[k,2])*exp(exponente)\n",
    "        magnetización_cuadrada += datos[k,2]*datos[k,2]*exp(exponente)\n",
    "        parámetro_de_orden += abs(datos[k,4])*exp(exponente)\n",
    "    end\n",
    "    energía_promedio[i,j] = (energía)/(función_de_partición_2D*L)\n",
    "    magnetización_promedio[i,j] = (magnetización)/(función_de_partición_2D*L)\n",
    "    parámetro_de_orden_promedio[i,j] = (parámetro_de_orden)/(función_de_partición_2D*L)\n",
    "    capacidad_calorífica[i,j] = abs(energía_cuadrada - energía*energía)/(función_de_partición_2D*L*L)\n",
    "    susceptibilidad_magnética[i,j] = abs(magnetización_cuadrada - magnetización*magnetización)/(función_de_partición_2D*L*L)\n",
    "end"
   ]
  },
  {
   "cell_type": "code",
   "execution_count": 98,
   "metadata": {
    "collapsed": false
   },
   "outputs": [
    {
     "data": {
      "text/plain": [
       "Exponente_de_boltzmann_y_función_de_partición (generic function with 1 method)"
      ]
     },
     "execution_count": 98,
     "metadata": {},
     "output_type": "execute_result"
    }
   ],
   "source": [
    "function Exponente_de_boltzmann_y_función_de_partición(i,j)\n",
    "    #función_de_partición_1D = 0.0\n",
    "    función_de_partición_2D[i,j] = 0.0\n",
    "    exponente_B[i,j] = 0.0\n",
    "    for k in 1:l\n",
    "        exponente_B[i,j] = datos[k,3] - β[i]*(datos[k,1]-h[j]*datos[k,2]) - constante_de_renormalización[i,j]\n",
    "        función_de_partición_2D[i,j] += exp(exponente_B[i,j])       \n",
    "    end\n",
    "end"
   ]
  },
  {
   "cell_type": "code",
   "execution_count": 72,
   "metadata": {
    "collapsed": false
   },
   "outputs": [
    {
     "data": {
      "text/plain": [
       "Obtener_variables_macroscópicas (generic function with 1 method)"
      ]
     },
     "execution_count": 72,
     "metadata": {},
     "output_type": "execute_result"
    }
   ],
   "source": [
    "function Obtener_variables_macroscópicas()\n",
    "    for i=1:card_β\n",
    "        for j=1:card_h\n",
    "            Variables_Macroscópicas(i,j)\n",
    "        end\n",
    "    end\n",
    "end"
   ]
  },
  {
   "cell_type": "markdown",
   "metadata": {},
   "source": [
    "## Gáficas de observables"
   ]
  },
  {
   "cell_type": "code",
   "execution_count": 73,
   "metadata": {
    "collapsed": false
   },
   "outputs": [
    {
     "data": {
      "text/plain": [
       "Mostrar_varias_observables (generic function with 1 method)"
      ]
     },
     "execution_count": 73,
     "metadata": {},
     "output_type": "execute_result"
    }
   ],
   "source": [
    "function Mostrar_varias_observables()\n",
    "    fig = figure()\n",
    "    @manipulate for i in 1:card_h\n",
    "        withfig(fig) do\n",
    "            subplot(221)\n",
    "            ylim(0,1.05)\n",
    "            xlabel(\"Temperatura\")\n",
    "            ylabel(\"P.O.\")\n",
    "            plot(temperatura,parámetro_de_orden_promedio[:,i], label = latexstring(\"h=$(h[i])\"))\n",
    "            legend()\n",
    "            subplot(222)\n",
    "            xlabel(\"Temperatura\")\n",
    "            ylabel(\"Energía\")\n",
    "            plot(temperatura,energía_promedio[:,i], label = latexstring(\"h=$(h[i])\"))\n",
    "            legend()\n",
    "            subplot(223)\n",
    "            xlabel(\"Temperatura\")\n",
    "            ylabel(\"Capacidad calorífica\")\n",
    "            plot(temperatura,capacidad_calorífica[:,i], label = latexstring(\"h=$(h[i])\"))\n",
    "            legend()\n",
    "            subplot(224)\n",
    "            xlabel(\"Temperatura\")\n",
    "            ylabel(\"Susceptibilidad magnética\")\n",
    "            plot(temperatura,susceptibilidad_magnética[:,i], label = latexstring(\"h=$(h[i])\"))\n",
    "            legend()\n",
    "        end\n",
    "    end\n",
    "end"
   ]
  },
  {
   "cell_type": "markdown",
   "metadata": {},
   "source": [
    "## Gráfica de observables vs temperatura con $h$ fija"
   ]
  },
  {
   "cell_type": "markdown",
   "metadata": {},
   "source": [
    "ARGUMENTOS DE LA FUNCIÓN:\n",
    "\n",
    "***observables_macroscópicas***: conjunto de valores de la observable para cada valor de temperatura\n",
    "\n",
    "***cadena***: Nombre del eje Y"
   ]
  },
  {
   "cell_type": "code",
   "execution_count": 74,
   "metadata": {
    "collapsed": false
   },
   "outputs": [
    {
     "data": {
      "text/plain": [
       "Grafica_observable_macroscópica_con_h_fija (generic function with 1 method)"
      ]
     },
     "execution_count": 74,
     "metadata": {},
     "output_type": "execute_result"
    }
   ],
   "source": [
    "function Grafica_observable_macroscópica_con_h_fija(valor_de_h,observable_macroscópica, cadena)\n",
    "    xlabel(\"Temperatura\")\n",
    "    ylabel(cadena)\n",
    "    title(cadena)\n",
    "    plot(temperatura,observable_macroscópica, label = latexstring(L\"h=\"*\"$(valor_de_h)\"))\n",
    "    legend()\n",
    "end"
   ]
  },
  {
   "cell_type": "code",
   "execution_count": null,
   "metadata": {
    "collapsed": true
   },
   "outputs": [],
   "source": []
  },
  {
   "cell_type": "markdown",
   "metadata": {},
   "source": [
    "## Gráfica de observable vs temperatura para varias $h$'s "
   ]
  },
  {
   "cell_type": "code",
   "execution_count": 75,
   "metadata": {
    "collapsed": false
   },
   "outputs": [
    {
     "data": {
      "text/plain": [
       "Grafica_varias_observables_para_distintos_h (generic function with 1 method)"
      ]
     },
     "execution_count": 75,
     "metadata": {},
     "output_type": "execute_result"
    }
   ],
   "source": [
    "function Grafica_varias_observables_para_distintos_h(observable_macroscópica, cadena)\n",
    "    for i in 1:card_β\n",
    "        ylim(0,1.05)\n",
    "        plot(temperatura,observable_macroscópica[:,i],label = latexstring(\"h=$(h[i])\"))\n",
    "        #legend (loc=\"upper right\")\n",
    "        xlabel(\"Temperatura\")\n",
    "        ylabel(cadena)\n",
    "        title(cadena*\" en función de \"*L\"h\")\n",
    "        legend(loc=1, borderaxespad=-8.)\n",
    "    end\n",
    "end"
   ]
  },
  {
   "cell_type": "markdown",
   "metadata": {},
   "source": [
    "## Graficar observable para varias $L$'s, para encontrar exponentes y temperaturas críticas"
   ]
  },
  {
   "cell_type": "code",
   "execution_count": 86,
   "metadata": {
    "collapsed": false
   },
   "outputs": [
    {
     "data": {
      "text/plain": [
       "Graficar_variando_parámetros (generic function with 1 method)"
      ]
     },
     "execution_count": 86,
     "metadata": {},
     "output_type": "execute_result"
    }
   ],
   "source": [
    "function Graficar_variando_parámetros()    \n",
    "    fig = figure(figsize=(6,6))\n",
    "    @manipulate for i=1:1:card_β, γ=1:.5:10, ν=1:.5:10\n",
    "        withfig(fig) do\n",
    "            for k in 1:length(L_vec)\n",
    "                plot((temperatura[i:end]-temperatura[i])*(L_vec[k])^(1/ν), (observables[k][i:end,6])*(L_vec[k])^(-γ/ν))\n",
    "#            plot((temperatura[i:end]-temperatura[i])*12^(1/ν), (datos2[i:end,6])*12^(-γ/ν))\n",
    "            end\n",
    "        end\n",
    "    end\n",
    "end"
   ]
  },
  {
   "cell_type": "markdown",
   "metadata": {},
   "source": [
    "## Graficar observable para varias $L$'s, con $h$ fija y temperatura  variable"
   ]
  },
  {
   "cell_type": "code",
   "execution_count": 91,
   "metadata": {
    "collapsed": false
   },
   "outputs": [
    {
     "data": {
      "text/plain": [
       "Graficar_variando_parámetros (generic function with 2 methods)"
      ]
     },
     "execution_count": 91,
     "metadata": {},
     "output_type": "execute_result"
    }
   ],
   "source": [
    "function Graficar_variando_parámetros(observable_macroscópica, cadena, i)    \n",
    "    fig = figure(figsize=(6,6))\n",
    "    for k in 1:length(L_vec)\n",
    "        plot(temperatura, observable_macroscópica)\n",
    "    end\n",
    "end"
   ]
  },
  {
   "cell_type": "markdown",
   "metadata": {},
   "source": [
    "## Parámetro de orden 3D, como función de $\\beta$ y $h$"
   ]
  },
  {
   "cell_type": "code",
   "execution_count": 77,
   "metadata": {
    "collapsed": false
   },
   "outputs": [
    {
     "ename": "LoadError",
     "evalue": "LoadError: syntax: incomplete: \"function\" at In[77]:1 requires end\nwhile loading In[77], in expression starting on line 1",
     "output_type": "error",
     "traceback": [
      "LoadError: syntax: incomplete: \"function\" at In[77]:1 requires end\nwhile loading In[77], in expression starting on line 1",
      ""
     ]
    }
   ],
   "source": [
    "function Parámetro_de_orden_3D()    \n",
    "    fig = figure(figsize=(5,4))\n",
    "    @manipulate for angle=0:10:360\n",
    "        withfig(fig) do\n",
    "            surf(temperatura, h, magnetización_promedio', alpha=0.4, rstride=3, cstride=3)\n",
    "            ax = gca()\n",
    "            ax[:view_init](elev=30., azim=angle)\n",
    "            xlabel(L\"T\")\n",
    "            ylabel(L\"h\")\n",
    "            zlabel(L\"M(T,h)\")\n",
    "        end\n",
    "    end"
   ]
  },
  {
   "cell_type": "markdown",
   "metadata": {},
   "source": [
    "## Obtener resultados para varias $L$'s "
   ]
  },
  {
   "cell_type": "code",
   "execution_count": 78,
   "metadata": {
    "collapsed": false
   },
   "outputs": [
    {
     "data": {
      "text/plain": [
       "analizar_varios_L (generic function with 1 method)"
      ]
     },
     "execution_count": 78,
     "metadata": {},
     "output_type": "execute_result"
    }
   ],
   "source": [
    "function analizar_varios_L(L_vec)\n",
    "    for i in L_vec\n",
    "        Inicializar_variables(i)\n",
    "        Rellenar_matriz_de_renormalización()\n",
    "        Obtener_variables_macroscópicas()        \n",
    "        #println(energía_promedio[:,1])\n",
    "        push!(observables, [temperatura energía_promedio[:,1] magnetización_promedio[:,1] parámetro_de_orden_promedio[:,1] capacidad_calorífica[:,1] susceptibilidad_magnética[:,1] ])\n",
    "        #writedlm(\"Observables_$L\", Observables)        \n",
    "    end\n",
    "end"
   ]
  },
  {
   "cell_type": "code",
   "execution_count": null,
   "metadata": {
    "collapsed": true
   },
   "outputs": [],
   "source": [
    "function analizar_varios_L(L_vec)\n",
    "    for i in L_vec\n",
    "        Inicializar_variables(i)\n",
    "        Rellenar_matriz_de_renormalización()\n",
    "        Obtener_variables_macroscópicas()        \n",
    "        #println(energía_promedio[:,1])\n",
    "        push!(observables, [temperatura energía_promedio[:,1] magnetización_promedio[:,1] parámetro_de_orden_promedio[:,1] capacidad_calorífica[:,1] susceptibilidad_magnética[:,1] ])\n",
    "        #writedlm(\"Observables_$L\", Observables)        \n",
    "    end\n",
    "end"
   ]
  },
  {
   "cell_type": "markdown",
   "metadata": {},
   "source": [
    "# Aquí acaban las funciones"
   ]
  },
  {
   "cell_type": "code",
   "execution_count": null,
   "metadata": {
    "collapsed": false
   },
   "outputs": [],
   "source": []
  },
  {
   "cell_type": "code",
   "execution_count": 79,
   "metadata": {
    "collapsed": false
   },
   "outputs": [
    {
     "data": {
      "image/png": "[encoded data removed]",
      "text/plain": [
       "PyPlot.Figure(PyObject <matplotlib.figure.Figure object at 0x313fd5b38>)"
      ]
     },
     "metadata": {},
     "output_type": "display_data"
    }
   ],
   "source": [
    "i=1\n",
    "Grafica_observable_macroscópica_con_h_fija(h[i],susceptibilidad_magnética[:,i],\"Susceptibilidad magnética\");"
   ]
  },
  {
   "cell_type": "code",
   "execution_count": 89,
   "metadata": {
    "collapsed": false
   },
   "outputs": [
    {
     "data": {
      "text/html": [],
      "text/plain": [
       "Interact.Slider{Int64}(Signal{Int64}(11, nactions=0),\"i\",11,1:21,true)"
      ]
     },
     "metadata": {},
     "output_type": "display_data"
    }
   ],
   "source": [
    "Mostrar_varias_observables();"
   ]
  },
  {
   "cell_type": "code",
   "execution_count": null,
   "metadata": {
    "collapsed": true
   },
   "outputs": [],
   "source": []
  },
  {
   "cell_type": "code",
   "execution_count": null,
   "metadata": {
    "collapsed": false
   },
   "outputs": [],
   "source": []
  },
  {
   "cell_type": "code",
   "execution_count": null,
   "metadata": {
    "collapsed": true
   },
   "outputs": [],
   "source": []
  },
  {
   "cell_type": "code",
   "execution_count": null,
   "metadata": {
    "collapsed": true
   },
   "outputs": [],
   "source": []
  },
  {
   "cell_type": "code",
   "execution_count": null,
   "metadata": {
    "collapsed": true
   },
   "outputs": [],
   "source": []
  },
  {
   "cell_type": "markdown",
   "metadata": {},
   "source": [
    "# REALIZAR ANÁLISIS"
   ]
  },
  {
   "cell_type": "code",
   "execution_count": 81,
   "metadata": {
    "collapsed": false
   },
   "outputs": [
    {
     "data": {
      "text/plain": [
       "0-element Array{Array{T,N},1}"
      ]
     },
     "execution_count": 81,
     "metadata": {},
     "output_type": "execute_result"
    }
   ],
   "source": [
    "L_vec = [8,16,32]\n",
    "observables = Array[]"
   ]
  },
  {
   "cell_type": "code",
   "execution_count": 82,
   "metadata": {
    "collapsed": false
   },
   "outputs": [
    {
     "name": "stdout",
     "output_type": "stream",
     "text": [
      "WL2D_cuadrada_L_8_Is_ferr_cam_10_f_0.0001\n",
      "WL2D_cuadrada_L_16_Is_ferr_cam_10_f_0.0001\n",
      "WL2D_cuadrada_L_32_Is_ferr_cam_10_f_0.0001\n"
     ]
    }
   ],
   "source": [
    "analizar_varios_L(L_vec)"
   ]
  },
  {
   "cell_type": "code",
   "execution_count": 87,
   "metadata": {
    "collapsed": false
   },
   "outputs": [
    {
     "data": {
      "text/html": [],
      "text/plain": [
       "Interact.Slider{Int64}(Signal{Int64}(39, nactions=0),\"i\",39,1:1:77,true)"
      ]
     },
     "metadata": {},
     "output_type": "display_data"
    },
    {
     "data": {
      "text/html": [],
      "text/plain": [
       "Interact.Slider{Float64}(Signal{Float64}(5.5, nactions=0),\"γ\",5.5,1.0:0.5:10.0,true)"
      ]
     },
     "metadata": {},
     "output_type": "display_data"
    },
    {
     "data": {
      "text/html": [],
      "text/plain": [
       "Interact.Slider{Float64}(Signal{Float64}(5.5, nactions=0),\"ν\",5.5,1.0:0.5:10.0,true)"
      ]
     },
     "metadata": {},
     "output_type": "display_data"
    },
    {
     "data": {
      "image/png": "[encoded data removed]",
      "text/plain": [
       "PyPlot.Figure(PyObject <matplotlib.figure.Figure object at 0x31bdee940>)"
      ]
     },
     "execution_count": 87,
     "metadata": {
      "comm_id": "16596676-0264-436f-97ba-ea01b170650c",
      "reactive": true
     },
     "output_type": "execute_result"
    }
   ],
   "source": [
    "Graficar_variando_parámetros()"
   ]
  },
  {
   "cell_type": "code",
   "execution_count": 88,
   "metadata": {
    "collapsed": false
   },
   "outputs": [
    {
     "data": {
      "text/plain": [
       "3-element Array{Array{T,N},1}:\n",
       " 77x6 Array{Float64,2}:\n",
       " 0.4  30.375    10.0323   10.125      543.718   59.2974\n",
       " 0.5  30.375    10.0323   10.125      543.731   59.2988\n",
       " 0.6  30.3749   10.0323   10.125      543.912   59.3189\n",
       " 0.7  30.3741   10.0322   10.1248     545.022   59.442 \n",
       " 0.8  30.3712   10.0319   10.1241     549.16    59.9011\n",
       " 0.9  30.3636   10.031    10.1221     560.25    61.1317\n",
       " 1.0  30.3476   10.0292   10.1181     583.933   63.7615\n",
       " 1.1  30.3197   10.0261   10.1112     626.961   68.5451\n",
       " 1.2  30.2775   10.0213   10.1007     696.44    76.2834\n",
       " 1.3  30.2208   10.0148   10.0865     799.235   87.7611\n",
       " 1.4  30.1512   10.0066   10.0692     941.718  103.719 \n",
       " 1.5  30.0719    9.99714  10.0496    1129.88   124.866 \n",
       " 1.6  29.9858    9.98645  10.0286    1369.74   151.919 \n",
       " ⋮                                               ⋮     \n",
       " 6.9   6.6191    1.71694   1.70448  11218.2    753.729 \n",
       " 7.0   6.49734   1.69367   1.68098  10511.5    713.206 \n",
       " 7.1   6.38039   1.6717    1.65879   9884.07   677.505 \n",
       " 7.2   6.26798   1.65093   1.6378    9324.69   645.924 \n",
       " 7.3   6.15984   1.63126   1.61793   8823.95   617.883 \n",
       " 7.4   6.05574   1.6126    1.59908   8373.99   592.9   \n",
       " 7.5   5.95546   1.59487   1.58118   7968.22   570.572 \n",
       " 7.6   5.8588    1.57802   1.56415   7601.07   550.56  \n",
       " 7.7   5.76557   1.56197   1.54793   7267.81   532.579 \n",
       " 7.8   5.67559   1.54666   1.53247   6964.4    516.384 \n",
       " 7.9   5.58872   1.53205   1.51772   6687.4    501.767 \n",
       " 8.0   5.50479   1.51809   1.50362   6433.84   488.55  \n",
       " 77x6 Array{Float64,2}:\n",
       " 0.4  15.1875   5.01615   5.0625     135.929   14.8243\n",
       " 0.5  15.1875   5.01615   5.0625     135.933   14.8247\n",
       " 0.6  15.1874   5.01614   5.06248    135.978   14.8297\n",
       " 0.7  15.187    5.0161    5.06239    136.255   14.8605\n",
       " 0.8  15.1856   5.01594   5.06203    137.29    14.9753\n",
       " 0.9  15.1818   5.01551   5.06107    140.062   15.2829\n",
       " 1.0  15.1738   5.01461   5.05907    145.983   15.9404\n",
       " 1.1  15.1598   5.01303   5.05559    156.74    17.1363\n",
       " 1.2  15.1388   5.01064   5.05033    174.11    19.0708\n",
       " 1.3  15.1104   5.00738   5.04325    199.809   21.9403\n",
       " 1.4  15.0756   5.00332   5.03461    235.43    25.9298\n",
       " 1.5  15.0359   4.99857   5.02481    282.47    31.2164\n",
       " 1.6  14.9929   4.99323   5.01428    342.434   37.9798\n",
       " ⋮                                              ⋮     \n",
       " 6.9   3.30955  0.858472  0.852241  2804.56   188.432 \n",
       " 7.0   3.24867  0.846836  0.840488  2627.87   178.301 \n",
       " 7.1   3.1902   0.835852  0.829393  2471.02   169.376 \n",
       " 7.2   3.13399  0.825466  0.818902  2331.17   161.481 \n",
       " 7.3   3.07992  0.815629  0.808965  2205.99   154.471 \n",
       " 7.4   3.02787  0.806299  0.799541  2093.5    148.225 \n",
       " 7.5   2.97773  0.797437  0.790589  1992.06   142.643 \n",
       " 7.6   2.9294   0.789009  0.782075  1900.27   137.64  \n",
       " 7.7   2.88278  0.780983  0.773967  1816.95   133.145 \n",
       " 7.8   2.8378   0.77333   0.766237  1741.1    129.096 \n",
       " 7.9   2.79436  0.766026  0.758859  1671.85   125.442 \n",
       " 8.0   2.7524   0.759047  0.751809  1608.46   122.138                           \n",
       " 77x6 Array{Float64,2}:\n",
       " 0.4  7.59375  2.50808   2.53125    33.9824   3.70608\n",
       " 0.5  7.59375  2.50808   2.53125    33.9832   3.70618\n",
       " 0.6  7.59372  2.50807   2.53124    33.9945   3.70743\n",
       " 0.7  7.59352  2.50805   2.53119    34.0639   3.71513\n",
       " 0.8  7.5928   2.50797   2.53101    34.3225   3.74382\n",
       " 0.9  7.59089  2.50775   2.53053    35.0156   3.82073\n",
       " 1.0  7.58689  2.5073    2.52954    36.4958   3.9851 \n",
       " 1.1  7.57992  2.50652   2.52779    39.1851   4.28407\n",
       " 1.2  7.56938  2.50532   2.52516    43.5275   4.76771\n",
       " 1.3  7.5552   2.50369   2.52163    49.9522   5.48507\n",
       " 1.4  7.5378   2.50166   2.51731    58.8574   6.48244\n",
       " 1.5  7.51796  2.49928   2.51241    70.6176   7.80411\n",
       " 1.6  7.49646  2.49661   2.50714    85.6085   9.49496\n",
       " ⋮                                            ⋮      \n",
       " 6.9  1.65477  0.429236  0.42612   701.139   47.1081 \n",
       " 7.0  1.62433  0.423418  0.420244  656.967   44.5754 \n",
       " 7.1  1.5951   0.417926  0.414696  617.754   42.3441 \n",
       " 7.2  1.567    0.412733  0.409451  582.793   40.3702 \n",
       " 7.3  1.53996  0.407815  0.404483  551.497   38.6177 \n",
       " 7.4  1.51393  0.40315   0.39977   523.374   37.0562 \n",
       " 7.5  1.48886  0.398719  0.395294  498.014   35.6607 \n",
       " 7.6  1.4647   0.394504  0.391037  475.067   34.41   \n",
       " 7.7  1.44139  0.390491  0.386984  454.238   33.2862 \n",
       " 7.8  1.4189   0.386665  0.383119  435.275   32.274  \n",
       " 7.9  1.39718  0.383013  0.37943   417.963   31.3604 \n",
       " 8.0  1.3762   0.379523  0.375905  402.115   30.5344                                                     "
      ]
     },
     "execution_count": 88,
     "metadata": {},
     "output_type": "execute_result"
    }
   ],
   "source": [
    "observables"
   ]
  },
  {
   "cell_type": "code",
   "execution_count": null,
   "metadata": {
    "collapsed": true
   },
   "outputs": [],
   "source": []
  }
 ],
 "metadata": {
  "kernelspec": {
   "display_name": "Julia 0.4.3",
   "language": "julia",
   "name": "julia-0.4"
  },
  "language_info": {
   "file_extension": ".jl",
   "mimetype": "application/julia",
   "name": "julia",
   "version": "0.4.3"
  }
 },
 "nbformat": 4,
 "nbformat_minor": 0
}
